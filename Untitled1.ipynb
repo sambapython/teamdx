{
 "cells": [
  {
   "cell_type": "code",
   "execution_count": 2,
   "id": "453f77eb",
   "metadata": {},
   "outputs": [
    {
     "name": "stdout",
     "output_type": "stream",
     "text": [
      "dec2\n",
      "dec1\n",
      "INNER1\n",
      "INNER2\n",
      "result= 30\n"
     ]
    }
   ],
   "source": [
    "def dec1(f):\n",
    "    print(\"dec1\")\n",
    "    def inner(x,y):\n",
    "        print(\"INNER1\")\n",
    "        return f(x,y)\n",
    "    return inner\n",
    "def dec2(f):\n",
    "    print(\"dec2\")\n",
    "    def inner(x,y):\n",
    "        print(\"INNER2\")\n",
    "        return f(x,y)\n",
    "    return inner\n",
    "\n",
    "@dec1\n",
    "@dec2\n",
    "def add(x,y):\n",
    "    return x+y\n",
    "res=add(10,20)\n",
    "print(\"result=\",res)"
   ]
  },
  {
   "cell_type": "code",
   "execution_count": null,
   "id": "613e0946",
   "metadata": {},
   "outputs": [],
   "source": []
  }
 ],
 "metadata": {
  "kernelspec": {
   "display_name": "Python 3 (ipykernel)",
   "language": "python",
   "name": "python3"
  },
  "language_info": {
   "codemirror_mode": {
    "name": "ipython",
    "version": 3
   },
   "file_extension": ".py",
   "mimetype": "text/x-python",
   "name": "python",
   "nbconvert_exporter": "python",
   "pygments_lexer": "ipython3",
   "version": "3.11.3"
  }
 },
 "nbformat": 4,
 "nbformat_minor": 5
}
