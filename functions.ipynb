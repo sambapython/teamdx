{
 "cells": [
  {
   "cell_type": "code",
   "execution_count": 3,
   "id": "be62f2b5",
   "metadata": {},
   "outputs": [
    {
     "name": "stdout",
     "output_type": "stream",
     "text": [
      "********************\n",
      "10 20\n",
      "30\n",
      "********************\n",
      "1\n",
      "********************\n",
      "10 20\n",
      "30\n",
      "********************\n",
      "2\n",
      "********************\n",
      "10 20\n",
      "30\n",
      "********************\n"
     ]
    }
   ],
   "source": [
    "def fun():\n",
    "    print(\"*\"*20)\n",
    "    a=10\n",
    "    b=20\n",
    "    print(a,b)\n",
    "    res=a+b\n",
    "    print(res)\n",
    "    print(\"*\"*20)\n",
    "    \n",
    "fun()\n",
    "print(\"1\")\n",
    "fun()\n",
    "print(\"2\")\n",
    "fun()"
   ]
  },
  {
   "cell_type": "code",
   "execution_count": 4,
   "id": "2204904a",
   "metadata": {},
   "outputs": [],
   "source": [
    "def fun():\n",
    "    print(\"HELLO\")"
   ]
  },
  {
   "cell_type": "code",
   "execution_count": 5,
   "id": "c4602eb8",
   "metadata": {},
   "outputs": [
    {
     "name": "stdout",
     "output_type": "stream",
     "text": [
      "HI\n",
      "HELLO\n"
     ]
    }
   ],
   "source": [
    "def fun():\n",
    "    print(\"HELLO\")\n",
    "print(\"HI\")\n",
    "fun()"
   ]
  },
  {
   "cell_type": "code",
   "execution_count": 6,
   "id": "6bb2b5ec",
   "metadata": {},
   "outputs": [
    {
     "name": "stdout",
     "output_type": "stream",
     "text": [
      "HI\n",
      "HELLO\n"
     ]
    }
   ],
   "source": [
    "def fun1():\n",
    "    print(\"HYD\")\n",
    "def fun():\n",
    "    print(\"HELLO\")\n",
    "print(\"HI\")\n",
    "fun()"
   ]
  },
  {
   "cell_type": "code",
   "execution_count": 7,
   "id": "55d4cb77",
   "metadata": {},
   "outputs": [
    {
     "name": "stdout",
     "output_type": "stream",
     "text": [
      "HI\n",
      "HELLO\n",
      "BAN\n"
     ]
    }
   ],
   "source": [
    "def fun1():\n",
    "    print(\"HYD\")\n",
    "def fun():\n",
    "    print(\"HELLO\")\n",
    "print(\"HI\")\n",
    "fun()\n",
    "print(\"BAN\")"
   ]
  },
  {
   "cell_type": "code",
   "execution_count": 8,
   "id": "bd9349d2",
   "metadata": {},
   "outputs": [
    {
     "name": "stdout",
     "output_type": "stream",
     "text": [
      "HI\n",
      "HELLO\n",
      "BAN\n",
      "HELLO\n"
     ]
    }
   ],
   "source": [
    "def fun1():\n",
    "    print(\"HYD\")\n",
    "def fun():\n",
    "    print(\"HELLO\")\n",
    "print(\"HI\")\n",
    "fun()\n",
    "print(\"BAN\")\n",
    "fun()"
   ]
  },
  {
   "cell_type": "code",
   "execution_count": 9,
   "id": "b21d10ea",
   "metadata": {},
   "outputs": [
    {
     "name": "stdout",
     "output_type": "stream",
     "text": [
      "HI\n",
      "HELLO\n",
      "BAN\n",
      "HELLO\n",
      "HYD\n"
     ]
    }
   ],
   "source": [
    "def fun1():\n",
    "    print(\"HYD\")\n",
    "def fun():\n",
    "    print(\"HELLO\")\n",
    "print(\"HI\")\n",
    "fun()\n",
    "print(\"BAN\")\n",
    "fun()\n",
    "fun1()"
   ]
  },
  {
   "cell_type": "code",
   "execution_count": 10,
   "id": "8ce3f650",
   "metadata": {},
   "outputs": [
    {
     "name": "stdout",
     "output_type": "stream",
     "text": [
      "HI\n",
      "HELLO\n",
      "BAN\n",
      "HELLO\n",
      "CHE\n",
      "HYD\n"
     ]
    }
   ],
   "source": [
    "def fun1():\n",
    "    print(\"HYD\")\n",
    "def fun():\n",
    "    print(\"HELLO\")\n",
    "print(\"HI\")\n",
    "fun()\n",
    "print(\"BAN\")\n",
    "fun()\n",
    "print(\"CHE\")\n",
    "fun1()"
   ]
  },
  {
   "cell_type": "code",
   "execution_count": 11,
   "id": "833c408e",
   "metadata": {},
   "outputs": [
    {
     "name": "stdout",
     "output_type": "stream",
     "text": [
      "HI\n",
      "HELLO\n",
      "BAN\n",
      "HELLO\n",
      "CHENNAI\n",
      "HYD\n"
     ]
    }
   ],
   "source": [
    "def fun1():\n",
    "    print(\"HYD\")\n",
    "def fun():\n",
    "    print(\"HELLO\")\n",
    "print(\"HI\")\n",
    "fun()\n",
    "print(\"BAN\")\n",
    "fun()\n",
    "print(\"CHENNAI\")\n",
    "fun1()"
   ]
  },
  {
   "cell_type": "code",
   "execution_count": 12,
   "id": "a8b247a3",
   "metadata": {},
   "outputs": [
    {
     "name": "stdout",
     "output_type": "stream",
     "text": [
      "HI\n",
      "HELLO\n",
      "BAN\n",
      "HELLO\n",
      "HYD\n",
      "HELLO\n"
     ]
    }
   ],
   "source": [
    "def fun1():\n",
    "    print(\"HYD\")\n",
    "def fun():\n",
    "    print(\"HELLO\")\n",
    "print(\"HI\")\n",
    "fun()\n",
    "print(\"BAN\")\n",
    "fun()\n",
    "fun1()\n",
    "fun()"
   ]
  },
  {
   "cell_type": "code",
   "execution_count": 13,
   "id": "f3a7358b",
   "metadata": {},
   "outputs": [
    {
     "name": "stdout",
     "output_type": "stream",
     "text": [
      "HELLO\n"
     ]
    }
   ],
   "source": [
    "def add(x,y):\n",
    "    print(f\"x={x},y={y}\")\n",
    "    z=x+y\n",
    "    print(\"z=\",z)\n",
    "print(\"HELLO\")"
   ]
  },
  {
   "cell_type": "code",
   "execution_count": 14,
   "id": "4b692105",
   "metadata": {},
   "outputs": [
    {
     "name": "stdout",
     "output_type": "stream",
     "text": [
      "HELLO\n",
      "x=1,y=2\n",
      "z= 3\n"
     ]
    }
   ],
   "source": [
    "def add(x,y):#x=1, y=2\n",
    "    print(f\"x={x},y={y}\")\n",
    "    z=x+y\n",
    "    print(\"z=\",z)\n",
    "print(\"HELLO\")\n",
    "add(1,2)"
   ]
  },
  {
   "cell_type": "code",
   "execution_count": 15,
   "id": "4ddcc8a0",
   "metadata": {},
   "outputs": [
    {
     "name": "stdout",
     "output_type": "stream",
     "text": [
      "HELLO\n",
      "x=1,y=2\n",
      "z= 3\n",
      "HI\n",
      "x=10,y=20\n",
      "z= 30\n"
     ]
    }
   ],
   "source": [
    "def add(x,y):\n",
    "    print(f\"x={x},y={y}\")\n",
    "    z=x+y\n",
    "    print(\"z=\",z)\n",
    "print(\"HELLO\")\n",
    "add(1,2)\n",
    "print(\"HI\")\n",
    "add(10,20)\n"
   ]
  },
  {
   "cell_type": "code",
   "execution_count": 16,
   "id": "53f1c658",
   "metadata": {},
   "outputs": [
    {
     "name": "stdout",
     "output_type": "stream",
     "text": [
      "HELLO\n",
      "x=1,y=2\n",
      "z= 3\n",
      "HI\n",
      "x=10,y=20\n",
      "z= 30\n"
     ]
    }
   ],
   "source": [
    "def add(x,y):\n",
    "    print(f\"x={x},y={y}\")\n",
    "    z=x+y\n",
    "    print(\"z=\",z)\n",
    "def sub(a,b):\n",
    "    res=a-b\n",
    "    print(res)\n",
    "print(\"HELLO\")\n",
    "add(1,2)\n",
    "print(\"HI\")\n",
    "add(10,20)\n"
   ]
  },
  {
   "cell_type": "code",
   "execution_count": 17,
   "id": "8867f581",
   "metadata": {},
   "outputs": [
    {
     "name": "stdout",
     "output_type": "stream",
     "text": [
      "30\n",
      "-10\n",
      "200\n",
      "0.5\n"
     ]
    }
   ],
   "source": [
    "def add(x,y):# signature: x,y\" parameters: add function name\n",
    "    print(x+y)# function body\n",
    "def sub(a,b):\n",
    "    print(a-b)\n",
    "def mul(p,q):\n",
    "    print(p*q)\n",
    "def div(x,y):\n",
    "    print(x/y)\n",
    "    \n",
    "add(10,20)#10,20 arguments\n",
    "sub(10,20)\n",
    "mul(10,20)\n",
    "div(10,20)"
   ]
  },
  {
   "cell_type": "code",
   "execution_count": 18,
   "id": "42d1328a",
   "metadata": {},
   "outputs": [
    {
     "ename": "TypeError",
     "evalue": "fun() missing 2 required positional arguments: 'x' and 'y'",
     "output_type": "error",
     "traceback": [
      "\u001b[1;31m---------------------------------------------------------------------------\u001b[0m",
      "\u001b[1;31mTypeError\u001b[0m                                 Traceback (most recent call last)",
      "Cell \u001b[1;32mIn[18], line 3\u001b[0m\n\u001b[0;32m      1\u001b[0m \u001b[38;5;28;01mdef\u001b[39;00m \u001b[38;5;21mfun\u001b[39m(x,y):\n\u001b[0;32m      2\u001b[0m     \u001b[38;5;28mprint\u001b[39m(\u001b[38;5;124mf\u001b[39m\u001b[38;5;124m\"\u001b[39m\u001b[38;5;124mx=\u001b[39m\u001b[38;5;132;01m{\u001b[39;00mx\u001b[38;5;132;01m}\u001b[39;00m\u001b[38;5;124m, y=\u001b[39m\u001b[38;5;132;01m{\u001b[39;00my\u001b[38;5;132;01m}\u001b[39;00m\u001b[38;5;124m\"\u001b[39m)\n\u001b[1;32m----> 3\u001b[0m fun()\n",
      "\u001b[1;31mTypeError\u001b[0m: fun() missing 2 required positional arguments: 'x' and 'y'"
     ]
    }
   ],
   "source": [
    "def fun(x,y):\n",
    "    print(f\"x={x}, y={y}\")\n",
    "fun()"
   ]
  },
  {
   "cell_type": "code",
   "execution_count": 19,
   "id": "15c7c0ad",
   "metadata": {},
   "outputs": [
    {
     "name": "stdout",
     "output_type": "stream",
     "text": [
      "x=10, y=20\n"
     ]
    }
   ],
   "source": [
    "def fun(x,y):\n",
    "    print(f\"x={x}, y={y}\")\n",
    "fun(10,20)"
   ]
  },
  {
   "cell_type": "code",
   "execution_count": 20,
   "id": "a1dcd7bb",
   "metadata": {},
   "outputs": [
    {
     "ename": "TypeError",
     "evalue": "fun() missing 1 required positional argument: 'y'",
     "output_type": "error",
     "traceback": [
      "\u001b[1;31m---------------------------------------------------------------------------\u001b[0m",
      "\u001b[1;31mTypeError\u001b[0m                                 Traceback (most recent call last)",
      "Cell \u001b[1;32mIn[20], line 3\u001b[0m\n\u001b[0;32m      1\u001b[0m \u001b[38;5;28;01mdef\u001b[39;00m \u001b[38;5;21mfun\u001b[39m(x,y):\n\u001b[0;32m      2\u001b[0m     \u001b[38;5;28mprint\u001b[39m(\u001b[38;5;124mf\u001b[39m\u001b[38;5;124m\"\u001b[39m\u001b[38;5;124mx=\u001b[39m\u001b[38;5;132;01m{\u001b[39;00mx\u001b[38;5;132;01m}\u001b[39;00m\u001b[38;5;124m, y=\u001b[39m\u001b[38;5;132;01m{\u001b[39;00my\u001b[38;5;132;01m}\u001b[39;00m\u001b[38;5;124m\"\u001b[39m)\n\u001b[1;32m----> 3\u001b[0m fun(\u001b[38;5;241m10\u001b[39m)\n",
      "\u001b[1;31mTypeError\u001b[0m: fun() missing 1 required positional argument: 'y'"
     ]
    }
   ],
   "source": [
    "def fun(x,y):\n",
    "    print(f\"x={x}, y={y}\")\n",
    "fun(10)"
   ]
  },
  {
   "cell_type": "code",
   "execution_count": 21,
   "id": "5168bcd9",
   "metadata": {},
   "outputs": [
    {
     "name": "stdout",
     "output_type": "stream",
     "text": [
      "a=1, b=2,c=3,d=4\n",
      "10\n"
     ]
    }
   ],
   "source": [
    "def add(a,b,c,d):\n",
    "    print(f\"a={a}, b={b},c={c},d={d}\")\n",
    "    print(a+b+c+d)\n",
    "add(1,2,3,4)"
   ]
  },
  {
   "cell_type": "code",
   "execution_count": 22,
   "id": "feafe706",
   "metadata": {},
   "outputs": [
    {
     "name": "stdout",
     "output_type": "stream",
     "text": [
      "a=1, b=2,c=0,d=0\n",
      "3\n"
     ]
    }
   ],
   "source": [
    "def add(a,b,c=0,d=0):\n",
    "    print(f\"a={a}, b={b},c={c},d={d}\")\n",
    "    print(a+b+c+d)\n",
    "add(1,2)"
   ]
  },
  {
   "cell_type": "code",
   "execution_count": 23,
   "id": "15a7168f",
   "metadata": {},
   "outputs": [
    {
     "name": "stdout",
     "output_type": "stream",
     "text": [
      "a=1, b=2,c=3,d=0\n",
      "6\n"
     ]
    }
   ],
   "source": [
    "def add(a,b,c=0,d=0):\n",
    "    print(f\"a={a}, b={b},c={c},d={d}\")\n",
    "    print(a+b+c+d)\n",
    "add(1,2,3)"
   ]
  },
  {
   "cell_type": "code",
   "execution_count": 24,
   "id": "6a700f9a",
   "metadata": {},
   "outputs": [
    {
     "name": "stdout",
     "output_type": "stream",
     "text": [
      "a=1, b=2,c=3,d=4\n",
      "10\n"
     ]
    }
   ],
   "source": [
    "def add(a,b,c=0,d=0):\n",
    "    print(f\"a={a}, b={b},c={c},d={d}\")\n",
    "    print(a+b+c+d)\n",
    "add(1,2,3,4)"
   ]
  },
  {
   "cell_type": "code",
   "execution_count": 25,
   "id": "d3032a35",
   "metadata": {},
   "outputs": [
    {
     "name": "stdout",
     "output_type": "stream",
     "text": [
      "a=1, b=2,c=0,d=4\n",
      "7\n"
     ]
    }
   ],
   "source": [
    "def add(a,b,c=0,d=0):\n",
    "    print(f\"a={a}, b={b},c={c},d={d}\")\n",
    "    print(a+b+c+d)\n",
    "add(1,2,0,4)"
   ]
  },
  {
   "cell_type": "code",
   "execution_count": 26,
   "id": "a296c69d",
   "metadata": {},
   "outputs": [],
   "source": [
    "import pandas as pd"
   ]
  },
  {
   "cell_type": "code",
   "execution_count": 27,
   "id": "fd753092",
   "metadata": {},
   "outputs": [],
   "source": [
    "pd.read_csv?"
   ]
  },
  {
   "cell_type": "code",
   "execution_count": 28,
   "id": "ca6b8432",
   "metadata": {},
   "outputs": [
    {
     "name": "stdout",
     "output_type": "stream",
     "text": [
      "a=1, b=2,c=0,d=4\n",
      "7\n"
     ]
    }
   ],
   "source": [
    "def add(a,b,c=0,d=0):\n",
    "    print(f\"a={a}, b={b},c={c},d={d}\")\n",
    "    print(a+b+c+d)\n",
    "add(1,2,d=4)#1,2 positional arguments. d=4: keyword argument"
   ]
  },
  {
   "cell_type": "code",
   "execution_count": 29,
   "id": "3850479f",
   "metadata": {},
   "outputs": [
    {
     "name": "stdout",
     "output_type": "stream",
     "text": [
      "a=2, b=1,c=0,d=4\n",
      "7\n"
     ]
    }
   ],
   "source": [
    "def add(a,b,c=0,d=0):\n",
    "    print(f\"a={a}, b={b},c={c},d={d}\")\n",
    "    print(a+b+c+d)\n",
    "add(b=1,a=2,d=4)#1,2 positional arguments. d=4: keyword argument"
   ]
  },
  {
   "cell_type": "code",
   "execution_count": 30,
   "id": "31935810",
   "metadata": {},
   "outputs": [
    {
     "ename": "TypeError",
     "evalue": "add() missing 1 required positional argument: 'a'",
     "output_type": "error",
     "traceback": [
      "\u001b[1;31m---------------------------------------------------------------------------\u001b[0m",
      "\u001b[1;31mTypeError\u001b[0m                                 Traceback (most recent call last)",
      "Cell \u001b[1;32mIn[30], line 4\u001b[0m\n\u001b[0;32m      2\u001b[0m     \u001b[38;5;28mprint\u001b[39m(\u001b[38;5;124mf\u001b[39m\u001b[38;5;124m\"\u001b[39m\u001b[38;5;124ma=\u001b[39m\u001b[38;5;132;01m{\u001b[39;00ma\u001b[38;5;132;01m}\u001b[39;00m\u001b[38;5;124m, b=\u001b[39m\u001b[38;5;132;01m{\u001b[39;00mb\u001b[38;5;132;01m}\u001b[39;00m\u001b[38;5;124m,c=\u001b[39m\u001b[38;5;132;01m{\u001b[39;00mc\u001b[38;5;132;01m}\u001b[39;00m\u001b[38;5;124m,d=\u001b[39m\u001b[38;5;132;01m{\u001b[39;00md\u001b[38;5;132;01m}\u001b[39;00m\u001b[38;5;124m\"\u001b[39m)\n\u001b[0;32m      3\u001b[0m     \u001b[38;5;28mprint\u001b[39m(a\u001b[38;5;241m+\u001b[39mb\u001b[38;5;241m+\u001b[39mc\u001b[38;5;241m+\u001b[39md)\n\u001b[1;32m----> 4\u001b[0m add(b\u001b[38;5;241m=\u001b[39m\u001b[38;5;241m1\u001b[39m,d\u001b[38;5;241m=\u001b[39m\u001b[38;5;241m4\u001b[39m)\n",
      "\u001b[1;31mTypeError\u001b[0m: add() missing 1 required positional argument: 'a'"
     ]
    }
   ],
   "source": [
    "def add(a,b,c=0,d=0):\n",
    "    print(f\"a={a}, b={b},c={c},d={d}\")\n",
    "    print(a+b+c+d)\n",
    "add(b=1,d=4)#1,2 positional arguments. d=4: keyword argument"
   ]
  },
  {
   "cell_type": "code",
   "execution_count": null,
   "id": "168fa7c4",
   "metadata": {},
   "outputs": [],
   "source": [
    "#add 1 required, optional: minimum 1, maximum:? \n",
    "def add(a,b=0,c=0,d=0,e=0,f=0......)\n",
    "add(1)\n",
    "add(1,2,3,4,5,6,7,8,89)\n",
    "add(1,2,3,4,5,6,7,8,9,10,11,12,13,14,15,16,17,18,19,20,21,22,23,24,25,26,27,28,29)"
   ]
  },
  {
   "cell_type": "code",
   "execution_count": 31,
   "id": "b9997c99",
   "metadata": {},
   "outputs": [
    {
     "name": "stdout",
     "output_type": "stream",
     "text": [
      "a=1, k=(2, 3, 4, 5, 6) <class 'tuple'>\n"
     ]
    }
   ],
   "source": [
    "def add(a,*k):\n",
    "    print(f\"a={a}, k={k}\", type(k))\n",
    "add(1,2,3,4,5,6)\n"
   ]
  },
  {
   "cell_type": "code",
   "execution_count": 32,
   "id": "6788a982",
   "metadata": {},
   "outputs": [
    {
     "name": "stdout",
     "output_type": "stream",
     "text": [
      "a=10, k=() <class 'tuple'>\n",
      "a=1, k=(2, 3, 4, 5, 6) <class 'tuple'>\n"
     ]
    }
   ],
   "source": [
    "def add(a,*k):\n",
    "    print(f\"a={a}, k={k}\", type(k))\n",
    "add(10)\n",
    "add(1,2,3,4,5,6)\n"
   ]
  },
  {
   "cell_type": "code",
   "execution_count": 33,
   "id": "9d1662d8",
   "metadata": {},
   "outputs": [
    {
     "ename": "TypeError",
     "evalue": "add() got an unexpected keyword argument 'b'",
     "output_type": "error",
     "traceback": [
      "\u001b[1;31m---------------------------------------------------------------------------\u001b[0m",
      "\u001b[1;31mTypeError\u001b[0m                                 Traceback (most recent call last)",
      "Cell \u001b[1;32mIn[33], line 3\u001b[0m\n\u001b[0;32m      1\u001b[0m \u001b[38;5;28;01mdef\u001b[39;00m \u001b[38;5;21madd\u001b[39m(a,\u001b[38;5;241m*\u001b[39mk):\n\u001b[0;32m      2\u001b[0m     \u001b[38;5;28mprint\u001b[39m(\u001b[38;5;124mf\u001b[39m\u001b[38;5;124m\"\u001b[39m\u001b[38;5;124ma=\u001b[39m\u001b[38;5;132;01m{\u001b[39;00ma\u001b[38;5;132;01m}\u001b[39;00m\u001b[38;5;124m, k=\u001b[39m\u001b[38;5;132;01m{\u001b[39;00mk\u001b[38;5;132;01m}\u001b[39;00m\u001b[38;5;124m\"\u001b[39m, \u001b[38;5;28mtype\u001b[39m(k))\n\u001b[1;32m----> 3\u001b[0m add(a\u001b[38;5;241m=\u001b[39m\u001b[38;5;241m10\u001b[39m,b\u001b[38;5;241m=\u001b[39m\u001b[38;5;241m20\u001b[39m,c\u001b[38;5;241m=\u001b[39m\u001b[38;5;241m30\u001b[39m,d\u001b[38;5;241m=\u001b[39m\u001b[38;5;241m40\u001b[39m)\n\u001b[0;32m      4\u001b[0m add(\u001b[38;5;241m1\u001b[39m,\u001b[38;5;241m2\u001b[39m,\u001b[38;5;241m3\u001b[39m,\u001b[38;5;241m4\u001b[39m,\u001b[38;5;241m5\u001b[39m,\u001b[38;5;241m6\u001b[39m)\n",
      "\u001b[1;31mTypeError\u001b[0m: add() got an unexpected keyword argument 'b'"
     ]
    }
   ],
   "source": [
    "def add(a,*k):\n",
    "    print(f\"a={a}, k={k}\", type(k))\n",
    "add(a=10,b=20,c=30,d=40)\n",
    "add(1,2,3,4,5,6)\n"
   ]
  },
  {
   "cell_type": "code",
   "execution_count": 34,
   "id": "5525995d",
   "metadata": {},
   "outputs": [
    {
     "name": "stdout",
     "output_type": "stream",
     "text": [
      "a=10, k={'b': 20, 'c': 30, 'd': 40} <class 'dict'>\n"
     ]
    },
    {
     "ename": "TypeError",
     "evalue": "add() takes 1 positional argument but 6 were given",
     "output_type": "error",
     "traceback": [
      "\u001b[1;31m---------------------------------------------------------------------------\u001b[0m",
      "\u001b[1;31mTypeError\u001b[0m                                 Traceback (most recent call last)",
      "Cell \u001b[1;32mIn[34], line 4\u001b[0m\n\u001b[0;32m      2\u001b[0m     \u001b[38;5;28mprint\u001b[39m(\u001b[38;5;124mf\u001b[39m\u001b[38;5;124m\"\u001b[39m\u001b[38;5;124ma=\u001b[39m\u001b[38;5;132;01m{\u001b[39;00ma\u001b[38;5;132;01m}\u001b[39;00m\u001b[38;5;124m, k=\u001b[39m\u001b[38;5;132;01m{\u001b[39;00mk\u001b[38;5;132;01m}\u001b[39;00m\u001b[38;5;124m\"\u001b[39m, \u001b[38;5;28mtype\u001b[39m(k))\n\u001b[0;32m      3\u001b[0m add(a\u001b[38;5;241m=\u001b[39m\u001b[38;5;241m10\u001b[39m,b\u001b[38;5;241m=\u001b[39m\u001b[38;5;241m20\u001b[39m,c\u001b[38;5;241m=\u001b[39m\u001b[38;5;241m30\u001b[39m,d\u001b[38;5;241m=\u001b[39m\u001b[38;5;241m40\u001b[39m)\n\u001b[1;32m----> 4\u001b[0m add(\u001b[38;5;241m1\u001b[39m,\u001b[38;5;241m2\u001b[39m,\u001b[38;5;241m3\u001b[39m,\u001b[38;5;241m4\u001b[39m,\u001b[38;5;241m5\u001b[39m,\u001b[38;5;241m6\u001b[39m)\n",
      "\u001b[1;31mTypeError\u001b[0m: add() takes 1 positional argument but 6 were given"
     ]
    }
   ],
   "source": [
    "def add(a,**k):\n",
    "    print(f\"a={a}, k={k}\", type(k))\n",
    "add(a=10,b=20,c=30,d=40)\n",
    "add(1,2,3,4,5,6)\n"
   ]
  },
  {
   "cell_type": "code",
   "execution_count": 35,
   "id": "d4bb9a72",
   "metadata": {},
   "outputs": [],
   "source": [
    "#*k: *args,  **K: **kwargs"
   ]
  },
  {
   "cell_type": "code",
   "execution_count": 36,
   "id": "535bfc13",
   "metadata": {},
   "outputs": [
    {
     "name": "stdout",
     "output_type": "stream",
     "text": [
      "a=1, args=(), kwargs={}\n"
     ]
    }
   ],
   "source": [
    "def add(a,*args, **kwargs):\n",
    "    print(f\"a={a}, args={args}, kwargs={kwargs}\")\n",
    "add(1)"
   ]
  },
  {
   "cell_type": "code",
   "execution_count": 37,
   "id": "b3a0cb3b",
   "metadata": {},
   "outputs": [
    {
     "name": "stdout",
     "output_type": "stream",
     "text": [
      "a=1, args=(20, 30), kwargs={}\n"
     ]
    }
   ],
   "source": [
    "def add(a,*args, **kwargs):\n",
    "    print(f\"a={a}, args={args}, kwargs={kwargs}\")\n",
    "add(1,20,30)"
   ]
  },
  {
   "cell_type": "code",
   "execution_count": 38,
   "id": "b1acf3d9",
   "metadata": {},
   "outputs": [
    {
     "ename": "TypeError",
     "evalue": "add() got multiple values for argument 'a'",
     "output_type": "error",
     "traceback": [
      "\u001b[1;31m---------------------------------------------------------------------------\u001b[0m",
      "\u001b[1;31mTypeError\u001b[0m                                 Traceback (most recent call last)",
      "Cell \u001b[1;32mIn[38], line 3\u001b[0m\n\u001b[0;32m      1\u001b[0m \u001b[38;5;28;01mdef\u001b[39;00m \u001b[38;5;21madd\u001b[39m(a,\u001b[38;5;241m*\u001b[39margs, \u001b[38;5;241m*\u001b[39m\u001b[38;5;241m*\u001b[39mkwargs):\n\u001b[0;32m      2\u001b[0m     \u001b[38;5;28mprint\u001b[39m(\u001b[38;5;124mf\u001b[39m\u001b[38;5;124m\"\u001b[39m\u001b[38;5;124ma=\u001b[39m\u001b[38;5;132;01m{\u001b[39;00ma\u001b[38;5;132;01m}\u001b[39;00m\u001b[38;5;124m, args=\u001b[39m\u001b[38;5;132;01m{\u001b[39;00margs\u001b[38;5;132;01m}\u001b[39;00m\u001b[38;5;124m, kwargs=\u001b[39m\u001b[38;5;132;01m{\u001b[39;00mkwargs\u001b[38;5;132;01m}\u001b[39;00m\u001b[38;5;124m\"\u001b[39m)\n\u001b[1;32m----> 3\u001b[0m add(\u001b[38;5;241m1\u001b[39m,\u001b[38;5;241m20\u001b[39m,\u001b[38;5;241m30\u001b[39m,a\u001b[38;5;241m=\u001b[39m\u001b[38;5;241m23\u001b[39m)\n",
      "\u001b[1;31mTypeError\u001b[0m: add() got multiple values for argument 'a'"
     ]
    }
   ],
   "source": [
    "def add(a,*args, **kwargs):\n",
    "    print(f\"a={a}, args={args}, kwargs={kwargs}\")\n",
    "add(1,20,30,a=23)"
   ]
  },
  {
   "cell_type": "code",
   "execution_count": 39,
   "id": "eaa8c935",
   "metadata": {},
   "outputs": [
    {
     "name": "stdout",
     "output_type": "stream",
     "text": [
      "a=1, args=(20, 30), kwargs={'b': 23}\n"
     ]
    }
   ],
   "source": [
    "def add(a,*args, **kwargs):\n",
    "    print(f\"a={a}, args={args}, kwargs={kwargs}\")\n",
    "add(1,20,30,b=23)"
   ]
  },
  {
   "cell_type": "code",
   "execution_count": 40,
   "id": "9480d608",
   "metadata": {},
   "outputs": [
    {
     "ename": "SyntaxError",
     "evalue": "positional argument follows keyword argument (548655250.py, line 3)",
     "output_type": "error",
     "traceback": [
      "\u001b[1;36m  Cell \u001b[1;32mIn[40], line 3\u001b[1;36m\u001b[0m\n\u001b[1;33m    add(a=10,20,30,b=23)\u001b[0m\n\u001b[1;37m                       ^\u001b[0m\n\u001b[1;31mSyntaxError\u001b[0m\u001b[1;31m:\u001b[0m positional argument follows keyword argument\n"
     ]
    }
   ],
   "source": [
    "def add(a,*args, **kwargs):\n",
    "    print(f\"a={a}, args={args}, kwargs={kwargs}\")\n",
    "add(a=10,20,30,b=23)"
   ]
  },
  {
   "cell_type": "code",
   "execution_count": null,
   "id": "ab60f2fd",
   "metadata": {},
   "outputs": [],
   "source": [
    "x=1000\n",
    "def fun(x,y):\n",
    "    print(x)\n",
    "    x=200\n",
    "    print(x)\n",
    "fun(10,20)\n",
    "print(x)\n",
    "    \n",
    "    \n"
   ]
  },
  {
   "cell_type": "code",
   "execution_count": 41,
   "id": "b2fe960c",
   "metadata": {},
   "outputs": [],
   "source": [
    "def fun(x):\n",
    "    print(x)"
   ]
  },
  {
   "cell_type": "code",
   "execution_count": 42,
   "id": "9bd9bfad",
   "metadata": {},
   "outputs": [
    {
     "name": "stdout",
     "output_type": "stream",
     "text": [
      "[20, 2, 3, 4]\n"
     ]
    }
   ],
   "source": [
    "k=[1,2,3,4]\n",
    "def fun(x):\n",
    "    x[0]=20\n",
    "fun(k)\n",
    "print(k)"
   ]
  },
  {
   "cell_type": "code",
   "execution_count": 43,
   "id": "8e75fb60",
   "metadata": {},
   "outputs": [
    {
     "name": "stdout",
     "output_type": "stream",
     "text": [
      "0\n"
     ]
    }
   ],
   "source": [
    "k=0\n",
    "def fun(x):\n",
    "    x=20\n",
    "fun(k)\n",
    "print(k)"
   ]
  },
  {
   "cell_type": "code",
   "execution_count": 44,
   "id": "7680bf18",
   "metadata": {},
   "outputs": [
    {
     "name": "stdout",
     "output_type": "stream",
     "text": [
      "<function add at 0x00000246DA9A71A0>\n",
      "2503338520992\n",
      "<class 'function'>\n"
     ]
    }
   ],
   "source": [
    "def add(x,y):\n",
    "    print(x+y)\n",
    "print(add)\n",
    "print(id(add))\n",
    "print(type(add))"
   ]
  },
  {
   "cell_type": "code",
   "execution_count": 45,
   "id": "de5077e2",
   "metadata": {},
   "outputs": [
    {
     "name": "stdout",
     "output_type": "stream",
     "text": [
      "0\n",
      "<function add at 0x00000246DA9A67A0>\n"
     ]
    }
   ],
   "source": [
    "k=0\n",
    "def add():\n",
    "    print(\"hello\")\n",
    "s=k\n",
    "s1=add\n",
    "print(s)\n",
    "print(s1)"
   ]
  },
  {
   "cell_type": "code",
   "execution_count": 46,
   "id": "c1d56d1e",
   "metadata": {},
   "outputs": [
    {
     "name": "stdout",
     "output_type": "stream",
     "text": [
      "0\n",
      "<function add at 0x00000246DA9A7BA0>\n",
      "hello\n"
     ]
    }
   ],
   "source": [
    "k=0\n",
    "def add():\n",
    "    print(\"hello\")\n",
    "s=k\n",
    "s1=add\n",
    "print(s)\n",
    "print(s1)\n",
    "s1()"
   ]
  },
  {
   "cell_type": "code",
   "execution_count": 47,
   "id": "08ea8bad",
   "metadata": {},
   "outputs": [
    {
     "name": "stdout",
     "output_type": "stream",
     "text": [
      "a=1000, b=2000\n",
      "3000\n",
      "DONE\n"
     ]
    }
   ],
   "source": [
    "x=1000\n",
    "y=2000\n",
    "a=1\n",
    "def add(a,b):\n",
    "    print(f\"a={a}, b={b}\")\n",
    "    z=a+b\n",
    "    x=10\n",
    "    print(z)\n",
    "add(x,y)\n",
    "print(\"DONE\")"
   ]
  },
  {
   "cell_type": "code",
   "execution_count": 48,
   "id": "89f23465",
   "metadata": {},
   "outputs": [
    {
     "name": "stdout",
     "output_type": "stream",
     "text": [
      "[20, 2, 3, 4]\n"
     ]
    }
   ],
   "source": [
    "k=[1,2,3,4]\n",
    "def fun(x):\n",
    "    x[0]=20\n",
    "fun(k)\n",
    "print(k)"
   ]
  },
  {
   "cell_type": "code",
   "execution_count": null,
   "id": "a785b95f",
   "metadata": {},
   "outputs": [],
   "source": [
    "k=1000\n",
    "z=3000\n",
    "def fun(x):\n",
    "    x=z\n",
    "fun(k)\n",
    "print(k)"
   ]
  },
  {
   "cell_type": "code",
   "execution_count": null,
   "id": "6716ff88",
   "metadata": {},
   "outputs": [],
   "source": [
    "k=1000\n",
    "z=3000\n",
    "def fun(x):\n",
    "    z=x\n",
    "fun(k)\n",
    "print(k)\n",
    "print(z)"
   ]
  },
  {
   "cell_type": "code",
   "execution_count": null,
   "id": "d59c35f1",
   "metadata": {},
   "outputs": [],
   "source": [
    "x=1000\n",
    "y=2000\n",
    "z=3000\n",
    "def fun(a,b):\n",
    "    c=a+b\n",
    "    x=10\n",
    "    y=20\n",
    "    print(f\"inside fun x={x}, y={y}, z={z}\")\n",
    "fun(x,y)\n",
    "print(x,y,z)\n",
    "print(f\"outside fun x={x}, y={y}, z={z}\")\n"
   ]
  }
 ],
 "metadata": {
  "kernelspec": {
   "display_name": "Python 3 (ipykernel)",
   "language": "python",
   "name": "python3"
  },
  "language_info": {
   "codemirror_mode": {
    "name": "ipython",
    "version": 3
   },
   "file_extension": ".py",
   "mimetype": "text/x-python",
   "name": "python",
   "nbconvert_exporter": "python",
   "pygments_lexer": "ipython3",
   "version": "3.11.3"
  }
 },
 "nbformat": 4,
 "nbformat_minor": 5
}
