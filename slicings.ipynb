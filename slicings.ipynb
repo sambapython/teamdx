{
 "cells": [
  {
   "cell_type": "code",
   "execution_count": 1,
   "id": "f503f38a",
   "metadata": {},
   "outputs": [
    {
     "name": "stdout",
     "output_type": "stream",
     "text": [
      "a\n"
     ]
    }
   ],
   "source": [
    "s=\"abcdefghijkl\"\n",
    "print(s[0])"
   ]
  },
  {
   "cell_type": "code",
   "execution_count": 2,
   "id": "6b4c4c23",
   "metadata": {},
   "outputs": [
    {
     "name": "stdout",
     "output_type": "stream",
     "text": [
      "b\n"
     ]
    }
   ],
   "source": [
    "s=\"abcdefghijkl\"\n",
    "print(s[1])"
   ]
  },
  {
   "cell_type": "code",
   "execution_count": 3,
   "id": "e93fe518",
   "metadata": {},
   "outputs": [
    {
     "name": "stdout",
     "output_type": "stream",
     "text": [
      "l\n"
     ]
    }
   ],
   "source": [
    "s=\"abcdefghijkl\"\n",
    "print(s[-1])"
   ]
  },
  {
   "cell_type": "code",
   "execution_count": 5,
   "id": "cbce7c11",
   "metadata": {},
   "outputs": [
    {
     "name": "stdout",
     "output_type": "stream",
     "text": [
      "a\n",
      "a\n"
     ]
    }
   ],
   "source": [
    "s=\"abcdefghijkl\"\n",
    "print(s[0])\n",
    "print(s[-12])"
   ]
  },
  {
   "cell_type": "code",
   "execution_count": 6,
   "id": "4557ffbf",
   "metadata": {},
   "outputs": [
    {
     "name": "stdout",
     "output_type": "stream",
     "text": [
      "a b c\n"
     ]
    }
   ],
   "source": [
    "s=\"abcdefghijkl\"\n",
    "print(s[0],s[1],s[2])"
   ]
  },
  {
   "cell_type": "code",
   "execution_count": 7,
   "id": "5ab03053",
   "metadata": {},
   "outputs": [
    {
     "name": "stdout",
     "output_type": "stream",
     "text": [
      "abc\n"
     ]
    }
   ],
   "source": [
    "s=\"abcdefghijkl\"\n",
    "print(s[0]+s[1]+s[2])"
   ]
  },
  {
   "cell_type": "code",
   "execution_count": 8,
   "id": "e24fe4a6",
   "metadata": {},
   "outputs": [
    {
     "name": "stdout",
     "output_type": "stream",
     "text": [
      "abc\n"
     ]
    }
   ],
   "source": [
    "s=\"abcdefghijkl\"\n",
    "print(s[0:3])#0th 2nd"
   ]
  },
  {
   "cell_type": "code",
   "execution_count": 9,
   "id": "4a5d6d3e",
   "metadata": {},
   "outputs": [
    {
     "name": "stdout",
     "output_type": "stream",
     "text": [
      "abcdefghijkl\n"
     ]
    }
   ],
   "source": [
    "s=\"abcdefghijkl\"\n",
    "print(s[0:13])"
   ]
  },
  {
   "cell_type": "code",
   "execution_count": 10,
   "id": "b3feb16f",
   "metadata": {},
   "outputs": [
    {
     "name": "stdout",
     "output_type": "stream",
     "text": [
      "fghijkl\n"
     ]
    }
   ],
   "source": [
    "s=\"abcdefghijkl\"\n",
    "print(s[5:13])"
   ]
  },
  {
   "cell_type": "code",
   "execution_count": 11,
   "id": "a37bac5a",
   "metadata": {},
   "outputs": [
    {
     "name": "stdout",
     "output_type": "stream",
     "text": [
      "fghijkl\n"
     ]
    }
   ],
   "source": [
    "s=\"abcdefghijkl\"\n",
    "print(s[5:13])# default step value: 1"
   ]
  },
  {
   "cell_type": "code",
   "execution_count": 12,
   "id": "e5c184df",
   "metadata": {},
   "outputs": [
    {
     "name": "stdout",
     "output_type": "stream",
     "text": [
      "fghijkl\n"
     ]
    }
   ],
   "source": [
    "s=\"abcdefghijkl\"\n",
    "print(s[5:30])# default step value: 1"
   ]
  },
  {
   "cell_type": "code",
   "execution_count": 13,
   "id": "2f6adede",
   "metadata": {},
   "outputs": [
    {
     "ename": "IndexError",
     "evalue": "string index out of range",
     "output_type": "error",
     "traceback": [
      "\u001b[1;31m---------------------------------------------------------------------------\u001b[0m",
      "\u001b[1;31mIndexError\u001b[0m                                Traceback (most recent call last)",
      "Cell \u001b[1;32mIn[13], line 2\u001b[0m\n\u001b[0;32m      1\u001b[0m s\u001b[38;5;241m=\u001b[39m\u001b[38;5;124m\"\u001b[39m\u001b[38;5;124mabcdefghijkl\u001b[39m\u001b[38;5;124m\"\u001b[39m\n\u001b[1;32m----> 2\u001b[0m \u001b[38;5;28mprint\u001b[39m(s[\u001b[38;5;241m30\u001b[39m])\n",
      "\u001b[1;31mIndexError\u001b[0m: string index out of range"
     ]
    }
   ],
   "source": [
    "s=\"abcdefghijkl\"\n",
    "print(s[30])# default step value: 1"
   ]
  },
  {
   "cell_type": "code",
   "execution_count": 14,
   "id": "4b51468f",
   "metadata": {},
   "outputs": [
    {
     "data": {
      "text/plain": [
       "[]"
      ]
     },
     "execution_count": 14,
     "metadata": {},
     "output_type": "execute_result"
    }
   ],
   "source": [
    "list(range(10,2))"
   ]
  },
  {
   "cell_type": "code",
   "execution_count": 15,
   "id": "37c00bf2",
   "metadata": {},
   "outputs": [
    {
     "name": "stdout",
     "output_type": "stream",
     "text": [
      "b\n",
      "c\n",
      "d\n"
     ]
    },
    {
     "ename": "IndexError",
     "evalue": "string index out of range",
     "output_type": "error",
     "traceback": [
      "\u001b[1;31m---------------------------------------------------------------------------\u001b[0m",
      "\u001b[1;31mIndexError\u001b[0m                                Traceback (most recent call last)",
      "Cell \u001b[1;32mIn[15], line 3\u001b[0m\n\u001b[0;32m      1\u001b[0m s\u001b[38;5;241m=\u001b[39m\u001b[38;5;124m\"\u001b[39m\u001b[38;5;124mabcd\u001b[39m\u001b[38;5;124m\"\u001b[39m\n\u001b[0;32m      2\u001b[0m \u001b[38;5;28;01mfor\u001b[39;00m i \u001b[38;5;129;01min\u001b[39;00m \u001b[38;5;28mrange\u001b[39m(\u001b[38;5;241m1\u001b[39m,\u001b[38;5;241m10\u001b[39m):\n\u001b[1;32m----> 3\u001b[0m     \u001b[38;5;28mprint\u001b[39m(s[i])\n",
      "\u001b[1;31mIndexError\u001b[0m: string index out of range"
     ]
    }
   ],
   "source": [
    "s=\"abcd\"\n",
    "for i in range(1,10):\n",
    "    print(s[i])"
   ]
  },
  {
   "cell_type": "code",
   "execution_count": 16,
   "id": "7c25d45d",
   "metadata": {},
   "outputs": [
    {
     "ename": "IndexError",
     "evalue": "string index out of range",
     "output_type": "error",
     "traceback": [
      "\u001b[1;31m---------------------------------------------------------------------------\u001b[0m",
      "\u001b[1;31mIndexError\u001b[0m                                Traceback (most recent call last)",
      "Cell \u001b[1;32mIn[16], line 2\u001b[0m\n\u001b[0;32m      1\u001b[0m s\u001b[38;5;241m=\u001b[39m\u001b[38;5;124m\"\u001b[39m\u001b[38;5;124mabcd\u001b[39m\u001b[38;5;124m\"\u001b[39m\n\u001b[1;32m----> 2\u001b[0m \u001b[38;5;28mprint\u001b[39m(s[\u001b[38;5;241m4\u001b[39m])\n",
      "\u001b[1;31mIndexError\u001b[0m: string index out of range"
     ]
    }
   ],
   "source": [
    "s=\"abcd\"\n",
    "print(s[4])"
   ]
  },
  {
   "cell_type": "code",
   "execution_count": 17,
   "id": "db93340f",
   "metadata": {},
   "outputs": [
    {
     "name": "stdout",
     "output_type": "stream",
     "text": [
      "a b c d\n"
     ]
    },
    {
     "ename": "IndexError",
     "evalue": "string index out of range",
     "output_type": "error",
     "traceback": [
      "\u001b[1;31m---------------------------------------------------------------------------\u001b[0m",
      "\u001b[1;31mIndexError\u001b[0m                                Traceback (most recent call last)",
      "Cell \u001b[1;32mIn[17], line 3\u001b[0m\n\u001b[0;32m      1\u001b[0m s\u001b[38;5;241m=\u001b[39m\u001b[38;5;124m\"\u001b[39m\u001b[38;5;124mabcd\u001b[39m\u001b[38;5;124m\"\u001b[39m\n\u001b[0;32m      2\u001b[0m \u001b[38;5;28mprint\u001b[39m(s[\u001b[38;5;241m0\u001b[39m], s[\u001b[38;5;241m1\u001b[39m], s[\u001b[38;5;241m2\u001b[39m], s[\u001b[38;5;241m3\u001b[39m])\n\u001b[1;32m----> 3\u001b[0m \u001b[38;5;28mprint\u001b[39m(s[\u001b[38;5;241m4\u001b[39m])\n",
      "\u001b[1;31mIndexError\u001b[0m: string index out of range"
     ]
    }
   ],
   "source": [
    "s=\"abcd\"\n",
    "print(s[0], s[1], s[2], s[3])\n",
    "print(s[4])"
   ]
  },
  {
   "cell_type": "code",
   "execution_count": 18,
   "id": "83e94f7d",
   "metadata": {},
   "outputs": [
    {
     "name": "stdout",
     "output_type": "stream",
     "text": [
      "cdefghij\n"
     ]
    }
   ],
   "source": [
    "s=\"abcdefghijkl\"\n",
    "print(s[2:10])# default step value: +1"
   ]
  },
  {
   "cell_type": "code",
   "execution_count": 19,
   "id": "33e2ba0e",
   "metadata": {},
   "outputs": [
    {
     "name": "stdout",
     "output_type": "stream",
     "text": [
      "\n"
     ]
    }
   ],
   "source": [
    "s=\"abcdefghijkl\"\n",
    "print(s[2:10:-1])# step value=-1"
   ]
  },
  {
   "cell_type": "code",
   "execution_count": 20,
   "id": "1f5e1fd3",
   "metadata": {},
   "outputs": [
    {
     "name": "stdout",
     "output_type": "stream",
     "text": [
      "\n"
     ]
    }
   ],
   "source": [
    "s=\"abcdefghijkl\"\n",
    "print(s[2:-10:-1])# step value=-1"
   ]
  },
  {
   "cell_type": "code",
   "execution_count": 21,
   "id": "5476b6c4",
   "metadata": {},
   "outputs": [
    {
     "name": "stdout",
     "output_type": "stream",
     "text": [
      "c\n"
     ]
    }
   ],
   "source": [
    "s=\"abcdefghijkl\"\n",
    "print(s[2:-11:-1])# step value=-1"
   ]
  },
  {
   "cell_type": "code",
   "execution_count": 22,
   "id": "c5b97a9e",
   "metadata": {},
   "outputs": [
    {
     "name": "stdout",
     "output_type": "stream",
     "text": [
      "kjihgfedc\n"
     ]
    }
   ],
   "source": [
    "s=\"abcdefghijkl\"\n",
    "print(s[-2:-11:-1])# step value=-1"
   ]
  },
  {
   "cell_type": "code",
   "execution_count": 23,
   "id": "f8f7f69b",
   "metadata": {},
   "outputs": [
    {
     "name": "stdout",
     "output_type": "stream",
     "text": [
      "\n"
     ]
    }
   ],
   "source": [
    "s=\"abcdefghijkl\"\n",
    "print(s[-2:-11:1])# step value=1"
   ]
  },
  {
   "cell_type": "code",
   "execution_count": 24,
   "id": "5a865dc2",
   "metadata": {},
   "outputs": [
    {
     "name": "stdout",
     "output_type": "stream",
     "text": [
      "cegik\n"
     ]
    }
   ],
   "source": [
    "s=\"abcdefghijkl\"\n",
    "print(s[2:11:2])# step value=2"
   ]
  },
  {
   "cell_type": "code",
   "execution_count": 25,
   "id": "0a525f32",
   "metadata": {},
   "outputs": [
    {
     "name": "stdout",
     "output_type": "stream",
     "text": [
      "c\n"
     ]
    }
   ],
   "source": [
    "s=\"abcdefghijkl\"\n",
    "print(s[2:-11:-2])# step value=-2"
   ]
  },
  {
   "cell_type": "code",
   "execution_count": 27,
   "id": "78a663b7",
   "metadata": {},
   "outputs": [
    {
     "name": "stdout",
     "output_type": "stream",
     "text": [
      "heb\n"
     ]
    }
   ],
   "source": [
    "s=\"abcdefghijkl\"\n",
    "print(s[7:-15:-3])# step value=-2"
   ]
  },
  {
   "cell_type": "code",
   "execution_count": 28,
   "id": "c5e5b7f6",
   "metadata": {},
   "outputs": [
    {
     "name": "stdout",
     "output_type": "stream",
     "text": [
      "da\n"
     ]
    }
   ],
   "source": [
    "s=\"abcdefghijkl\"\n",
    "print(s[3:-15:-3])# step value=-2"
   ]
  },
  {
   "cell_type": "code",
   "execution_count": 29,
   "id": "9cfec74a",
   "metadata": {},
   "outputs": [
    {
     "name": "stdout",
     "output_type": "stream",
     "text": [
      "abc\n"
     ]
    }
   ],
   "source": [
    "s=\"abcdefghijkl\"\n",
    "print(s[:3])# step value=1"
   ]
  },
  {
   "cell_type": "code",
   "execution_count": 30,
   "id": "2c107cb9",
   "metadata": {},
   "outputs": [
    {
     "name": "stdout",
     "output_type": "stream",
     "text": [
      "lkjihgfe\n"
     ]
    }
   ],
   "source": [
    "s=\"abcdefghijkl\"\n",
    "print(s[:3:-1])# step value=-1"
   ]
  },
  {
   "cell_type": "code",
   "execution_count": 31,
   "id": "38e46f0d",
   "metadata": {},
   "outputs": [
    {
     "name": "stdout",
     "output_type": "stream",
     "text": [
      "lk\n"
     ]
    }
   ],
   "source": [
    "s=\"abcdefghijkl\"\n",
    "print(s[:-3:-1])# step value=-1"
   ]
  },
  {
   "cell_type": "code",
   "execution_count": 32,
   "id": "4a100e03",
   "metadata": {},
   "outputs": [
    {
     "name": "stdout",
     "output_type": "stream",
     "text": [
      "lkjihgfedcba\n"
     ]
    }
   ],
   "source": [
    "s=\"abcdefghijkl\"\n",
    "print(s[:-13:-1])# step value=-1"
   ]
  },
  {
   "cell_type": "code",
   "execution_count": 33,
   "id": "1f07f964",
   "metadata": {},
   "outputs": [
    {
     "name": "stdout",
     "output_type": "stream",
     "text": [
      "lkjihgfedcb\n"
     ]
    }
   ],
   "source": [
    "s=\"abcdefghijkl\"\n",
    "print(s[:-0:-1])# step value=-1"
   ]
  },
  {
   "cell_type": "code",
   "execution_count": 34,
   "id": "29d71529",
   "metadata": {},
   "outputs": [
    {
     "name": "stdout",
     "output_type": "stream",
     "text": [
      "lkjihgfedcb\n"
     ]
    }
   ],
   "source": [
    "s=\"abcdefghijkl\"\n",
    "print(s[:0:-1])# step value=-1"
   ]
  },
  {
   "cell_type": "code",
   "execution_count": 35,
   "id": "9763d07f",
   "metadata": {},
   "outputs": [
    {
     "name": "stdout",
     "output_type": "stream",
     "text": [
      "dcba\n"
     ]
    }
   ],
   "source": [
    "s=\"abcdefghijkl\"\n",
    "print(s[3::-1])# step value=-1"
   ]
  },
  {
   "cell_type": "code",
   "execution_count": 36,
   "id": "3a3b1300",
   "metadata": {},
   "outputs": [
    {
     "name": "stdout",
     "output_type": "stream",
     "text": [
      "defghijkl\n"
     ]
    }
   ],
   "source": [
    "s=\"abcdefghijkl\"\n",
    "print(s[3::1])# step value=-1"
   ]
  },
  {
   "cell_type": "code",
   "execution_count": 37,
   "id": "fd880ea6",
   "metadata": {},
   "outputs": [
    {
     "ename": "SyntaxError",
     "evalue": "invalid syntax (2611871561.py, line 2)",
     "output_type": "error",
     "traceback": [
      "\u001b[1;36m  Cell \u001b[1;32mIn[37], line 2\u001b[1;36m\u001b[0m\n\u001b[1;33m    print(s[3:::4:5])# step value=-1\u001b[0m\n\u001b[1;37m               ^\u001b[0m\n\u001b[1;31mSyntaxError\u001b[0m\u001b[1;31m:\u001b[0m invalid syntax\n"
     ]
    }
   ],
   "source": [
    "s=\"abcdefghijkl\"\n",
    "print(s[3:::4:5])# step value=-1"
   ]
  },
  {
   "cell_type": "code",
   "execution_count": 38,
   "id": "b6c9bf10",
   "metadata": {},
   "outputs": [
    {
     "name": "stdout",
     "output_type": "stream",
     "text": [
      "j\n"
     ]
    }
   ],
   "source": [
    "s=\"abcdefghijkl\"\n",
    "print(s[9:-1:2])# step value=2"
   ]
  },
  {
   "cell_type": "code",
   "execution_count": 39,
   "id": "bd4d4023",
   "metadata": {},
   "outputs": [
    {
     "name": "stdout",
     "output_type": "stream",
     "text": [
      "abcdefghijkl\n"
     ]
    }
   ],
   "source": [
    "s=\"abcdefghijkl\"\n",
    "print(s[::])"
   ]
  },
  {
   "cell_type": "code",
   "execution_count": 40,
   "id": "f0898dd8",
   "metadata": {},
   "outputs": [
    {
     "name": "stdout",
     "output_type": "stream",
     "text": [
      "lkjihgfedcba\n"
     ]
    }
   ],
   "source": [
    "s=\"abcdefghijkl\"\n",
    "print(s[::-1])"
   ]
  },
  {
   "cell_type": "code",
   "execution_count": 41,
   "id": "62056781",
   "metadata": {},
   "outputs": [
    {
     "name": "stdout",
     "output_type": "stream",
     "text": [
      "acegik\n"
     ]
    }
   ],
   "source": [
    "s=\"abcdefghijkl\"\n",
    "print(s[::2])"
   ]
  },
  {
   "cell_type": "code",
   "execution_count": 42,
   "id": "67970c82",
   "metadata": {},
   "outputs": [
    {
     "name": "stdout",
     "output_type": "stream",
     "text": [
      "['apple', 'orange']\n"
     ]
    }
   ],
   "source": [
    "l=[\"apple\",\"orange\",\"grape\",\"mango\",\"papapya\"]\n",
    "print(l[:2])"
   ]
  },
  {
   "cell_type": "code",
   "execution_count": 43,
   "id": "9cd47e2c",
   "metadata": {},
   "outputs": [
    {
     "name": "stdout",
     "output_type": "stream",
     "text": [
      "['papapya', 'mango']\n"
     ]
    }
   ],
   "source": [
    "l=[\"apple\",\"orange\",\"grape\",\"mango\",\"papapya\"]\n",
    "print(l[:2:-1])"
   ]
  },
  {
   "cell_type": "code",
   "execution_count": null,
   "id": "9a2d7f05",
   "metadata": {},
   "outputs": [],
   "source": []
  }
 ],
 "metadata": {
  "kernelspec": {
   "display_name": "Python 3 (ipykernel)",
   "language": "python",
   "name": "python3"
  },
  "language_info": {
   "codemirror_mode": {
    "name": "ipython",
    "version": 3
   },
   "file_extension": ".py",
   "mimetype": "text/x-python",
   "name": "python",
   "nbconvert_exporter": "python",
   "pygments_lexer": "ipython3",
   "version": "3.11.3"
  }
 },
 "nbformat": 4,
 "nbformat_minor": 5
}
