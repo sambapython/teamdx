{
 "cells": [
  {
   "cell_type": "code",
   "execution_count": 1,
   "id": "641ce052",
   "metadata": {},
   "outputs": [
    {
     "name": "stdout",
     "output_type": "stream",
     "text": [
      "started\n",
      "a is big\n",
      "b is big\n",
      "ended\n"
     ]
    }
   ],
   "source": [
    "print(\"started\")\n",
    "a=1000\n",
    "b=2000\n",
    "print(\"a is big\")\n",
    "print(\"b is big\")\n",
    "print(\"ended\")"
   ]
  },
  {
   "cell_type": "code",
   "execution_count": 2,
   "id": "912728e1",
   "metadata": {},
   "outputs": [
    {
     "name": "stdout",
     "output_type": "stream",
     "text": [
      "started\n",
      "a is big\n",
      "b is big\n",
      "ended\n"
     ]
    }
   ],
   "source": [
    "print(\"started\")\n",
    "a=1000\n",
    "b=2000\n",
    "print(\"a is big\")\n",
    "print(\"b is big\")\n",
    "print(\"ended\")"
   ]
  },
  {
   "cell_type": "code",
   "execution_count": 3,
   "id": "6959a0a2",
   "metadata": {},
   "outputs": [
    {
     "name": "stdout",
     "output_type": "stream",
     "text": [
      "started\n",
      "b is big\n",
      "ended\n"
     ]
    }
   ],
   "source": [
    "print(\"started\")\n",
    "a=1000\n",
    "b=2000\n",
    "print(\"a is big\")\n",
    "print(\"b is big\")\n",
    "print(\"ended\")"
   ]
  },
  {
   "cell_type": "code",
   "execution_count": 4,
   "id": "cc842943",
   "metadata": {},
   "outputs": [
    {
     "name": "stdout",
     "output_type": "stream",
     "text": [
      "started\n",
      "a is big\n",
      "ended\n"
     ]
    }
   ],
   "source": [
    "print(\"started\")\n",
    "a=1000\n",
    "b=2000\n",
    "if True:\n",
    "    print(\"a is big\")\n",
    "else:\n",
    "    print(\"b is big\")\n",
    "print(\"ended\")"
   ]
  },
  {
   "cell_type": "code",
   "execution_count": 5,
   "id": "f3beacba",
   "metadata": {},
   "outputs": [
    {
     "name": "stdout",
     "output_type": "stream",
     "text": [
      "started\n",
      "b is big\n",
      "ended\n"
     ]
    }
   ],
   "source": [
    "print(\"started\")\n",
    "a=1000\n",
    "b=2000\n",
    "if False:\n",
    "    print(\"a is big\")\n",
    "else:\n",
    "    print(\"b is big\")\n",
    "print(\"ended\")"
   ]
  },
  {
   "cell_type": "code",
   "execution_count": 6,
   "id": "4b33b937",
   "metadata": {},
   "outputs": [
    {
     "name": "stdout",
     "output_type": "stream",
     "text": [
      "started\n",
      "a is big\n",
      "ended\n"
     ]
    }
   ],
   "source": [
    "print(\"started\")\n",
    "a=1000\n",
    "b=2000\n",
    "if False:\n",
    "    print(\"b is big\")\n",
    "else:\n",
    "    print(\"a is big\")\n",
    "print(\"ended\")"
   ]
  },
  {
   "cell_type": "code",
   "execution_count": 7,
   "id": "b539f140",
   "metadata": {},
   "outputs": [
    {
     "name": "stdout",
     "output_type": "stream",
     "text": [
      "started\n",
      "HI\n",
      "a is big\n",
      "ended\n"
     ]
    }
   ],
   "source": [
    "print(\"started\")\n",
    "a=1000\n",
    "b=2000\n",
    "if False:\n",
    "    print(\"HELLO\")\n",
    "    print(\"b is big\")\n",
    "else:\n",
    "    print(\"HI\")\n",
    "    print(\"a is big\")\n",
    "print(\"ended\")"
   ]
  },
  {
   "cell_type": "code",
   "execution_count": 8,
   "id": "04474c0b",
   "metadata": {},
   "outputs": [
    {
     "name": "stdout",
     "output_type": "stream",
     "text": [
      "started\n",
      "HELLO\n",
      "b is big\n",
      "ended\n"
     ]
    }
   ],
   "source": [
    "print(\"started\")\n",
    "a=1000\n",
    "b=2000\n",
    "if bool(20):\n",
    "    print(\"HELLO\")\n",
    "    print(\"b is big\")\n",
    "else:\n",
    "    print(\"HI\")\n",
    "    print(\"a is big\")\n",
    "print(\"ended\")"
   ]
  },
  {
   "cell_type": "code",
   "execution_count": 9,
   "id": "f108b438",
   "metadata": {},
   "outputs": [
    {
     "name": "stdout",
     "output_type": "stream",
     "text": [
      "started\n",
      "HELLO\n",
      "b is big\n",
      "ended\n"
     ]
    }
   ],
   "source": [
    "print(\"started\")\n",
    "a=1000\n",
    "b=2000\n",
    "if bool(\"python\"):\n",
    "    print(\"HELLO\")\n",
    "    print(\"b is big\")\n",
    "else:\n",
    "    print(\"HI\")\n",
    "    print(\"a is big\")\n",
    "print(\"ended\")"
   ]
  },
  {
   "cell_type": "code",
   "execution_count": 10,
   "id": "4d64bd02",
   "metadata": {},
   "outputs": [
    {
     "name": "stdout",
     "output_type": "stream",
     "text": [
      "started\n",
      "HELLO\n",
      "b is big\n",
      "ended\n"
     ]
    }
   ],
   "source": [
    "print(\"started\")\n",
    "a=1234\n",
    "if bool(a):\n",
    "    print(\"HELLO\")\n",
    "    print(\"b is big\")\n",
    "else:\n",
    "    print(\"HI\")\n",
    "    print(\"a is big\")\n",
    "print(\"ended\")"
   ]
  },
  {
   "cell_type": "code",
   "execution_count": 11,
   "id": "8d4ceda5",
   "metadata": {},
   "outputs": [
    {
     "name": "stdout",
     "output_type": "stream",
     "text": [
      "started\n",
      "HI\n",
      "a is big\n",
      "ended\n"
     ]
    }
   ],
   "source": [
    "print(\"started\")\n",
    "a=0\n",
    "if bool(a):\n",
    "    print(\"HELLO\")\n",
    "    print(\"b is big\")\n",
    "else:\n",
    "    print(\"HI\")\n",
    "    print(\"a is big\")\n",
    "print(\"ended\")"
   ]
  },
  {
   "cell_type": "code",
   "execution_count": 12,
   "id": "b479e284",
   "metadata": {},
   "outputs": [
    {
     "name": "stdout",
     "output_type": "stream",
     "text": [
      "a is big\n",
      "b is big\n"
     ]
    }
   ],
   "source": [
    "a=1000\n",
    "b=2000\n",
    "print(\"a is big\")\n",
    "print(\"b is big\")"
   ]
  },
  {
   "cell_type": "code",
   "execution_count": 13,
   "id": "176e4491",
   "metadata": {},
   "outputs": [
    {
     "name": "stdout",
     "output_type": "stream",
     "text": [
      "started\n",
      "HI\n",
      "a is big\n",
      "ended\n"
     ]
    }
   ],
   "source": [
    "print(\"started\")\n",
    "a=0\n",
    "if a:  #bool(a)\n",
    "    print(\"HELLO\")\n",
    "    print(\"b is big\")\n",
    "else:\n",
    "    print(\"HI\")\n",
    "    print(\"a is big\")\n",
    "print(\"ended\")"
   ]
  },
  {
   "cell_type": "code",
   "execution_count": 14,
   "id": "93f5bd20",
   "metadata": {},
   "outputs": [
    {
     "name": "stdout",
     "output_type": "stream",
     "text": [
      "hello\n",
      "hi\n"
     ]
    }
   ],
   "source": [
    "if 19:#bool(19) True\n",
    "    print(\"hello\")\n",
    "print(\"hi\")"
   ]
  },
  {
   "cell_type": "code",
   "execution_count": 15,
   "id": "1c360266",
   "metadata": {},
   "outputs": [
    {
     "name": "stdout",
     "output_type": "stream",
     "text": [
      "hello\n"
     ]
    }
   ],
   "source": [
    "if 19:#bool(19) True\n",
    "    print(\"hello\")\n",
    "else:\n",
    "    print(\"hi\")"
   ]
  },
  {
   "cell_type": "code",
   "execution_count": 16,
   "id": "f31ca55c",
   "metadata": {},
   "outputs": [
    {
     "name": "stdout",
     "output_type": "stream",
     "text": [
      "hi\n"
     ]
    }
   ],
   "source": [
    "if 0:#bool(0) False\n",
    "    print(\"hello\")\n",
    "else:\n",
    "    print(\"hi\")"
   ]
  },
  {
   "cell_type": "code",
   "execution_count": 17,
   "id": "f0f97fa5",
   "metadata": {},
   "outputs": [
    {
     "name": "stdout",
     "output_type": "stream",
     "text": [
      "enter a value:python\n",
      "6\n"
     ]
    }
   ],
   "source": [
    "value = input(\"enter a value:\")\n",
    "print(len(value))"
   ]
  },
  {
   "cell_type": "code",
   "execution_count": 18,
   "id": "391fa8a3",
   "metadata": {},
   "outputs": [
    {
     "name": "stdout",
     "output_type": "stream",
     "text": [
      "enter a value:Hyderbad\n",
      "8\n"
     ]
    }
   ],
   "source": [
    "value = input(\"enter a value:\")\n",
    "print(len(value))"
   ]
  },
  {
   "cell_type": "code",
   "execution_count": 19,
   "id": "69033bd0",
   "metadata": {},
   "outputs": [
    {
     "name": "stdout",
     "output_type": "stream",
     "text": [
      "enter a value:\n",
      "0\n"
     ]
    }
   ],
   "source": [
    "value = input(\"enter a value:\")\n",
    "print(len(value))"
   ]
  },
  {
   "cell_type": "code",
   "execution_count": 20,
   "id": "afc075cf",
   "metadata": {},
   "outputs": [
    {
     "name": "stdout",
     "output_type": "stream",
     "text": [
      "0\n"
     ]
    }
   ],
   "source": [
    "value=\"\"\n",
    "print(len(value))"
   ]
  },
  {
   "cell_type": "code",
   "execution_count": 21,
   "id": "517ed645",
   "metadata": {},
   "outputs": [
    {
     "name": "stdout",
     "output_type": "stream",
     "text": [
      "0\n"
     ]
    }
   ],
   "source": [
    "value=''\n",
    "print(len(value))"
   ]
  },
  {
   "cell_type": "code",
   "execution_count": 22,
   "id": "be979919",
   "metadata": {},
   "outputs": [
    {
     "name": "stdout",
     "output_type": "stream",
     "text": [
      "enter a value:20\n",
      "<class 'str'>\n"
     ]
    }
   ],
   "source": [
    "value = input(\"enter a value:\")\n",
    "print(type(value))"
   ]
  },
  {
   "cell_type": "code",
   "execution_count": 23,
   "id": "28195a88",
   "metadata": {},
   "outputs": [
    {
     "name": "stdout",
     "output_type": "stream",
     "text": [
      "enter a value:\n"
     ]
    },
    {
     "ename": "ValueError",
     "evalue": "could not convert string to float: ''",
     "output_type": "error",
     "traceback": [
      "\u001b[1;31m---------------------------------------------------------------------------\u001b[0m",
      "\u001b[1;31mValueError\u001b[0m                                Traceback (most recent call last)",
      "Cell \u001b[1;32mIn[23], line 1\u001b[0m\n\u001b[1;32m----> 1\u001b[0m value \u001b[38;5;241m=\u001b[39m \u001b[38;5;28mfloat\u001b[39m(\u001b[38;5;28minput\u001b[39m(\u001b[38;5;124m\"\u001b[39m\u001b[38;5;124menter a value:\u001b[39m\u001b[38;5;124m\"\u001b[39m))\n\u001b[0;32m      2\u001b[0m \u001b[38;5;28mprint\u001b[39m(\u001b[38;5;28mtype\u001b[39m(value))\n",
      "\u001b[1;31mValueError\u001b[0m: could not convert string to float: ''"
     ]
    }
   ],
   "source": [
    "value = float(input(\"enter a value:\"))\n",
    "print(type(value))"
   ]
  },
  {
   "cell_type": "code",
   "execution_count": 24,
   "id": "b6f04869",
   "metadata": {},
   "outputs": [
    {
     "name": "stdout",
     "output_type": "stream",
     "text": [
      "enter value1:12\n",
      "enter value2:34\n",
      "46.0\n"
     ]
    }
   ],
   "source": [
    "#value1, value2: value1+value2. \n",
    "value1=float(input(\"enter value1:\"))\n",
    "value2=float(input(\"enter value2:\"))\n",
    "print(value1+value2)\n"
   ]
  },
  {
   "cell_type": "code",
   "execution_count": 25,
   "id": "7cdf1d3f",
   "metadata": {},
   "outputs": [
    {
     "name": "stdout",
     "output_type": "stream",
     "text": [
      "enter value1:12\n",
      "enter value2:\n"
     ]
    },
    {
     "ename": "ValueError",
     "evalue": "could not convert string to float: ''",
     "output_type": "error",
     "traceback": [
      "\u001b[1;31m---------------------------------------------------------------------------\u001b[0m",
      "\u001b[1;31mValueError\u001b[0m                                Traceback (most recent call last)",
      "Cell \u001b[1;32mIn[25], line 3\u001b[0m\n\u001b[0;32m      1\u001b[0m \u001b[38;5;66;03m#value1, value2: value1+value2. \u001b[39;00m\n\u001b[0;32m      2\u001b[0m value1\u001b[38;5;241m=\u001b[39m\u001b[38;5;28mfloat\u001b[39m(\u001b[38;5;28minput\u001b[39m(\u001b[38;5;124m\"\u001b[39m\u001b[38;5;124menter value1:\u001b[39m\u001b[38;5;124m\"\u001b[39m))\n\u001b[1;32m----> 3\u001b[0m value2\u001b[38;5;241m=\u001b[39m\u001b[38;5;28mfloat\u001b[39m(\u001b[38;5;28minput\u001b[39m(\u001b[38;5;124m\"\u001b[39m\u001b[38;5;124menter value2:\u001b[39m\u001b[38;5;124m\"\u001b[39m))\n\u001b[0;32m      4\u001b[0m \u001b[38;5;28mprint\u001b[39m(value1\u001b[38;5;241m+\u001b[39mvalue2)\n",
      "\u001b[1;31mValueError\u001b[0m: could not convert string to float: ''"
     ]
    }
   ],
   "source": [
    "#value1, value2: value1+value2. \n",
    "value1=float(input(\"enter value1:\"))\n",
    "value2=float(input(\"enter value2:\"))\n",
    "print(value1+value2)\n"
   ]
  },
  {
   "cell_type": "code",
   "execution_count": 26,
   "id": "14ad7925",
   "metadata": {},
   "outputs": [
    {
     "name": "stdout",
     "output_type": "stream",
     "text": [
      "enter value1:12\n",
      "enter value2:\n",
      "12.0\n"
     ]
    }
   ],
   "source": [
    "#value1, value2: value1+value2. \n",
    "value1=input(\"enter value1:\")\n",
    "value2=input(\"enter value2:\")\n",
    "if value1==\"\":#False \"12\"==\"\"\n",
    "    value1=0\n",
    "else:\n",
    "    value1 = float(value1)\n",
    "if value2==\"\":# \"\" == \"\" True\n",
    "    value2=0\n",
    "else:\n",
    "    value2=float(value2)\n",
    "print(value1+value2)\n"
   ]
  },
  {
   "cell_type": "code",
   "execution_count": 27,
   "id": "4ddeb76a",
   "metadata": {},
   "outputs": [
    {
     "name": "stdout",
     "output_type": "stream",
     "text": [
      "enter value1:\n",
      "enter value2:34\n",
      "34.0\n"
     ]
    }
   ],
   "source": [
    "#value1, value2: value1+value2. \n",
    "value1=input(\"enter value1:\")\n",
    "value2=input(\"enter value2:\")\n",
    "if value1==\"\":#True \"\"==\"\"\n",
    "    value1=0\n",
    "else:\n",
    "    value1 = float(value1)\n",
    "if value2==\"\":# \"34\" == \"\" False\n",
    "    value2=0\n",
    "else:\n",
    "    value2=float(value2)\n",
    "print(value1+value2)\n"
   ]
  },
  {
   "cell_type": "code",
   "execution_count": 28,
   "id": "21890851",
   "metadata": {},
   "outputs": [
    {
     "data": {
      "text/plain": [
       "False"
      ]
     },
     "execution_count": 28,
     "metadata": {},
     "output_type": "execute_result"
    }
   ],
   "source": [
    "bool(\"\")"
   ]
  },
  {
   "cell_type": "code",
   "execution_count": 29,
   "id": "f419ced6",
   "metadata": {},
   "outputs": [
    {
     "data": {
      "text/plain": [
       "True"
      ]
     },
     "execution_count": 29,
     "metadata": {},
     "output_type": "execute_result"
    }
   ],
   "source": [
    "bool(\"1321\")"
   ]
  },
  {
   "cell_type": "code",
   "execution_count": 30,
   "id": "b7a88245",
   "metadata": {},
   "outputs": [
    {
     "name": "stdout",
     "output_type": "stream",
     "text": [
      "enter value1:12\n",
      "enter value2:\n",
      "12.0\n"
     ]
    }
   ],
   "source": [
    "#value1, value2: value1+value2. \n",
    "value1=input(\"enter value1:\")\n",
    "value2=input(\"enter value2:\")\n",
    "if value1:#bool(value1)\n",
    "    value1 = float(value1)\n",
    "else:\n",
    "    value1=0\n",
    "if value2:\n",
    "    value2=float(value2)\n",
    "else:\n",
    "    value2=0\n",
    "    \n",
    "print(value1+value2)\n"
   ]
  },
  {
   "cell_type": "code",
   "execution_count": 32,
   "id": "1e40c2a1",
   "metadata": {},
   "outputs": [
    {
     "name": "stdout",
     "output_type": "stream",
     "text": [
      "enter value1:\n",
      "enter value2:12\n",
      "value1=0, value2=12.0\n",
      "12.0\n"
     ]
    }
   ],
   "source": [
    "#value1, value2: value1+value2. \n",
    "value1=input(\"enter value1:\")\n",
    "value2=input(\"enter value2:\")\n",
    "if value1:#bool(\"\")\n",
    "    value1 = float(value1)\n",
    "else:\n",
    "    value1=0\n",
    "if value2:#bool(\"12\")\n",
    "    value2=float(value2)\n",
    "else:\n",
    "    value2=0\n",
    "print(f\"value1={value1}, value2={value2}\")\n",
    "print(value1+value2)\n"
   ]
  },
  {
   "cell_type": "code",
   "execution_count": null,
   "id": "57f0ee45",
   "metadata": {},
   "outputs": [],
   "source": []
  }
 ],
 "metadata": {
  "kernelspec": {
   "display_name": "Python 3 (ipykernel)",
   "language": "python",
   "name": "python3"
  },
  "language_info": {
   "codemirror_mode": {
    "name": "ipython",
    "version": 3
   },
   "file_extension": ".py",
   "mimetype": "text/x-python",
   "name": "python",
   "nbconvert_exporter": "python",
   "pygments_lexer": "ipython3",
   "version": "3.11.3"
  }
 },
 "nbformat": 4,
 "nbformat_minor": 5
}
