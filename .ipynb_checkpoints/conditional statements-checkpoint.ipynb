{
 "cells": [
  {
   "cell_type": "code",
   "execution_count": 1,
   "id": "641ce052",
   "metadata": {},
   "outputs": [
    {
     "name": "stdout",
     "output_type": "stream",
     "text": [
      "started\n",
      "a is big\n",
      "b is big\n",
      "ended\n"
     ]
    }
   ],
   "source": [
    "print(\"started\")\n",
    "a=1000\n",
    "b=2000\n",
    "print(\"a is big\")\n",
    "print(\"b is big\")\n",
    "print(\"ended\")"
   ]
  },
  {
   "cell_type": "code",
   "execution_count": 2,
   "id": "912728e1",
   "metadata": {},
   "outputs": [
    {
     "name": "stdout",
     "output_type": "stream",
     "text": [
      "started\n",
      "a is big\n",
      "b is big\n",
      "ended\n"
     ]
    }
   ],
   "source": [
    "print(\"started\")\n",
    "a=1000\n",
    "b=2000\n",
    "print(\"a is big\")\n",
    "print(\"b is big\")\n",
    "print(\"ended\")"
   ]
  },
  {
   "cell_type": "code",
   "execution_count": 3,
   "id": "6959a0a2",
   "metadata": {},
   "outputs": [
    {
     "name": "stdout",
     "output_type": "stream",
     "text": [
      "started\n",
      "b is big\n",
      "ended\n"
     ]
    }
   ],
   "source": [
    "print(\"started\")\n",
    "a=1000\n",
    "b=2000\n",
    "print(\"a is big\")\n",
    "print(\"b is big\")\n",
    "print(\"ended\")"
   ]
  },
  {
   "cell_type": "code",
   "execution_count": 4,
   "id": "cc842943",
   "metadata": {},
   "outputs": [
    {
     "name": "stdout",
     "output_type": "stream",
     "text": [
      "started\n",
      "a is big\n",
      "ended\n"
     ]
    }
   ],
   "source": [
    "print(\"started\")\n",
    "a=1000\n",
    "b=2000\n",
    "if True:\n",
    "    print(\"a is big\")\n",
    "else:\n",
    "    print(\"b is big\")\n",
    "print(\"ended\")"
   ]
  },
  {
   "cell_type": "code",
   "execution_count": 5,
   "id": "f3beacba",
   "metadata": {},
   "outputs": [
    {
     "name": "stdout",
     "output_type": "stream",
     "text": [
      "started\n",
      "b is big\n",
      "ended\n"
     ]
    }
   ],
   "source": [
    "print(\"started\")\n",
    "a=1000\n",
    "b=2000\n",
    "if False:\n",
    "    print(\"a is big\")\n",
    "else:\n",
    "    print(\"b is big\")\n",
    "print(\"ended\")"
   ]
  },
  {
   "cell_type": "code",
   "execution_count": 6,
   "id": "4b33b937",
   "metadata": {},
   "outputs": [
    {
     "name": "stdout",
     "output_type": "stream",
     "text": [
      "started\n",
      "a is big\n",
      "ended\n"
     ]
    }
   ],
   "source": [
    "print(\"started\")\n",
    "a=1000\n",
    "b=2000\n",
    "if False:\n",
    "    print(\"b is big\")\n",
    "else:\n",
    "    print(\"a is big\")\n",
    "print(\"ended\")"
   ]
  },
  {
   "cell_type": "code",
   "execution_count": 7,
   "id": "b539f140",
   "metadata": {},
   "outputs": [
    {
     "name": "stdout",
     "output_type": "stream",
     "text": [
      "started\n",
      "HI\n",
      "a is big\n",
      "ended\n"
     ]
    }
   ],
   "source": [
    "print(\"started\")\n",
    "a=1000\n",
    "b=2000\n",
    "if False:\n",
    "    print(\"HELLO\")\n",
    "    print(\"b is big\")\n",
    "else:\n",
    "    print(\"HI\")\n",
    "    print(\"a is big\")\n",
    "print(\"ended\")"
   ]
  },
  {
   "cell_type": "code",
   "execution_count": 8,
   "id": "04474c0b",
   "metadata": {},
   "outputs": [
    {
     "name": "stdout",
     "output_type": "stream",
     "text": [
      "started\n",
      "HELLO\n",
      "b is big\n",
      "ended\n"
     ]
    }
   ],
   "source": [
    "print(\"started\")\n",
    "a=1000\n",
    "b=2000\n",
    "if bool(20):\n",
    "    print(\"HELLO\")\n",
    "    print(\"b is big\")\n",
    "else:\n",
    "    print(\"HI\")\n",
    "    print(\"a is big\")\n",
    "print(\"ended\")"
   ]
  },
  {
   "cell_type": "code",
   "execution_count": 9,
   "id": "f108b438",
   "metadata": {},
   "outputs": [
    {
     "name": "stdout",
     "output_type": "stream",
     "text": [
      "started\n",
      "HELLO\n",
      "b is big\n",
      "ended\n"
     ]
    }
   ],
   "source": [
    "print(\"started\")\n",
    "a=1000\n",
    "b=2000\n",
    "if bool(\"python\"):\n",
    "    print(\"HELLO\")\n",
    "    print(\"b is big\")\n",
    "else:\n",
    "    print(\"HI\")\n",
    "    print(\"a is big\")\n",
    "print(\"ended\")"
   ]
  },
  {
   "cell_type": "code",
   "execution_count": 10,
   "id": "4d64bd02",
   "metadata": {},
   "outputs": [
    {
     "name": "stdout",
     "output_type": "stream",
     "text": [
      "started\n",
      "HELLO\n",
      "b is big\n",
      "ended\n"
     ]
    }
   ],
   "source": [
    "print(\"started\")\n",
    "a=1234\n",
    "if bool(a):\n",
    "    print(\"HELLO\")\n",
    "    print(\"b is big\")\n",
    "else:\n",
    "    print(\"HI\")\n",
    "    print(\"a is big\")\n",
    "print(\"ended\")"
   ]
  },
  {
   "cell_type": "code",
   "execution_count": 11,
   "id": "8d4ceda5",
   "metadata": {},
   "outputs": [
    {
     "name": "stdout",
     "output_type": "stream",
     "text": [
      "started\n",
      "HI\n",
      "a is big\n",
      "ended\n"
     ]
    }
   ],
   "source": [
    "print(\"started\")\n",
    "a=0\n",
    "if bool(a):\n",
    "    print(\"HELLO\")\n",
    "    print(\"b is big\")\n",
    "else:\n",
    "    print(\"HI\")\n",
    "    print(\"a is big\")\n",
    "print(\"ended\")"
   ]
  },
  {
   "cell_type": "code",
   "execution_count": 12,
   "id": "b479e284",
   "metadata": {},
   "outputs": [
    {
     "name": "stdout",
     "output_type": "stream",
     "text": [
      "a is big\n",
      "b is big\n"
     ]
    }
   ],
   "source": [
    "a=1000\n",
    "b=2000\n",
    "print(\"a is big\")\n",
    "print(\"b is big\")"
   ]
  },
  {
   "cell_type": "code",
   "execution_count": 13,
   "id": "176e4491",
   "metadata": {},
   "outputs": [
    {
     "name": "stdout",
     "output_type": "stream",
     "text": [
      "started\n",
      "HI\n",
      "a is big\n",
      "ended\n"
     ]
    }
   ],
   "source": [
    "print(\"started\")\n",
    "a=0\n",
    "if a:  #bool(a)\n",
    "    print(\"HELLO\")\n",
    "    print(\"b is big\")\n",
    "else:\n",
    "    print(\"HI\")\n",
    "    print(\"a is big\")\n",
    "print(\"ended\")"
   ]
  },
  {
   "cell_type": "code",
   "execution_count": 14,
   "id": "93f5bd20",
   "metadata": {},
   "outputs": [
    {
     "name": "stdout",
     "output_type": "stream",
     "text": [
      "hello\n",
      "hi\n"
     ]
    }
   ],
   "source": [
    "if 19:#bool(19) True\n",
    "    print(\"hello\")\n",
    "print(\"hi\")"
   ]
  },
  {
   "cell_type": "code",
   "execution_count": 15,
   "id": "1c360266",
   "metadata": {},
   "outputs": [
    {
     "name": "stdout",
     "output_type": "stream",
     "text": [
      "hello\n"
     ]
    }
   ],
   "source": [
    "if 19:#bool(19) True\n",
    "    print(\"hello\")\n",
    "else:\n",
    "    print(\"hi\")"
   ]
  },
  {
   "cell_type": "code",
   "execution_count": 16,
   "id": "f31ca55c",
   "metadata": {},
   "outputs": [
    {
     "name": "stdout",
     "output_type": "stream",
     "text": [
      "hi\n"
     ]
    }
   ],
   "source": [
    "if 0:#bool(0) False\n",
    "    print(\"hello\")\n",
    "else:\n",
    "    print(\"hi\")"
   ]
  },
  {
   "cell_type": "code",
   "execution_count": 17,
   "id": "f0f97fa5",
   "metadata": {},
   "outputs": [
    {
     "name": "stdout",
     "output_type": "stream",
     "text": [
      "enter a value:python\n",
      "6\n"
     ]
    }
   ],
   "source": [
    "value = input(\"enter a value:\")\n",
    "print(len(value))"
   ]
  },
  {
   "cell_type": "code",
   "execution_count": 18,
   "id": "391fa8a3",
   "metadata": {},
   "outputs": [
    {
     "name": "stdout",
     "output_type": "stream",
     "text": [
      "enter a value:Hyderbad\n",
      "8\n"
     ]
    }
   ],
   "source": [
    "value = input(\"enter a value:\")\n",
    "print(len(value))"
   ]
  },
  {
   "cell_type": "code",
   "execution_count": 19,
   "id": "69033bd0",
   "metadata": {},
   "outputs": [
    {
     "name": "stdout",
     "output_type": "stream",
     "text": [
      "enter a value:\n",
      "0\n"
     ]
    }
   ],
   "source": [
    "value = input(\"enter a value:\")\n",
    "print(len(value))"
   ]
  },
  {
   "cell_type": "code",
   "execution_count": 20,
   "id": "afc075cf",
   "metadata": {},
   "outputs": [
    {
     "name": "stdout",
     "output_type": "stream",
     "text": [
      "0\n"
     ]
    }
   ],
   "source": [
    "value=\"\"\n",
    "print(len(value))"
   ]
  },
  {
   "cell_type": "code",
   "execution_count": 21,
   "id": "517ed645",
   "metadata": {},
   "outputs": [
    {
     "name": "stdout",
     "output_type": "stream",
     "text": [
      "0\n"
     ]
    }
   ],
   "source": [
    "value=''\n",
    "print(len(value))"
   ]
  },
  {
   "cell_type": "code",
   "execution_count": 22,
   "id": "be979919",
   "metadata": {},
   "outputs": [
    {
     "name": "stdout",
     "output_type": "stream",
     "text": [
      "enter a value:20\n",
      "<class 'str'>\n"
     ]
    }
   ],
   "source": [
    "value = input(\"enter a value:\")\n",
    "print(type(value))"
   ]
  },
  {
   "cell_type": "code",
   "execution_count": 23,
   "id": "28195a88",
   "metadata": {},
   "outputs": [
    {
     "name": "stdout",
     "output_type": "stream",
     "text": [
      "enter a value:\n"
     ]
    },
    {
     "ename": "ValueError",
     "evalue": "could not convert string to float: ''",
     "output_type": "error",
     "traceback": [
      "\u001b[1;31m---------------------------------------------------------------------------\u001b[0m",
      "\u001b[1;31mValueError\u001b[0m                                Traceback (most recent call last)",
      "Cell \u001b[1;32mIn[23], line 1\u001b[0m\n\u001b[1;32m----> 1\u001b[0m value \u001b[38;5;241m=\u001b[39m \u001b[38;5;28mfloat\u001b[39m(\u001b[38;5;28minput\u001b[39m(\u001b[38;5;124m\"\u001b[39m\u001b[38;5;124menter a value:\u001b[39m\u001b[38;5;124m\"\u001b[39m))\n\u001b[0;32m      2\u001b[0m \u001b[38;5;28mprint\u001b[39m(\u001b[38;5;28mtype\u001b[39m(value))\n",
      "\u001b[1;31mValueError\u001b[0m: could not convert string to float: ''"
     ]
    }
   ],
   "source": [
    "value = float(input(\"enter a value:\"))\n",
    "print(type(value))"
   ]
  },
  {
   "cell_type": "code",
   "execution_count": 24,
   "id": "b6f04869",
   "metadata": {},
   "outputs": [
    {
     "name": "stdout",
     "output_type": "stream",
     "text": [
      "enter value1:12\n",
      "enter value2:34\n",
      "46.0\n"
     ]
    }
   ],
   "source": [
    "#value1, value2: value1+value2. \n",
    "value1=float(input(\"enter value1:\"))\n",
    "value2=float(input(\"enter value2:\"))\n",
    "print(value1+value2)\n"
   ]
  },
  {
   "cell_type": "code",
   "execution_count": 25,
   "id": "7cdf1d3f",
   "metadata": {},
   "outputs": [
    {
     "name": "stdout",
     "output_type": "stream",
     "text": [
      "enter value1:12\n",
      "enter value2:\n"
     ]
    },
    {
     "ename": "ValueError",
     "evalue": "could not convert string to float: ''",
     "output_type": "error",
     "traceback": [
      "\u001b[1;31m---------------------------------------------------------------------------\u001b[0m",
      "\u001b[1;31mValueError\u001b[0m                                Traceback (most recent call last)",
      "Cell \u001b[1;32mIn[25], line 3\u001b[0m\n\u001b[0;32m      1\u001b[0m \u001b[38;5;66;03m#value1, value2: value1+value2. \u001b[39;00m\n\u001b[0;32m      2\u001b[0m value1\u001b[38;5;241m=\u001b[39m\u001b[38;5;28mfloat\u001b[39m(\u001b[38;5;28minput\u001b[39m(\u001b[38;5;124m\"\u001b[39m\u001b[38;5;124menter value1:\u001b[39m\u001b[38;5;124m\"\u001b[39m))\n\u001b[1;32m----> 3\u001b[0m value2\u001b[38;5;241m=\u001b[39m\u001b[38;5;28mfloat\u001b[39m(\u001b[38;5;28minput\u001b[39m(\u001b[38;5;124m\"\u001b[39m\u001b[38;5;124menter value2:\u001b[39m\u001b[38;5;124m\"\u001b[39m))\n\u001b[0;32m      4\u001b[0m \u001b[38;5;28mprint\u001b[39m(value1\u001b[38;5;241m+\u001b[39mvalue2)\n",
      "\u001b[1;31mValueError\u001b[0m: could not convert string to float: ''"
     ]
    }
   ],
   "source": [
    "#value1, value2: value1+value2. \n",
    "value1=float(input(\"enter value1:\"))\n",
    "value2=float(input(\"enter value2:\"))\n",
    "print(value1+value2)\n"
   ]
  },
  {
   "cell_type": "code",
   "execution_count": 26,
   "id": "14ad7925",
   "metadata": {},
   "outputs": [
    {
     "name": "stdout",
     "output_type": "stream",
     "text": [
      "enter value1:12\n",
      "enter value2:\n",
      "12.0\n"
     ]
    }
   ],
   "source": [
    "#value1, value2: value1+value2. \n",
    "value1=input(\"enter value1:\")\n",
    "value2=input(\"enter value2:\")\n",
    "if value1==\"\":#False \"12\"==\"\"\n",
    "    value1=0\n",
    "else:\n",
    "    value1 = float(value1)\n",
    "if value2==\"\":# \"\" == \"\" True\n",
    "    value2=0\n",
    "else:\n",
    "    value2=float(value2)\n",
    "print(value1+value2)\n"
   ]
  },
  {
   "cell_type": "code",
   "execution_count": 27,
   "id": "4ddeb76a",
   "metadata": {},
   "outputs": [
    {
     "name": "stdout",
     "output_type": "stream",
     "text": [
      "enter value1:\n",
      "enter value2:34\n",
      "34.0\n"
     ]
    }
   ],
   "source": [
    "#value1, value2: value1+value2. \n",
    "value1=input(\"enter value1:\")\n",
    "value2=input(\"enter value2:\")\n",
    "if value1==\"\":#True \"\"==\"\"\n",
    "    value1=0\n",
    "else:\n",
    "    value1 = float(value1)\n",
    "if value2==\"\":# \"34\" == \"\" False\n",
    "    value2=0\n",
    "else:\n",
    "    value2=float(value2)\n",
    "print(value1+value2)\n"
   ]
  },
  {
   "cell_type": "code",
   "execution_count": 28,
   "id": "21890851",
   "metadata": {},
   "outputs": [
    {
     "data": {
      "text/plain": [
       "False"
      ]
     },
     "execution_count": 28,
     "metadata": {},
     "output_type": "execute_result"
    }
   ],
   "source": [
    "bool(\"\")"
   ]
  },
  {
   "cell_type": "code",
   "execution_count": 29,
   "id": "f419ced6",
   "metadata": {},
   "outputs": [
    {
     "data": {
      "text/plain": [
       "True"
      ]
     },
     "execution_count": 29,
     "metadata": {},
     "output_type": "execute_result"
    }
   ],
   "source": [
    "bool(\"1321\")"
   ]
  },
  {
   "cell_type": "code",
   "execution_count": 30,
   "id": "b7a88245",
   "metadata": {},
   "outputs": [
    {
     "name": "stdout",
     "output_type": "stream",
     "text": [
      "enter value1:12\n",
      "enter value2:\n",
      "12.0\n"
     ]
    }
   ],
   "source": [
    "#value1, value2: value1+value2. \n",
    "value1=input(\"enter value1:\")\n",
    "value2=input(\"enter value2:\")\n",
    "if value1:#bool(value1)\n",
    "    value1 = float(value1)\n",
    "else:\n",
    "    value1=0\n",
    "if value2:\n",
    "    value2=float(value2)\n",
    "else:\n",
    "    value2=0\n",
    "    \n",
    "print(value1+value2)\n"
   ]
  },
  {
   "cell_type": "code",
   "execution_count": 32,
   "id": "1e40c2a1",
   "metadata": {},
   "outputs": [
    {
     "name": "stdout",
     "output_type": "stream",
     "text": [
      "enter value1:\n",
      "enter value2:12\n",
      "value1=0, value2=12.0\n",
      "12.0\n"
     ]
    }
   ],
   "source": [
    "#value1, value2: value1+value2. \n",
    "value1=input(\"enter value1:\")\n",
    "value2=input(\"enter value2:\")\n",
    "if value1:#bool(\"\")\n",
    "    value1 = float(value1)\n",
    "else:\n",
    "    value1=0\n",
    "if value2:#bool(\"12\")\n",
    "    value2=float(value2)\n",
    "else:\n",
    "    value2=0\n",
    "print(f\"value1={value1}, value2={value2}\")\n",
    "print(value1+value2)\n"
   ]
  },
  {
   "cell_type": "code",
   "execution_count": null,
   "id": "57f0ee45",
   "metadata": {},
   "outputs": [],
   "source": [
    "a=1000\n",
    "b=2000\n",
    "\"\"\"\n",
    "1.add\n",
    "2.sub\n",
    "3.mul\n",
    "4.division\n",
    "Enter an option: 1  : 1000+2000,\n",
    "\"\"\"\n",
    "\"\"\"\n",
    "1.add\n",
    "2.sub\n",
    "3.mul\n",
    "4.division\n",
    "Enter an option: 2  : 1000-2000,\n",
    "\"\"\"\n",
    "\"\"\"\n",
    "1.add\n",
    "2.sub\n",
    "3.mul\n",
    "4.division\n",
    "Enter an option: 3  : 1000*2000,\n",
    "\"\"\"\n",
    "\"\"\"\n",
    "1.add\n",
    "2.sub\n",
    "3.mul\n",
    "4.division\n",
    "Enter an option: 4  : 1000/2000,\n",
    "\"\"\"\n",
    "\"\"\"\n",
    "1.add\n",
    "2.sub\n",
    "3.mul\n",
    "4.division\n",
    "Enter an option: 5. if the user enters other numbers: we need to show the below message\n",
    "PLEASE ENTER VALID OPTION\n",
    "\"\"\""
   ]
  },
  {
   "cell_type": "code",
   "execution_count": 1,
   "id": "2773d1b7",
   "metadata": {},
   "outputs": [
    {
     "name": "stdout",
     "output_type": "stream",
     "text": [
      "1.add\n",
      "2.sub\n",
      "3.mul\n",
      "4.division\n"
     ]
    }
   ],
   "source": [
    "a=1000\n",
    "b=2000\n",
    "print(\"1.add\\n2.sub\\n3.mul\\n4.division\")"
   ]
  },
  {
   "cell_type": "code",
   "execution_count": 2,
   "id": "3ae6b79a",
   "metadata": {},
   "outputs": [
    {
     "name": "stdout",
     "output_type": "stream",
     "text": [
      "1.add\n",
      "2.sub\n",
      "3.mul\n",
      "4.division\n",
      "ENTER AN OPTION:2\n",
      "2\n"
     ]
    }
   ],
   "source": [
    "a=1000\n",
    "b=2000\n",
    "print(\"1.add\\n2.sub\\n3.mul\\n4.division\")\n",
    "opt = input(\"ENTER AN OPTION:\")\n",
    "print(opt)"
   ]
  },
  {
   "cell_type": "code",
   "execution_count": 3,
   "id": "027c1f7d",
   "metadata": {},
   "outputs": [
    {
     "name": "stdout",
     "output_type": "stream",
     "text": [
      "1.add\n",
      "2.sub\n",
      "3.mul\n",
      "4.division\n",
      "ENTER AN OPTION:2\n",
      "THANK YOU!!\n"
     ]
    }
   ],
   "source": [
    "a=1000\n",
    "b=2000\n",
    "print(\"1.add\\n2.sub\\n3.mul\\n4.division\")\n",
    "opt = input(\"ENTER AN OPTION:\")\n",
    "if opt==1:\n",
    "    print(a+b)\n",
    "if opt==2:\n",
    "    print(a-b)\n",
    "if opt==3:\n",
    "    print(a*b)\n",
    "if opt==4:\n",
    "    print(a/b)\n",
    "print(\"THANK YOU!!\")"
   ]
  },
  {
   "cell_type": "code",
   "execution_count": 4,
   "id": "dcd01dc6",
   "metadata": {},
   "outputs": [
    {
     "data": {
      "text/plain": [
       "False"
      ]
     },
     "execution_count": 4,
     "metadata": {},
     "output_type": "execute_result"
    }
   ],
   "source": [
    "\"1\"==1"
   ]
  },
  {
   "cell_type": "code",
   "execution_count": 5,
   "id": "bd4101d3",
   "metadata": {},
   "outputs": [
    {
     "name": "stdout",
     "output_type": "stream",
     "text": [
      "1.add\n",
      "2.sub\n",
      "3.mul\n",
      "4.division\n",
      "ENTER AN OPTION:3\n",
      "2000000\n",
      "THANK YOU!!\n"
     ]
    }
   ],
   "source": [
    "a=1000\n",
    "b=2000\n",
    "print(\"1.add\\n2.sub\\n3.mul\\n4.division\")\n",
    "opt = input(\"ENTER AN OPTION:\")#3\n",
    "if opt==\"1\":#\"3\"==\"1\": False\n",
    "    print(a+b)\n",
    "if opt==\"2\":#\"3\"==\"2\": False\n",
    "    print(a-b)\n",
    "if opt==\"3\":#\"3\"==\"3\": True\n",
    "    print(a*b)\n",
    "if opt==\"4\":#\"3\"==\"4\": False\n",
    "    print(a/b)\n",
    "print(\"THANK YOU!!\")"
   ]
  },
  {
   "cell_type": "code",
   "execution_count": 6,
   "id": "1d71a283",
   "metadata": {},
   "outputs": [
    {
     "name": "stdout",
     "output_type": "stream",
     "text": [
      "1.add\n",
      "2.sub\n",
      "3.mul\n",
      "4.division\n",
      "ENTER AN OPTION:6\n",
      "THANK YOU!!\n"
     ]
    }
   ],
   "source": [
    "a=1000\n",
    "b=2000\n",
    "print(\"1.add\\n2.sub\\n3.mul\\n4.division\")\n",
    "opt = input(\"ENTER AN OPTION:\")#6\n",
    "if opt==\"1\":#\"6\"==\"1\": False\n",
    "    print(a+b)\n",
    "if opt==\"2\":#\"6\"==\"2\": False\n",
    "    print(a-b)\n",
    "if opt==\"3\":#\"6\"==\"3\": False\n",
    "    print(a*b)\n",
    "if opt==\"4\":#\"6\"==\"4\": False\n",
    "    print(a/b)\n",
    "print(\"THANK YOU!!\")"
   ]
  },
  {
   "cell_type": "code",
   "execution_count": 7,
   "id": "177b2203",
   "metadata": {},
   "outputs": [
    {
     "name": "stdout",
     "output_type": "stream",
     "text": [
      "1.add\n",
      "2.sub\n",
      "3.mul\n",
      "4.division\n",
      "ENTER AN OPTION:3\n",
      "2000000\n",
      "ENTER VALID OPTION\n",
      "THANK YOU!!\n"
     ]
    }
   ],
   "source": [
    "a=1000\n",
    "b=2000\n",
    "print(\"1.add\\n2.sub\\n3.mul\\n4.division\")\n",
    "opt = input(\"ENTER AN OPTION:\")#3\n",
    "if opt==\"1\":#\"3\"==\"1\": False\n",
    "    print(a+b)\n",
    "if opt==\"2\":#\"3\"==\"2\": False\n",
    "    print(a-b)\n",
    "if opt==\"3\":#\"3\"==\"3\": True\n",
    "    print(a*b)\n",
    "if opt==\"4\":#\"3\"==\"4\": False\n",
    "    print(a/b)\n",
    "else:\n",
    "    print(\"ENTER VALID OPTION\")\n",
    "print(\"THANK YOU!!\")"
   ]
  },
  {
   "cell_type": "code",
   "execution_count": 8,
   "id": "531519e8",
   "metadata": {},
   "outputs": [
    {
     "name": "stdout",
     "output_type": "stream",
     "text": [
      "1.add\n",
      "2.sub\n",
      "3.mul\n",
      "4.division\n",
      "ENTER AN OPTION:3\n",
      "2000000\n",
      "THANK YOU!!\n"
     ]
    }
   ],
   "source": [
    "#ELIF: \n",
    "a=1000\n",
    "b=2000\n",
    "print(\"1.add\\n2.sub\\n3.mul\\n4.division\")\n",
    "opt = input(\"ENTER AN OPTION:\")#3\n",
    "if opt==\"1\":#\"3\"==\"1\": False\n",
    "    print(a+b)\n",
    "elif opt==\"2\":#\"3\"==\"2\": False\n",
    "    print(a-b)\n",
    "elif opt==\"3\":#\"3\"==\"3\": True\n",
    "    print(a*b)\n",
    "elif opt==\"4\":\n",
    "    print(a/b)\n",
    "else:\n",
    "    print(\"ENTER VALID OPTION\")\n",
    "print(\"THANK YOU!!\")"
   ]
  },
  {
   "cell_type": "code",
   "execution_count": 9,
   "id": "a9c42f75",
   "metadata": {},
   "outputs": [
    {
     "name": "stdout",
     "output_type": "stream",
     "text": [
      "1.add\n",
      "2.sub\n",
      "3.mul\n",
      "4.division\n",
      "ENTER AN OPTION:1\n",
      "3000\n",
      "THANK YOU!!\n"
     ]
    }
   ],
   "source": [
    "#ELIF: \n",
    "a=1000\n",
    "b=2000\n",
    "print(\"1.add\\n2.sub\\n3.mul\\n4.division\")\n",
    "opt = input(\"ENTER AN OPTION:\")#1\n",
    "if opt==\"1\":#\"1\"==\"1\": True\n",
    "    print(a+b)\n",
    "elif opt==\"2\":\n",
    "    print(a-b)\n",
    "elif opt==\"3\":\n",
    "    print(a*b)\n",
    "elif opt==\"4\":\n",
    "    print(a/b)\n",
    "else:\n",
    "    print(\"ENTER VALID OPTION\")\n",
    "print(\"THANK YOU!!\")"
   ]
  },
  {
   "cell_type": "code",
   "execution_count": 10,
   "id": "b78eaf86",
   "metadata": {},
   "outputs": [
    {
     "name": "stdout",
     "output_type": "stream",
     "text": [
      "1.add\n",
      "2.sub\n",
      "3.mul\n",
      "4.division\n",
      "ENTER AN OPTION:2\n",
      "-1000\n",
      "THANK YOU!!\n"
     ]
    }
   ],
   "source": [
    "#ELIF: \n",
    "a=1000\n",
    "b=2000\n",
    "print(\"1.add\\n2.sub\\n3.mul\\n4.division\")\n",
    "opt = input(\"ENTER AN OPTION:\")#2\n",
    "if opt==\"1\":#\"2\"==\"1\": False\n",
    "    print(a+b)\n",
    "elif opt==\"2\":# \"2\"==\"2\": True\n",
    "    print(a-b)\n",
    "elif opt==\"3\":\n",
    "    print(a*b)\n",
    "elif opt==\"4\":\n",
    "    print(a/b)\n",
    "else:\n",
    "    print(\"ENTER VALID OPTION\")\n",
    "print(\"THANK YOU!!\")"
   ]
  },
  {
   "cell_type": "code",
   "execution_count": 11,
   "id": "2486678a",
   "metadata": {},
   "outputs": [
    {
     "name": "stdout",
     "output_type": "stream",
     "text": [
      "1.add\n",
      "2.sub\n",
      "3.mul\n",
      "4.division\n",
      "ENTER AN OPTION:5\n",
      "ENTER VALID OPTION\n",
      "THANK YOU!!\n"
     ]
    }
   ],
   "source": [
    "#ELIF: \n",
    "a=1000\n",
    "b=2000\n",
    "print(\"1.add\\n2.sub\\n3.mul\\n4.division\")\n",
    "opt = input(\"ENTER AN OPTION:\")#5\n",
    "if opt==\"1\":#\"5\"==\"1\": False\n",
    "    print(a+b)\n",
    "elif opt==\"2\":# \"5\"==\"2\": False\n",
    "    print(a-b)\n",
    "elif opt==\"3\":# \"5\"==\"3\": False\n",
    "    print(a*b)\n",
    "elif opt==\"4\":# \"5\"==\"4\": False\n",
    "    print(a/b)\n",
    "else:\n",
    "    print(\"ENTER VALID OPTION\")\n",
    "print(\"THANK YOU!!\")"
   ]
  },
  {
   "cell_type": "code",
   "execution_count": 12,
   "id": "a475c526",
   "metadata": {},
   "outputs": [
    {
     "name": "stdout",
     "output_type": "stream",
     "text": [
      "Enter number:23\n",
      "ODD\n"
     ]
    }
   ],
   "source": [
    "# take a number from the user and check whether it is even or odd\n",
    "number= input(\"Enter number:\")\n",
    "number = float(number)\n",
    "if number%2==0:\n",
    "    print(\"EVEN\")\n",
    "else:\n",
    "    print(\"ODD\")"
   ]
  },
  {
   "cell_type": "code",
   "execution_count": 13,
   "id": "210b72da",
   "metadata": {},
   "outputs": [
    {
     "name": "stdout",
     "output_type": "stream",
     "text": [
      "Enter number:\n"
     ]
    },
    {
     "ename": "ValueError",
     "evalue": "could not convert string to float: ''",
     "output_type": "error",
     "traceback": [
      "\u001b[1;31m---------------------------------------------------------------------------\u001b[0m",
      "\u001b[1;31mValueError\u001b[0m                                Traceback (most recent call last)",
      "Cell \u001b[1;32mIn[13], line 3\u001b[0m\n\u001b[0;32m      1\u001b[0m \u001b[38;5;66;03m# take a number from the user and check whether it is even or odd\u001b[39;00m\n\u001b[0;32m      2\u001b[0m number\u001b[38;5;241m=\u001b[39m \u001b[38;5;28minput\u001b[39m(\u001b[38;5;124m\"\u001b[39m\u001b[38;5;124mEnter number:\u001b[39m\u001b[38;5;124m\"\u001b[39m)\n\u001b[1;32m----> 3\u001b[0m number \u001b[38;5;241m=\u001b[39m \u001b[38;5;28mfloat\u001b[39m(number)\n\u001b[0;32m      4\u001b[0m \u001b[38;5;28;01mif\u001b[39;00m number\u001b[38;5;241m%\u001b[39m\u001b[38;5;241m2\u001b[39m\u001b[38;5;241m==\u001b[39m\u001b[38;5;241m0\u001b[39m:\n\u001b[0;32m      5\u001b[0m     \u001b[38;5;28mprint\u001b[39m(\u001b[38;5;124m\"\u001b[39m\u001b[38;5;124mEVEN\u001b[39m\u001b[38;5;124m\"\u001b[39m)\n",
      "\u001b[1;31mValueError\u001b[0m: could not convert string to float: ''"
     ]
    }
   ],
   "source": [
    "# take a number from the user and check whether it is even or odd\n",
    "number= input(\"Enter number:\")\n",
    "number = float(number)\n",
    "if number%2==0:\n",
    "    print(\"EVEN\")\n",
    "else:\n",
    "    print(\"ODD\")"
   ]
  },
  {
   "cell_type": "code",
   "execution_count": 14,
   "id": "8a0c1dd7",
   "metadata": {},
   "outputs": [
    {
     "name": "stdout",
     "output_type": "stream",
     "text": [
      "Enter number:24\n",
      "EVEN\n"
     ]
    }
   ],
   "source": [
    "# take a number from the user and check whether it is even or odd\n",
    "number= input(\"Enter number:\")#24\n",
    "if number:#True, bool(24): True\n",
    "    number = float(number)#24.0\n",
    "    if number%2==0:#24%2=0, 0==0: True\n",
    "        print(\"EVEN\")\n",
    "    else:\n",
    "        print(\"ODD\")\n",
    "else:\n",
    "    print(\"ENTER A VALID NUMBER\")"
   ]
  },
  {
   "cell_type": "code",
   "execution_count": 15,
   "id": "04ac69ec",
   "metadata": {},
   "outputs": [
    {
     "name": "stdout",
     "output_type": "stream",
     "text": [
      "Enter number:\n",
      "ENTER A VALID NUMBER\n"
     ]
    }
   ],
   "source": [
    "# take a number from the user and check whether it is even or odd\n",
    "number= input(\"Enter number:\")#\"\"\n",
    "if number:#bool(''): False\n",
    "    number = float(number)\n",
    "    if number%2==0:\n",
    "        print(\"EVEN\")\n",
    "    else:\n",
    "        print(\"ODD\")\n",
    "else:\n",
    "    print(\"ENTER A VALID NUMBER\")"
   ]
  },
  {
   "cell_type": "code",
   "execution_count": 1,
   "id": "3e80aa18",
   "metadata": {},
   "outputs": [
    {
     "name": "stdout",
     "output_type": "stream",
     "text": [
      "1.Men\n",
      "2.Women\n",
      "Enter gender:1\n"
     ]
    }
   ],
   "source": [
    "print(\"1.Men\\n2.Women\")\n",
    "gender = input(\"Enter gender:\")"
   ]
  },
  {
   "cell_type": "code",
   "execution_count": 2,
   "id": "d1233436",
   "metadata": {},
   "outputs": [
    {
     "name": "stdout",
     "output_type": "stream",
     "text": [
      "1.Men\n",
      "2.Women\n",
      "Enter gender:1\n",
      "Enter an age:35\n",
      "He can got to movie.\n",
      "He can apply for vote.\n",
      "He can get marriged.\n",
      "he can apply for driving license\n"
     ]
    }
   ],
   "source": [
    "print(\"1.Men\\n2.Women\")\n",
    "gender = input(\"Enter gender:\")\n",
    "age = input(\"Enter an age:\")\n",
    "age=float(age)\n",
    "if gender==\"1\":\n",
    "    if age>=5:\n",
    "        print(\"He can got to movie.\")\n",
    "    if age>=18:\n",
    "        print(\"He can apply for vote.\")\n",
    "    if age>=23:\n",
    "        print(\"He can get marriged.\")\n",
    "    if age>=18 and age<=32:\n",
    "        print(\"He can apply for govt jobs.\")\n",
    "    if age>=18 and age<=60:\n",
    "        print(\"he can apply for driving license\")\n",
    "else:\n",
    "    if age>=7:\n",
    "        print(\"He can got to movie.\")\n",
    "    if age>=18:\n",
    "        print(\"He can apply for vote.\")\n",
    "    if age>=21:\n",
    "        print(\"He can get marriged.\")\n",
    "    if age>=18 and age<=34:\n",
    "        print(\"He can apply for govt jobs.\")\n",
    "    if age>=18 and age<=60:\n",
    "        print(\"he can apply for driving license\")"
   ]
  },
  {
   "cell_type": "code",
   "execution_count": 3,
   "id": "8e4b7e5a",
   "metadata": {},
   "outputs": [
    {
     "name": "stdout",
     "output_type": "stream",
     "text": [
      "1.Men\n",
      "2.Women\n",
      "Enter gender:100\n",
      "Enter an age:150\n",
      "He can got to movie.\n",
      "He can apply for vote.\n",
      "He can get marriged.\n"
     ]
    }
   ],
   "source": [
    "print(\"1.Men\\n2.Women\")\n",
    "gender = input(\"Enter gender:\")\n",
    "age = input(\"Enter an age:\")\n",
    "age=float(age)\n",
    "if gender==\"1\":\n",
    "    if age>=5:\n",
    "        print(\"He can got to movie.\")\n",
    "    if age>=18:\n",
    "        print(\"He can apply for vote.\")\n",
    "    if age>=23:\n",
    "        print(\"He can get marriged.\")\n",
    "    if age>=18 and age<=32:\n",
    "        print(\"He can apply for govt jobs.\")\n",
    "    if age>=18 and age<=60:\n",
    "        print(\"he can apply for driving license\")\n",
    "else:\n",
    "    if age>=7:\n",
    "        print(\"He can got to movie.\")\n",
    "    if age>=18:\n",
    "        print(\"He can apply for vote.\")\n",
    "    if age>=21:\n",
    "        print(\"He can get marriged.\")\n",
    "    if age>=18 and age<=34:\n",
    "        print(\"He can apply for govt jobs.\")\n",
    "    if age>=18 and age<=60:\n",
    "        print(\"he can apply for driving license\")"
   ]
  },
  {
   "cell_type": "code",
   "execution_count": 4,
   "id": "43258c22",
   "metadata": {},
   "outputs": [
    {
     "name": "stdout",
     "output_type": "stream",
     "text": [
      "1.Men\n",
      "2.Women\n",
      "Enter gender:1\n",
      "Enter an age:37\n",
      "can apply for vote.\n",
      "can apply for driving license\n",
      "can got to movie.\n",
      "can get marriged.\n"
     ]
    }
   ],
   "source": [
    "print(\"1.Men\\n2.Women\")\n",
    "gender = input(\"Enter gender:\")\n",
    "age = input(\"Enter an age:\")\n",
    "age=float(age)\n",
    "if age>=18:\n",
    "        print(\"can apply for vote.\")\n",
    "if age>=18 and age<=60:\n",
    "        print(\"can apply for driving license\")\n",
    "\n",
    "if gender==\"1\":\n",
    "    if age>=5:\n",
    "        print(\"can got to movie.\")\n",
    "    if age>=23:\n",
    "        print(\"can get marriged.\")\n",
    "    if age>=18 and age<=32:\n",
    "        print(\"can apply for govt jobs.\")\n",
    "else:\n",
    "    if age>=7:\n",
    "        print(\"can got to movie.\")\n",
    "    if age>=18:\n",
    "        print(\"can apply for vote.\")\n",
    "    if age>=21:\n",
    "        print(\"can get marriged.\")\n",
    "    if age>=18 and age<=34:\n",
    "        print(\"can apply for govt jobs.\")\n",
    "    "
   ]
  },
  {
   "cell_type": "code",
   "execution_count": 5,
   "id": "3a5e9011",
   "metadata": {},
   "outputs": [
    {
     "name": "stdout",
     "output_type": "stream",
     "text": [
      "Even\n"
     ]
    }
   ],
   "source": [
    "number = 12\n",
    "if number%2==0:\n",
    "    print(\"Even\")\n",
    "else:\n",
    "    print(\"Odd\")"
   ]
  },
  {
   "cell_type": "code",
   "execution_count": 6,
   "id": "03e79d63",
   "metadata": {},
   "outputs": [
    {
     "name": "stdout",
     "output_type": "stream",
     "text": [
      "EVEN\n"
     ]
    }
   ],
   "source": [
    "number = 12\n",
    "print(\"EVEN\" if number%2==0 else \"ODD\")"
   ]
  },
  {
   "cell_type": "code",
   "execution_count": 7,
   "id": "0e327be7",
   "metadata": {},
   "outputs": [
    {
     "name": "stdout",
     "output_type": "stream",
     "text": [
      "ODD\n"
     ]
    }
   ],
   "source": [
    "number = 13\n",
    "print(\"EVEN\" if number%2==0  else \"ODD\")"
   ]
  },
  {
   "cell_type": "code",
   "execution_count": null,
   "id": "b291cd8d",
   "metadata": {},
   "outputs": [],
   "source": [
    "number = 13\n",
    "k= any(\"EVEN\" if number%2==0  else \"ODD\")\n",
    "print(k)"
   ]
  },
  {
   "cell_type": "code",
   "execution_count": 8,
   "id": "0d3857b0",
   "metadata": {},
   "outputs": [
    {
     "data": {
      "text/plain": [
       "True"
      ]
     },
     "execution_count": 8,
     "metadata": {},
     "output_type": "execute_result"
    }
   ],
   "source": [
    "all([True, True, True])"
   ]
  },
  {
   "cell_type": "code",
   "execution_count": 9,
   "id": "a63d8296",
   "metadata": {},
   "outputs": [
    {
     "data": {
      "text/plain": [
       "False"
      ]
     },
     "execution_count": 9,
     "metadata": {},
     "output_type": "execute_result"
    }
   ],
   "source": [
    "all([True, True, True, False])"
   ]
  },
  {
   "cell_type": "code",
   "execution_count": 10,
   "id": "aa3c9069",
   "metadata": {},
   "outputs": [
    {
     "data": {
      "text/plain": [
       "True"
      ]
     },
     "execution_count": 10,
     "metadata": {},
     "output_type": "execute_result"
    }
   ],
   "source": [
    "any([True, True, True])"
   ]
  },
  {
   "cell_type": "code",
   "execution_count": 11,
   "id": "a5f43d16",
   "metadata": {},
   "outputs": [
    {
     "data": {
      "text/plain": [
       "True"
      ]
     },
     "execution_count": 11,
     "metadata": {},
     "output_type": "execute_result"
    }
   ],
   "source": [
    "any([False, False, True])"
   ]
  },
  {
   "cell_type": "code",
   "execution_count": 12,
   "id": "907ea890",
   "metadata": {},
   "outputs": [
    {
     "data": {
      "text/plain": [
       "True"
      ]
     },
     "execution_count": 12,
     "metadata": {},
     "output_type": "execute_result"
    }
   ],
   "source": [
    "any(\"EVEN\")"
   ]
  },
  {
   "cell_type": "code",
   "execution_count": 13,
   "id": "60332399",
   "metadata": {},
   "outputs": [
    {
     "data": {
      "text/plain": [
       "True"
      ]
     },
     "execution_count": 13,
     "metadata": {},
     "output_type": "execute_result"
    }
   ],
   "source": [
    "any(\"ODD\")"
   ]
  },
  {
   "cell_type": "code",
   "execution_count": 14,
   "id": "646bb622",
   "metadata": {},
   "outputs": [
    {
     "name": "stdout",
     "output_type": "stream",
     "text": [
      "True\n"
     ]
    }
   ],
   "source": [
    "number = 13\n",
    "k= any(\"EVEN\" if number%2==0  else \"ODD\")\n",
    "print(k)"
   ]
  },
  {
   "cell_type": "code",
   "execution_count": null,
   "id": "2dbcab90",
   "metadata": {},
   "outputs": [],
   "source": []
  }
 ],
 "metadata": {
  "kernelspec": {
   "display_name": "Python 3 (ipykernel)",
   "language": "python",
   "name": "python3"
  },
  "language_info": {
   "codemirror_mode": {
    "name": "ipython",
    "version": 3
   },
   "file_extension": ".py",
   "mimetype": "text/x-python",
   "name": "python",
   "nbconvert_exporter": "python",
   "pygments_lexer": "ipython3",
   "version": "3.11.3"
  }
 },
 "nbformat": 4,
 "nbformat_minor": 5
}
