{
 "cells": [
  {
   "cell_type": "code",
   "execution_count": 1,
   "id": "f2ad28fa",
   "metadata": {},
   "outputs": [
    {
     "ename": "KeyError",
     "evalue": "0",
     "output_type": "error",
     "traceback": [
      "\u001b[1;31m---------------------------------------------------------------------------\u001b[0m",
      "\u001b[1;31mKeyError\u001b[0m                                  Traceback (most recent call last)",
      "Cell \u001b[1;32mIn[1], line 2\u001b[0m\n\u001b[0;32m      1\u001b[0m data \u001b[38;5;241m=\u001b[39m {\u001b[38;5;124m\"\u001b[39m\u001b[38;5;124mname\u001b[39m\u001b[38;5;124m\"\u001b[39m:\u001b[38;5;124m\"\u001b[39m\u001b[38;5;124mJay\u001b[39m\u001b[38;5;124m\"\u001b[39m,\u001b[38;5;124m\"\u001b[39m\u001b[38;5;124mage\u001b[39m\u001b[38;5;124m\"\u001b[39m:\u001b[38;5;241m8\u001b[39m,\u001b[38;5;124m\"\u001b[39m\u001b[38;5;124mclass\u001b[39m\u001b[38;5;124m\"\u001b[39m:\u001b[38;5;241m2\u001b[39m}\n\u001b[1;32m----> 2\u001b[0m \u001b[38;5;28mprint\u001b[39m(data[\u001b[38;5;241m0\u001b[39m])\n",
      "\u001b[1;31mKeyError\u001b[0m: 0"
     ]
    }
   ],
   "source": [
    "data = {\"name\":\"Jay\",\"age\":8,\"class\":2}\n",
    "print(data[0])"
   ]
  },
  {
   "cell_type": "code",
   "execution_count": 2,
   "id": "1317838a",
   "metadata": {},
   "outputs": [
    {
     "name": "stdout",
     "output_type": "stream",
     "text": [
      "Jay\n"
     ]
    }
   ],
   "source": [
    "data = {\"name\":\"Jay\",\"age\":8,\"class\":2}\n",
    "print(data[\"name\"])"
   ]
  },
  {
   "cell_type": "code",
   "execution_count": 3,
   "id": "a90d6eb5",
   "metadata": {},
   "outputs": [
    {
     "name": "stdout",
     "output_type": "stream",
     "text": [
      "5216897978236651126\n"
     ]
    }
   ],
   "source": [
    "print(hash(\"name\"))"
   ]
  },
  {
   "cell_type": "code",
   "execution_count": 4,
   "id": "36858a85",
   "metadata": {},
   "outputs": [
    {
     "name": "stdout",
     "output_type": "stream",
     "text": [
      "5216897978236651126\n"
     ]
    }
   ],
   "source": [
    "print(hash(\"name\"))"
   ]
  },
  {
   "cell_type": "code",
   "execution_count": 5,
   "id": "3acc18c1",
   "metadata": {},
   "outputs": [
    {
     "name": "stdout",
     "output_type": "stream",
     "text": [
      "Jay\n",
      "{'name': 'Jay', 'age': 8, 'class': 2}\n"
     ]
    }
   ],
   "source": [
    "data = {\"name\":\"Jay\",\"age\":8,\"class\":2}\n",
    "print(data[\"name\"])\n",
    "print(data)"
   ]
  },
  {
   "cell_type": "code",
   "execution_count": 7,
   "id": "e0d738d2",
   "metadata": {},
   "outputs": [
    {
     "name": "stdout",
     "output_type": "stream",
     "text": [
      "{40, 10, 20, 30}\n"
     ]
    }
   ],
   "source": [
    "s={10,20,30,40}\n",
    "print(s)"
   ]
  },
  {
   "cell_type": "code",
   "execution_count": 8,
   "id": "9f540556",
   "metadata": {},
   "outputs": [
    {
     "name": "stdout",
     "output_type": "stream",
     "text": [
      "Jay\n",
      "{'name': 'Jay', 'age': 8, 'class': 2}\n",
      "name\n",
      "age\n",
      "class\n"
     ]
    }
   ],
   "source": [
    "data = {\"name\":\"Jay\",\"age\":8,\"class\":2}\n",
    "print(data[\"name\"])\n",
    "print(data)\n",
    "for i in data:\n",
    "    print(i)"
   ]
  },
  {
   "cell_type": "code",
   "execution_count": 10,
   "id": "4e4a31b6",
   "metadata": {},
   "outputs": [
    {
     "name": "stdout",
     "output_type": "stream",
     "text": [
      "1000 1000\n",
      "pyt 1708978677123698528\n",
      "(1, 2, 3, 4) 590899387183067792\n"
     ]
    }
   ],
   "source": [
    "for i in [1000,\"pyt\",(1,2,3,4),{10,20,30},[10,20,30]]:\n",
    "    try:\n",
    "        print(i,hash(i))\n",
    "    except:\n",
    "        pass"
   ]
  },
  {
   "cell_type": "code",
   "execution_count": 11,
   "id": "426ac5a8",
   "metadata": {},
   "outputs": [
    {
     "ename": "TypeError",
     "evalue": "unhashable type: 'list'",
     "output_type": "error",
     "traceback": [
      "\u001b[1;31m---------------------------------------------------------------------------\u001b[0m",
      "\u001b[1;31mTypeError\u001b[0m                                 Traceback (most recent call last)",
      "Cell \u001b[1;32mIn[11], line 1\u001b[0m\n\u001b[1;32m----> 1\u001b[0m \u001b[38;5;28mhash\u001b[39m([\u001b[38;5;241m1\u001b[39m,\u001b[38;5;241m2\u001b[39m,\u001b[38;5;241m3\u001b[39m,\u001b[38;5;241m4\u001b[39m])\n",
      "\u001b[1;31mTypeError\u001b[0m: unhashable type: 'list'"
     ]
    }
   ],
   "source": [
    "hash([1,2,3,4])"
   ]
  },
  {
   "cell_type": "code",
   "execution_count": 12,
   "id": "086da67f",
   "metadata": {},
   "outputs": [
    {
     "ename": "TypeError",
     "evalue": "unhashable type: 'set'",
     "output_type": "error",
     "traceback": [
      "\u001b[1;31m---------------------------------------------------------------------------\u001b[0m",
      "\u001b[1;31mTypeError\u001b[0m                                 Traceback (most recent call last)",
      "Cell \u001b[1;32mIn[12], line 1\u001b[0m\n\u001b[1;32m----> 1\u001b[0m \u001b[38;5;28mhash\u001b[39m({\u001b[38;5;241m1\u001b[39m,\u001b[38;5;241m2\u001b[39m,\u001b[38;5;241m3\u001b[39m,\u001b[38;5;241m4\u001b[39m})\n",
      "\u001b[1;31mTypeError\u001b[0m: unhashable type: 'set'"
     ]
    }
   ],
   "source": [
    "hash({1,2,3,4})"
   ]
  },
  {
   "cell_type": "code",
   "execution_count": 13,
   "id": "020666d4",
   "metadata": {},
   "outputs": [
    {
     "name": "stdout",
     "output_type": "stream",
     "text": [
      "{1: 'int', 1.2: 'float', 'pyt': 'str', (1, 2, 3): 'tuple'}\n"
     ]
    }
   ],
   "source": [
    "data={1:\"int\",1.2:\"float\",\"pyt\":\"str\",(1,2,3):\"tuple\"}\n",
    "print(data)"
   ]
  },
  {
   "cell_type": "code",
   "execution_count": 14,
   "id": "30528d8b",
   "metadata": {},
   "outputs": [
    {
     "ename": "TypeError",
     "evalue": "unhashable type: 'list'",
     "output_type": "error",
     "traceback": [
      "\u001b[1;31m---------------------------------------------------------------------------\u001b[0m",
      "\u001b[1;31mTypeError\u001b[0m                                 Traceback (most recent call last)",
      "Cell \u001b[1;32mIn[14], line 1\u001b[0m\n\u001b[1;32m----> 1\u001b[0m data\u001b[38;5;241m=\u001b[39m{\u001b[38;5;241m1\u001b[39m:\u001b[38;5;124m\"\u001b[39m\u001b[38;5;124mint\u001b[39m\u001b[38;5;124m\"\u001b[39m,\u001b[38;5;241m1.2\u001b[39m:\u001b[38;5;124m\"\u001b[39m\u001b[38;5;124mfloat\u001b[39m\u001b[38;5;124m\"\u001b[39m,\u001b[38;5;124m\"\u001b[39m\u001b[38;5;124mpyt\u001b[39m\u001b[38;5;124m\"\u001b[39m:\u001b[38;5;124m\"\u001b[39m\u001b[38;5;124mstr\u001b[39m\u001b[38;5;124m\"\u001b[39m,(\u001b[38;5;241m1\u001b[39m,\u001b[38;5;241m2\u001b[39m,\u001b[38;5;241m3\u001b[39m):\u001b[38;5;124m\"\u001b[39m\u001b[38;5;124mtuple\u001b[39m\u001b[38;5;124m\"\u001b[39m,[\u001b[38;5;241m1\u001b[39m,\u001b[38;5;241m2\u001b[39m,\u001b[38;5;241m3\u001b[39m]:\u001b[38;5;124m\"\u001b[39m\u001b[38;5;124mlist\u001b[39m\u001b[38;5;124m\"\u001b[39m}\n\u001b[0;32m      2\u001b[0m \u001b[38;5;28mprint\u001b[39m(data)\n",
      "\u001b[1;31mTypeError\u001b[0m: unhashable type: 'list'"
     ]
    }
   ],
   "source": [
    "data={1:\"int\",1.2:\"float\",\"pyt\":\"str\",(1,2,3):\"tuple\",[1,2,3]:\"list\"}\n",
    "print(data)"
   ]
  },
  {
   "cell_type": "code",
   "execution_count": 15,
   "id": "8ee1efa6",
   "metadata": {},
   "outputs": [
    {
     "ename": "TypeError",
     "evalue": "unhashable type: 'set'",
     "output_type": "error",
     "traceback": [
      "\u001b[1;31m---------------------------------------------------------------------------\u001b[0m",
      "\u001b[1;31mTypeError\u001b[0m                                 Traceback (most recent call last)",
      "Cell \u001b[1;32mIn[15], line 1\u001b[0m\n\u001b[1;32m----> 1\u001b[0m data\u001b[38;5;241m=\u001b[39m{\u001b[38;5;241m1\u001b[39m:\u001b[38;5;124m\"\u001b[39m\u001b[38;5;124mint\u001b[39m\u001b[38;5;124m\"\u001b[39m,\u001b[38;5;241m1.2\u001b[39m:\u001b[38;5;124m\"\u001b[39m\u001b[38;5;124mfloat\u001b[39m\u001b[38;5;124m\"\u001b[39m,\u001b[38;5;124m\"\u001b[39m\u001b[38;5;124mpyt\u001b[39m\u001b[38;5;124m\"\u001b[39m:\u001b[38;5;124m\"\u001b[39m\u001b[38;5;124mstr\u001b[39m\u001b[38;5;124m\"\u001b[39m,(\u001b[38;5;241m1\u001b[39m,\u001b[38;5;241m2\u001b[39m,\u001b[38;5;241m3\u001b[39m):\u001b[38;5;124m\"\u001b[39m\u001b[38;5;124mtuple\u001b[39m\u001b[38;5;124m\"\u001b[39m,{\u001b[38;5;241m1\u001b[39m,\u001b[38;5;241m2\u001b[39m,\u001b[38;5;241m3\u001b[39m}:\u001b[38;5;124m\"\u001b[39m\u001b[38;5;124mlist\u001b[39m\u001b[38;5;124m\"\u001b[39m}\n\u001b[0;32m      2\u001b[0m \u001b[38;5;28mprint\u001b[39m(data)\n",
      "\u001b[1;31mTypeError\u001b[0m: unhashable type: 'set'"
     ]
    }
   ],
   "source": [
    "data={1:\"int\",1.2:\"float\",\"pyt\":\"str\",(1,2,3):\"tuple\",{1,2,3}:\"list\"}\n",
    "print(data)"
   ]
  },
  {
   "cell_type": "code",
   "execution_count": 16,
   "id": "3dff7724",
   "metadata": {},
   "outputs": [
    {
     "name": "stdout",
     "output_type": "stream",
     "text": [
      "{'employees': [1, 2, 23, 43], 'ids': {1, 2, 3, 4}}\n"
     ]
    }
   ],
   "source": [
    "data={\"employees\":[1,2,23,43],\"ids\":{1,2,3,4}}\n",
    "print(data)"
   ]
  },
  {
   "cell_type": "code",
   "execution_count": 17,
   "id": "56a2c411",
   "metadata": {},
   "outputs": [
    {
     "name": "stdout",
     "output_type": "stream",
     "text": [
      "['__class__', '__class_getitem__', '__contains__', '__delattr__', '__delitem__', '__dir__', '__doc__', '__eq__', '__format__', '__ge__', '__getattribute__', '__getitem__', '__getstate__', '__gt__', '__hash__', '__init__', '__init_subclass__', '__ior__', '__iter__', '__le__', '__len__', '__lt__', '__ne__', '__new__', '__or__', '__reduce__', '__reduce_ex__', '__repr__', '__reversed__', '__ror__', '__setattr__', '__setitem__', '__sizeof__', '__str__', '__subclasshook__', 'clear', 'copy', 'fromkeys', 'get', 'items', 'keys', 'pop', 'popitem', 'setdefault', 'update', 'values']\n"
     ]
    }
   ],
   "source": [
    "print(dir(data))"
   ]
  },
  {
   "cell_type": "code",
   "execution_count": 18,
   "id": "fa29b324",
   "metadata": {},
   "outputs": [
    {
     "name": "stdout",
     "output_type": "stream",
     "text": [
      "{'name': 'jay', 'age': 9, 'email': 'jay2gmail.com'}\n",
      "{'name': 'jay', 'age': 9, 'email': 'jay2gmail.com'}\n",
      "None\n"
     ]
    }
   ],
   "source": [
    "data={\"name\":\"jay\",\"age\":8}\n",
    "data1=data\n",
    "data2 = data1.update({\"age\":9,\"email\":\"jay2gmail.com\"})\n",
    "print(data)\n",
    "print(data1)\n",
    "print(data2)"
   ]
  },
  {
   "cell_type": "code",
   "execution_count": 19,
   "id": "a4fb6948",
   "metadata": {},
   "outputs": [
    {
     "name": "stdout",
     "output_type": "stream",
     "text": [
      "[{'name': 'jay', 'age': 8, 'email': 'e1@gmail.com'}, {'name': 'VEDHA', 'age': 7, 'email': 'e1@gmail.com'}, {'name': 'Anil', 'age': 5, 'email': 'e1@gmail.com'}]\n"
     ]
    }
   ],
   "source": [
    "l=[{\"name\":\"jay\",\"age\":8},{\"name\":\"VEDHA\",\"age\":7},{\"name\":\"Anil\",\"age\":5}]\n",
    "for i in l:\n",
    "    i.update({\"email\":\"e1@gmail.com\"})\n",
    "print(l)"
   ]
  },
  {
   "cell_type": "code",
   "execution_count": 20,
   "id": "9350fdca",
   "metadata": {},
   "outputs": [
    {
     "name": "stdout",
     "output_type": "stream",
     "text": [
      "4\n",
      "d= {'name': 'jay', 'ids': [1, 2, 3], 'emails': ('e1', 'e2', 'e3')}\n",
      "e= {'name': 'jay', 'ids': [1, 2, 3], 'emails': ('e1', 'e2', 'e3')}\n",
      "f= {'name': 'jay', 'ids': [1, 2, 3], 'emails': ('e1', 'e2', 'e3')}\n",
      "g= {'name': 'jay', 'ids': [1, 2, 3, 4], 'emails': ('e1', 'e2', 'e3')}\n"
     ]
    }
   ],
   "source": [
    "from copy import deepcopy\n",
    "d={\"name\":\"jay\",\"ids\":[1,2,3,4],\"emails\":(\"e1\",\"e2\",\"e3\")}\n",
    "e=d\n",
    "f=d.copy()\n",
    "g=deepcopy(d)\n",
    "removed_id = e['ids'].pop()\n",
    "print(removed_id)\n",
    "print(\"d=\",d)\n",
    "print(\"e=\",e)\n",
    "print(\"f=\",f)\n",
    "print(\"g=\",g)"
   ]
  },
  {
   "cell_type": "code",
   "execution_count": 21,
   "id": "4d9a9fdc",
   "metadata": {},
   "outputs": [
    {
     "name": "stdout",
     "output_type": "stream",
     "text": [
      "name\n",
      "age\n"
     ]
    }
   ],
   "source": [
    "data = {\"name\":\"jay\",\"age\":8}\n",
    "for i in data:\n",
    "    print(i)"
   ]
  },
  {
   "cell_type": "code",
   "execution_count": 22,
   "id": "5fe1cfc1",
   "metadata": {},
   "outputs": [
    {
     "name": "stdout",
     "output_type": "stream",
     "text": [
      "jay\n",
      "8\n"
     ]
    }
   ],
   "source": [
    "data = {\"name\":\"jay\",\"age\":8}\n",
    "for i in data.values():\n",
    "    print(i)"
   ]
  },
  {
   "cell_type": "code",
   "execution_count": 23,
   "id": "c66c5d7e",
   "metadata": {},
   "outputs": [
    {
     "name": "stdout",
     "output_type": "stream",
     "text": [
      "name\n",
      "age\n"
     ]
    }
   ],
   "source": [
    "data = {\"name\":\"jay\",\"age\":8}\n",
    "for i in data.keys():\n",
    "    print(i)"
   ]
  },
  {
   "cell_type": "code",
   "execution_count": 24,
   "id": "26bec8a4",
   "metadata": {},
   "outputs": [
    {
     "name": "stdout",
     "output_type": "stream",
     "text": [
      "('name', 'jay')\n",
      "('age', 8)\n"
     ]
    }
   ],
   "source": [
    "data = {\"name\":\"jay\",\"age\":8}\n",
    "for i in data.items():\n",
    "    print(i)"
   ]
  },
  {
   "cell_type": "code",
   "execution_count": 25,
   "id": "7c03da58",
   "metadata": {},
   "outputs": [
    {
     "name": "stdout",
     "output_type": "stream",
     "text": [
      "['__class__', '__class_getitem__', '__contains__', '__delattr__', '__delitem__', '__dir__', '__doc__', '__eq__', '__format__', '__ge__', '__getattribute__', '__getitem__', '__getstate__', '__gt__', '__hash__', '__init__', '__init_subclass__', '__ior__', '__iter__', '__le__', '__len__', '__lt__', '__ne__', '__new__', '__or__', '__reduce__', '__reduce_ex__', '__repr__', '__reversed__', '__ror__', '__setattr__', '__setitem__', '__sizeof__', '__str__', '__subclasshook__', 'clear', 'copy', 'fromkeys', 'get', 'items', 'keys', 'pop', 'popitem', 'setdefault', 'update', 'values']\n"
     ]
    }
   ],
   "source": [
    "print(dir(data))"
   ]
  },
  {
   "cell_type": "code",
   "execution_count": 26,
   "id": "c1196567",
   "metadata": {},
   "outputs": [
    {
     "name": "stdout",
     "output_type": "stream",
     "text": [
      "{'name': 'jay', 'age': 7}\n"
     ]
    }
   ],
   "source": [
    "data = {\"name\":\"jay\",\"age\":8}\n",
    "data.update({\"age\":7})\n",
    "print(data)"
   ]
  },
  {
   "cell_type": "code",
   "execution_count": 27,
   "id": "5b77e55a",
   "metadata": {},
   "outputs": [
    {
     "name": "stdout",
     "output_type": "stream",
     "text": [
      "{'name': 'jay', 'age': 8}\n"
     ]
    }
   ],
   "source": [
    "data = {\"name\":\"jay\",\"age\":8}\n",
    "data.setdefault(\"age\",7)\n",
    "print(data)"
   ]
  },
  {
   "cell_type": "code",
   "execution_count": 28,
   "id": "a6405670",
   "metadata": {},
   "outputs": [
    {
     "name": "stdout",
     "output_type": "stream",
     "text": [
      "{'name': 'jay', 'age': 8, 'email': 7}\n"
     ]
    }
   ],
   "source": [
    "data = {\"name\":\"jay\",\"age\":8}\n",
    "data.setdefault(\"email\",7)\n",
    "print(data)"
   ]
  },
  {
   "cell_type": "code",
   "execution_count": 29,
   "id": "01514f8f",
   "metadata": {},
   "outputs": [
    {
     "name": "stdout",
     "output_type": "stream",
     "text": [
      "{'name': 'jay', 'age': 7, 'email': 7}\n"
     ]
    }
   ],
   "source": [
    "data = {\"name\":\"jay\",\"age\":8}\n",
    "data.update({\"email\":7,\"age\":7})\n",
    "print(data)"
   ]
  },
  {
   "cell_type": "code",
   "execution_count": 30,
   "id": "75781849",
   "metadata": {},
   "outputs": [
    {
     "name": "stdout",
     "output_type": "stream",
     "text": [
      "['__class__', '__class_getitem__', '__contains__', '__delattr__', '__delitem__', '__dir__', '__doc__', '__eq__', '__format__', '__ge__', '__getattribute__', '__getitem__', '__getstate__', '__gt__', '__hash__', '__init__', '__init_subclass__', '__ior__', '__iter__', '__le__', '__len__', '__lt__', '__ne__', '__new__', '__or__', '__reduce__', '__reduce_ex__', '__repr__', '__reversed__', '__ror__', '__setattr__', '__setitem__', '__sizeof__', '__str__', '__subclasshook__', 'clear', 'copy', 'fromkeys', 'get', 'items', 'keys', 'pop', 'popitem', 'setdefault', 'update', 'values']\n"
     ]
    }
   ],
   "source": [
    "print(dir(d))"
   ]
  },
  {
   "cell_type": "code",
   "execution_count": 31,
   "id": "8548c322",
   "metadata": {},
   "outputs": [
    {
     "ename": "TypeError",
     "evalue": "pop expected at least 1 argument, got 0",
     "output_type": "error",
     "traceback": [
      "\u001b[1;31m---------------------------------------------------------------------------\u001b[0m",
      "\u001b[1;31mTypeError\u001b[0m                                 Traceback (most recent call last)",
      "Cell \u001b[1;32mIn[31], line 2\u001b[0m\n\u001b[0;32m      1\u001b[0m data \u001b[38;5;241m=\u001b[39m {\u001b[38;5;124m\"\u001b[39m\u001b[38;5;124mname\u001b[39m\u001b[38;5;124m\"\u001b[39m:\u001b[38;5;124m\"\u001b[39m\u001b[38;5;124mjay\u001b[39m\u001b[38;5;124m\"\u001b[39m,\u001b[38;5;124m\"\u001b[39m\u001b[38;5;124mage\u001b[39m\u001b[38;5;124m\"\u001b[39m:\u001b[38;5;241m8\u001b[39m}\n\u001b[1;32m----> 2\u001b[0m \u001b[38;5;28mprint\u001b[39m(data\u001b[38;5;241m.\u001b[39mpop())\n",
      "\u001b[1;31mTypeError\u001b[0m: pop expected at least 1 argument, got 0"
     ]
    }
   ],
   "source": [
    "data = {\"name\":\"jay\",\"age\":8}\n",
    "print(data.pop())"
   ]
  },
  {
   "cell_type": "code",
   "execution_count": 33,
   "id": "a5aeb344",
   "metadata": {},
   "outputs": [
    {
     "name": "stdout",
     "output_type": "stream",
     "text": [
      "{'age': 8}\n",
      "jay\n"
     ]
    }
   ],
   "source": [
    "data = {\"name\":\"jay\",\"age\":8}\n",
    "rem_v = data.pop(\"name\")\n",
    "print(data)\n",
    "print(rem_v)"
   ]
  },
  {
   "cell_type": "code",
   "execution_count": 34,
   "id": "fdf34456",
   "metadata": {},
   "outputs": [
    {
     "ename": "KeyError",
     "evalue": "'email'",
     "output_type": "error",
     "traceback": [
      "\u001b[1;31m---------------------------------------------------------------------------\u001b[0m",
      "\u001b[1;31mKeyError\u001b[0m                                  Traceback (most recent call last)",
      "Cell \u001b[1;32mIn[34], line 2\u001b[0m\n\u001b[0;32m      1\u001b[0m data \u001b[38;5;241m=\u001b[39m {\u001b[38;5;124m\"\u001b[39m\u001b[38;5;124mname\u001b[39m\u001b[38;5;124m\"\u001b[39m:\u001b[38;5;124m\"\u001b[39m\u001b[38;5;124mjay\u001b[39m\u001b[38;5;124m\"\u001b[39m,\u001b[38;5;124m\"\u001b[39m\u001b[38;5;124mage\u001b[39m\u001b[38;5;124m\"\u001b[39m:\u001b[38;5;241m8\u001b[39m}\n\u001b[1;32m----> 2\u001b[0m rem_v \u001b[38;5;241m=\u001b[39m data\u001b[38;5;241m.\u001b[39mpop(\u001b[38;5;124m\"\u001b[39m\u001b[38;5;124memail\u001b[39m\u001b[38;5;124m\"\u001b[39m)\n\u001b[0;32m      3\u001b[0m \u001b[38;5;28mprint\u001b[39m(data)\n\u001b[0;32m      4\u001b[0m \u001b[38;5;28mprint\u001b[39m(rem_v)\n",
      "\u001b[1;31mKeyError\u001b[0m: 'email'"
     ]
    }
   ],
   "source": [
    "data = {\"name\":\"jay\",\"age\":8}\n",
    "rem_v = data.pop(\"email\")\n",
    "print(data)\n",
    "print(rem_v)"
   ]
  },
  {
   "cell_type": "code",
   "execution_count": 35,
   "id": "51c9851e",
   "metadata": {},
   "outputs": [
    {
     "name": "stdout",
     "output_type": "stream",
     "text": [
      "{'name': 'jay'}\n",
      "('age', 8)\n"
     ]
    }
   ],
   "source": [
    "data = {\"name\":\"jay\",\"age\":8}\n",
    "rem_v = data.popitem()\n",
    "print(data)\n",
    "print(rem_v)"
   ]
  },
  {
   "cell_type": "code",
   "execution_count": 36,
   "id": "bd7fae9a",
   "metadata": {},
   "outputs": [
    {
     "name": "stdout",
     "output_type": "stream",
     "text": [
      "jay\n",
      "jay\n"
     ]
    }
   ],
   "source": [
    "data = {\"name\":\"jay\",\"age\":8}\n",
    "print(data.get(\"name\"))\n",
    "print(data[\"name\"])\n"
   ]
  },
  {
   "cell_type": "code",
   "execution_count": 37,
   "id": "5e3efbf1",
   "metadata": {},
   "outputs": [
    {
     "name": "stdout",
     "output_type": "stream",
     "text": [
      "None\n"
     ]
    },
    {
     "ename": "KeyError",
     "evalue": "'email'",
     "output_type": "error",
     "traceback": [
      "\u001b[1;31m---------------------------------------------------------------------------\u001b[0m",
      "\u001b[1;31mKeyError\u001b[0m                                  Traceback (most recent call last)",
      "Cell \u001b[1;32mIn[37], line 3\u001b[0m\n\u001b[0;32m      1\u001b[0m data \u001b[38;5;241m=\u001b[39m {\u001b[38;5;124m\"\u001b[39m\u001b[38;5;124mname\u001b[39m\u001b[38;5;124m\"\u001b[39m:\u001b[38;5;124m\"\u001b[39m\u001b[38;5;124mjay\u001b[39m\u001b[38;5;124m\"\u001b[39m,\u001b[38;5;124m\"\u001b[39m\u001b[38;5;124mage\u001b[39m\u001b[38;5;124m\"\u001b[39m:\u001b[38;5;241m8\u001b[39m}\n\u001b[0;32m      2\u001b[0m \u001b[38;5;28mprint\u001b[39m(data\u001b[38;5;241m.\u001b[39mget(\u001b[38;5;124m\"\u001b[39m\u001b[38;5;124memail\u001b[39m\u001b[38;5;124m\"\u001b[39m))\n\u001b[1;32m----> 3\u001b[0m \u001b[38;5;28mprint\u001b[39m(data[\u001b[38;5;124m\"\u001b[39m\u001b[38;5;124memail\u001b[39m\u001b[38;5;124m\"\u001b[39m])\n",
      "\u001b[1;31mKeyError\u001b[0m: 'email'"
     ]
    }
   ],
   "source": [
    "data = {\"name\":\"jay\",\"age\":8}\n",
    "print(data.get(\"email\"))\n",
    "print(data[\"email\"])"
   ]
  },
  {
   "cell_type": "code",
   "execution_count": 38,
   "id": "1aa08df4",
   "metadata": {},
   "outputs": [
    {
     "name": "stdout",
     "output_type": "stream",
     "text": [
      "e1@gmail.com\n"
     ]
    },
    {
     "ename": "KeyError",
     "evalue": "'email'",
     "output_type": "error",
     "traceback": [
      "\u001b[1;31m---------------------------------------------------------------------------\u001b[0m",
      "\u001b[1;31mKeyError\u001b[0m                                  Traceback (most recent call last)",
      "Cell \u001b[1;32mIn[38], line 3\u001b[0m\n\u001b[0;32m      1\u001b[0m data \u001b[38;5;241m=\u001b[39m {\u001b[38;5;124m\"\u001b[39m\u001b[38;5;124mname\u001b[39m\u001b[38;5;124m\"\u001b[39m:\u001b[38;5;124m\"\u001b[39m\u001b[38;5;124mjay\u001b[39m\u001b[38;5;124m\"\u001b[39m,\u001b[38;5;124m\"\u001b[39m\u001b[38;5;124mage\u001b[39m\u001b[38;5;124m\"\u001b[39m:\u001b[38;5;241m8\u001b[39m}\n\u001b[0;32m      2\u001b[0m \u001b[38;5;28mprint\u001b[39m(data\u001b[38;5;241m.\u001b[39mget(\u001b[38;5;124m\"\u001b[39m\u001b[38;5;124memail\u001b[39m\u001b[38;5;124m\"\u001b[39m, \u001b[38;5;124m\"\u001b[39m\u001b[38;5;124me1@gmail.com\u001b[39m\u001b[38;5;124m\"\u001b[39m))\n\u001b[1;32m----> 3\u001b[0m \u001b[38;5;28mprint\u001b[39m(data[\u001b[38;5;124m\"\u001b[39m\u001b[38;5;124memail\u001b[39m\u001b[38;5;124m\"\u001b[39m])\n",
      "\u001b[1;31mKeyError\u001b[0m: 'email'"
     ]
    }
   ],
   "source": [
    "data = {\"name\":\"jay\",\"age\":8}\n",
    "print(data.get(\"email\", \"e1@gmail.com\"))\n",
    "print(data[\"email\"])"
   ]
  },
  {
   "cell_type": "code",
   "execution_count": 39,
   "id": "73fac405",
   "metadata": {},
   "outputs": [
    {
     "name": "stdout",
     "output_type": "stream",
     "text": [
      "jay\n",
      "jay\n"
     ]
    }
   ],
   "source": [
    "data = {\"name\":\"jay\",\"age\":8}\n",
    "print(data.get(\"name\", \"e1@gmail.com\"))\n",
    "print(data[\"name\"])"
   ]
  },
  {
   "cell_type": "code",
   "execution_count": 40,
   "id": "be765578",
   "metadata": {},
   "outputs": [
    {
     "name": "stdout",
     "output_type": "stream",
     "text": [
      "['__class__', '__class_getitem__', '__contains__', '__delattr__', '__delitem__', '__dir__', '__doc__', '__eq__', '__format__', '__ge__', '__getattribute__', '__getitem__', '__getstate__', '__gt__', '__hash__', '__init__', '__init_subclass__', '__ior__', '__iter__', '__le__', '__len__', '__lt__', '__ne__', '__new__', '__or__', '__reduce__', '__reduce_ex__', '__repr__', '__reversed__', '__ror__', '__setattr__', '__setitem__', '__sizeof__', '__str__', '__subclasshook__', 'clear', 'copy', 'fromkeys', 'get', 'items', 'keys', 'pop', 'popitem', 'setdefault', 'update', 'values']\n"
     ]
    }
   ],
   "source": [
    "print(dir(data))"
   ]
  },
  {
   "cell_type": "code",
   "execution_count": 41,
   "id": "b47bc6f9",
   "metadata": {},
   "outputs": [],
   "source": [
    "import collections"
   ]
  },
  {
   "cell_type": "code",
   "execution_count": 43,
   "id": "d7b4fcf8",
   "metadata": {},
   "outputs": [
    {
     "name": "stdout",
     "output_type": "stream",
     "text": [
      "['ChainMap', 'Counter', 'OrderedDict', 'UserDict', 'UserList', 'UserString', '_Link', '_OrderedDictItemsView', '_OrderedDictKeysView', '_OrderedDictValuesView', '__all__', '__builtins__', '__cached__', '__doc__', '__file__', '__loader__', '__name__', '__package__', '__path__', '__spec__', '_chain', '_collections_abc', '_count_elements', '_eq', '_iskeyword', '_itemgetter', '_proxy', '_recursive_repr', '_repeat', '_starmap', '_sys', '_tuplegetter', 'abc', 'defaultdict', 'deque', 'namedtuple']\n"
     ]
    }
   ],
   "source": [
    "print(dir(collections))"
   ]
  },
  {
   "cell_type": "code",
   "execution_count": 44,
   "id": "98fe311e",
   "metadata": {},
   "outputs": [
    {
     "name": "stdout",
     "output_type": "stream",
     "text": [
      "{'name': 'vedha', 'age': 8}\n"
     ]
    }
   ],
   "source": [
    "data = {\"name\":\"jay\",\"age\":8,\"name\":\"vedha\"}\n",
    "print(data)"
   ]
  },
  {
   "cell_type": "code",
   "execution_count": 47,
   "id": "24f7ed05",
   "metadata": {},
   "outputs": [
    {
     "name": "stdout",
     "output_type": "stream",
     "text": [
      "{10: 'int', 20: 'int', 30: 'int', 40: 'int'}\n"
     ]
    }
   ],
   "source": [
    "data1 = data.fromkeys([10,20,30,40],\"int\")\n",
    "print(data1)"
   ]
  },
  {
   "cell_type": "code",
   "execution_count": 48,
   "id": "14d381c1",
   "metadata": {},
   "outputs": [
    {
     "name": "stdout",
     "output_type": "stream",
     "text": [
      "int\n"
     ]
    }
   ],
   "source": [
    "print(data1[10])"
   ]
  },
  {
   "cell_type": "code",
   "execution_count": 49,
   "id": "c19c8c13",
   "metadata": {},
   "outputs": [
    {
     "ename": "KeyError",
     "evalue": "50",
     "output_type": "error",
     "traceback": [
      "\u001b[1;31m---------------------------------------------------------------------------\u001b[0m",
      "\u001b[1;31mKeyError\u001b[0m                                  Traceback (most recent call last)",
      "Cell \u001b[1;32mIn[49], line 1\u001b[0m\n\u001b[1;32m----> 1\u001b[0m \u001b[38;5;28mprint\u001b[39m(data1[\u001b[38;5;241m50\u001b[39m])\n",
      "\u001b[1;31mKeyError\u001b[0m: 50"
     ]
    }
   ],
   "source": [
    "print(data1[50])"
   ]
  },
  {
   "cell_type": "code",
   "execution_count": 50,
   "id": "b4323dff",
   "metadata": {},
   "outputs": [
    {
     "name": "stdout",
     "output_type": "stream",
     "text": [
      "['__class__', '__class_getitem__', '__contains__', '__delattr__', '__delitem__', '__dir__', '__doc__', '__eq__', '__format__', '__ge__', '__getattribute__', '__getitem__', '__getstate__', '__gt__', '__hash__', '__init__', '__init_subclass__', '__ior__', '__iter__', '__le__', '__len__', '__lt__', '__ne__', '__new__', '__or__', '__reduce__', '__reduce_ex__', '__repr__', '__reversed__', '__ror__', '__setattr__', '__setitem__', '__sizeof__', '__str__', '__subclasshook__', 'clear', 'copy', 'fromkeys', 'get', 'items', 'keys', 'pop', 'popitem', 'setdefault', 'update', 'values']\n"
     ]
    }
   ],
   "source": [
    "l={\"rohit\":70,\"kohli\":70,\"jadeja\":40,\"klrahul\":40}\n",
    "#res={40:[\"jadeja\",\"klrahul\"],70:[\"rohit\",\"kohli\"]}\n",
    "print(dir({\"nanme\":\"jay\"}))"
   ]
  },
  {
   "cell_type": "code",
   "execution_count": 51,
   "id": "e6f3a281",
   "metadata": {},
   "outputs": [
    {
     "name": "stdout",
     "output_type": "stream",
     "text": [
      "dict_values([70, 70, 40, 40])\n"
     ]
    }
   ],
   "source": [
    "l={\"rohit\":70,\"kohli\":70,\"jadeja\":40,\"klrahul\":40}\n",
    "print(l.values())"
   ]
  },
  {
   "cell_type": "code",
   "execution_count": 52,
   "id": "cb8c231c",
   "metadata": {},
   "outputs": [
    {
     "name": "stdout",
     "output_type": "stream",
     "text": [
      "{70: [], 40: []}\n"
     ]
    }
   ],
   "source": [
    "l={\"rohit\":70,\"kohli\":70,\"jadeja\":40,\"klrahul\":40}\n",
    "res=l.fromkeys(l.values(),[])\n",
    "print(res)\n"
   ]
  },
  {
   "cell_type": "code",
   "execution_count": 53,
   "id": "127c9e9e",
   "metadata": {},
   "outputs": [
    {
     "data": {
      "text/plain": [
       "[]"
      ]
     },
     "execution_count": 53,
     "metadata": {},
     "output_type": "execute_result"
    }
   ],
   "source": [
    "res[70]"
   ]
  },
  {
   "cell_type": "code",
   "execution_count": 54,
   "id": "afec22f1",
   "metadata": {},
   "outputs": [
    {
     "name": "stdout",
     "output_type": "stream",
     "text": [
      "{70: ['jadeja'], 40: ['jadeja']}\n"
     ]
    }
   ],
   "source": [
    "res[70].append(\"jadeja\")\n",
    "print(res)"
   ]
  },
  {
   "cell_type": "code",
   "execution_count": 58,
   "id": "6734b381",
   "metadata": {},
   "outputs": [
    {
     "name": "stdout",
     "output_type": "stream",
     "text": [
      "{70: [], 40: []}\n",
      "{70: ['JADEJA'], 40: ['JADEJA']}\n"
     ]
    }
   ],
   "source": [
    "l={\"rohit\":70,\"kohli\":70,\"jadeja\":40,\"klrahul\":40}\n",
    "res=l.fromkeys(l.values(),[])\n",
    "print(res)\n",
    "res[70].append(\"JADEJA\")\n",
    "print(res)"
   ]
  },
  {
   "cell_type": "code",
   "execution_count": 59,
   "id": "8eb222fb",
   "metadata": {},
   "outputs": [
    {
     "name": "stdout",
     "output_type": "stream",
     "text": [
      "rohit 70\n",
      "kohli 70\n",
      "jadeja 40\n",
      "klrahul 40\n"
     ]
    }
   ],
   "source": [
    "l={\"rohit\":70,\"kohli\":70,\"jadeja\":40,\"klrahul\":40}\n",
    "res={}\n",
    "for key,value in l.items():\n",
    "    print(key,value)"
   ]
  },
  {
   "cell_type": "code",
   "execution_count": 60,
   "id": "ab7214a5",
   "metadata": {},
   "outputs": [
    {
     "ename": "KeyError",
     "evalue": "70",
     "output_type": "error",
     "traceback": [
      "\u001b[1;31m---------------------------------------------------------------------------\u001b[0m",
      "\u001b[1;31mKeyError\u001b[0m                                  Traceback (most recent call last)",
      "Cell \u001b[1;32mIn[60], line 3\u001b[0m\n\u001b[0;32m      1\u001b[0m l\u001b[38;5;241m=\u001b[39m{\u001b[38;5;124m\"\u001b[39m\u001b[38;5;124mrohit\u001b[39m\u001b[38;5;124m\"\u001b[39m:\u001b[38;5;241m70\u001b[39m,\u001b[38;5;124m\"\u001b[39m\u001b[38;5;124mkohli\u001b[39m\u001b[38;5;124m\"\u001b[39m:\u001b[38;5;241m70\u001b[39m,\u001b[38;5;124m\"\u001b[39m\u001b[38;5;124mjadeja\u001b[39m\u001b[38;5;124m\"\u001b[39m:\u001b[38;5;241m40\u001b[39m,\u001b[38;5;124m\"\u001b[39m\u001b[38;5;124mklrahul\u001b[39m\u001b[38;5;124m\"\u001b[39m:\u001b[38;5;241m40\u001b[39m}\n\u001b[0;32m      2\u001b[0m res\u001b[38;5;241m=\u001b[39m{}\n\u001b[1;32m----> 3\u001b[0m \u001b[38;5;28mprint\u001b[39m(res[\u001b[38;5;241m70\u001b[39m])\n\u001b[0;32m      4\u001b[0m \u001b[38;5;28;01mfor\u001b[39;00m key,value \u001b[38;5;129;01min\u001b[39;00m l\u001b[38;5;241m.\u001b[39mitems():\u001b[38;5;66;03m#key=rohit, value=70\u001b[39;00m\n\u001b[0;32m      5\u001b[0m     res[value]\u001b[38;5;241m.\u001b[39mappend(key)\n",
      "\u001b[1;31mKeyError\u001b[0m: 70"
     ]
    }
   ],
   "source": [
    "l={\"rohit\":70,\"kohli\":70,\"jadeja\":40,\"klrahul\":40}\n",
    "res={}\n",
    "print(res[70])\n",
    "for key,value in l.items():#key=rohit, value=70\n",
    "    res[value].append(key)"
   ]
  },
  {
   "cell_type": "code",
   "execution_count": 61,
   "id": "2fbdbae2",
   "metadata": {},
   "outputs": [
    {
     "ename": "AttributeError",
     "evalue": "'NoneType' object has no attribute 'append'",
     "output_type": "error",
     "traceback": [
      "\u001b[1;31m---------------------------------------------------------------------------\u001b[0m",
      "\u001b[1;31mAttributeError\u001b[0m                            Traceback (most recent call last)",
      "Cell \u001b[1;32mIn[61], line 4\u001b[0m\n\u001b[0;32m      2\u001b[0m res\u001b[38;5;241m=\u001b[39m{}\n\u001b[0;32m      3\u001b[0m \u001b[38;5;28;01mfor\u001b[39;00m key,value \u001b[38;5;129;01min\u001b[39;00m l\u001b[38;5;241m.\u001b[39mitems():\u001b[38;5;66;03m#key=rohit, value=70\u001b[39;00m\n\u001b[1;32m----> 4\u001b[0m     res\u001b[38;5;241m.\u001b[39mget(value)\u001b[38;5;241m.\u001b[39mappend(key)\n",
      "\u001b[1;31mAttributeError\u001b[0m: 'NoneType' object has no attribute 'append'"
     ]
    }
   ],
   "source": [
    "l={\"rohit\":70,\"kohli\":70,\"jadeja\":40,\"klrahul\":40}\n",
    "res={}\n",
    "for key,value in l.items():#key=rohit, value=70\n",
    "    res.get(value).append(key)"
   ]
  },
  {
   "cell_type": "code",
   "execution_count": 62,
   "id": "367cf064",
   "metadata": {},
   "outputs": [
    {
     "name": "stdout",
     "output_type": "stream",
     "text": [
      "{}\n",
      "{}\n",
      "{}\n",
      "{}\n"
     ]
    }
   ],
   "source": [
    "l={\"rohit\":70,\"kohli\":70,\"jadeja\":40,\"klrahul\":40}\n",
    "res={}\n",
    "for key,value in l.items():#key=rohit, value=70\n",
    "    res.get(value,[]).append(key)\n",
    "    print(res)"
   ]
  },
  {
   "cell_type": "code",
   "execution_count": 63,
   "id": "4a081f58",
   "metadata": {},
   "outputs": [
    {
     "name": "stdout",
     "output_type": "stream",
     "text": [
      "{70: ['rohit', 'kohli'], 40: ['jadeja', 'klrahul']}\n"
     ]
    }
   ],
   "source": [
    "l={\"rohit\":70,\"kohli\":70,\"jadeja\":40,\"klrahul\":40}\n",
    "res={}\n",
    "for key,value in l.items():#key=rohit, value=70: key=kohli, value:70\n",
    "    if value in res:\n",
    "        res[value].append(key)\n",
    "    else:\n",
    "        #res[value]=[key]\n",
    "        res.update({value: [key]})\n",
    "        #{70:[\"rohit\"]}\n",
    "print(res)\n",
    "        "
   ]
  },
  {
   "cell_type": "code",
   "execution_count": 64,
   "id": "4144b1e9",
   "metadata": {},
   "outputs": [],
   "source": [
    "from collections import defaultdict"
   ]
  },
  {
   "cell_type": "code",
   "execution_count": 66,
   "id": "2ca84bac",
   "metadata": {},
   "outputs": [
    {
     "name": "stdout",
     "output_type": "stream",
     "text": [
      "defaultdict(<class 'str'>, {})\n"
     ]
    }
   ],
   "source": [
    "d=defaultdict(str)\n",
    "print(d)\n"
   ]
  },
  {
   "cell_type": "code",
   "execution_count": 67,
   "id": "927877ba",
   "metadata": {},
   "outputs": [
    {
     "name": "stdout",
     "output_type": "stream",
     "text": [
      "[]\n"
     ]
    }
   ],
   "source": [
    "d=defaultdict(list)\n",
    "print(d[1])"
   ]
  },
  {
   "cell_type": "code",
   "execution_count": 68,
   "id": "cac8f175",
   "metadata": {},
   "outputs": [
    {
     "name": "stdout",
     "output_type": "stream",
     "text": [
      "0\n"
     ]
    }
   ],
   "source": [
    "d=defaultdict(int)\n",
    "print(d[1])"
   ]
  },
  {
   "cell_type": "code",
   "execution_count": 69,
   "id": "00c9ba07",
   "metadata": {},
   "outputs": [
    {
     "data": {
      "text/plain": [
       "0"
      ]
     },
     "execution_count": 69,
     "metadata": {},
     "output_type": "execute_result"
    }
   ],
   "source": [
    "d[2]"
   ]
  },
  {
   "cell_type": "code",
   "execution_count": 70,
   "id": "d7618bed",
   "metadata": {},
   "outputs": [
    {
     "data": {
      "text/plain": [
       "0"
      ]
     },
     "execution_count": 70,
     "metadata": {},
     "output_type": "execute_result"
    }
   ],
   "source": [
    "d[3]"
   ]
  },
  {
   "cell_type": "code",
   "execution_count": 71,
   "id": "d339ccd5",
   "metadata": {},
   "outputs": [
    {
     "data": {
      "text/plain": [
       "0"
      ]
     },
     "execution_count": 71,
     "metadata": {},
     "output_type": "execute_result"
    }
   ],
   "source": [
    "d[7]"
   ]
  },
  {
   "cell_type": "code",
   "execution_count": 72,
   "id": "12487323",
   "metadata": {},
   "outputs": [
    {
     "name": "stdout",
     "output_type": "stream",
     "text": [
      "defaultdict(<class 'list'>, {70: ['rohit', 'kohli'], 40: ['jadeja', 'klrahul']})\n"
     ]
    }
   ],
   "source": [
    "l={\"rohit\":70,\"kohli\":70,\"jadeja\":40,\"klrahul\":40}\n",
    "res=defaultdict(list)\n",
    "for key,value in l.items():#key=\"rohit\", value=70\n",
    "    res[value].append(key)\n",
    "print(res)\n",
    "        "
   ]
  },
  {
   "cell_type": "code",
   "execution_count": null,
   "id": "0d05d1f2",
   "metadata": {},
   "outputs": [],
   "source": [
    "l={\"rohit\":70,\"kohli\":70,\"jadeja\":40,\"klrahul\":40}\n",
    "res={}\n",
    "for key,value in l.items():#key=rohit, value=70: key=kohli, value:70\n",
    "    if value in res:\n",
    "        res[value].append(key)\n",
    "    else:\n",
    "        #res[value]=[key]\n",
    "        res.update({value: [key]})\n",
    "        #{70:[\"rohit\"]}\n",
    "print(res)\n",
    "        "
   ]
  },
  {
   "cell_type": "code",
   "execution_count": null,
   "id": "48aaade5",
   "metadata": {},
   "outputs": [],
   "source": []
  }
 ],
 "metadata": {
  "kernelspec": {
   "display_name": "Python 3 (ipykernel)",
   "language": "python",
   "name": "python3"
  },
  "language_info": {
   "codemirror_mode": {
    "name": "ipython",
    "version": 3
   },
   "file_extension": ".py",
   "mimetype": "text/x-python",
   "name": "python",
   "nbconvert_exporter": "python",
   "pygments_lexer": "ipython3",
   "version": "3.11.3"
  }
 },
 "nbformat": 4,
 "nbformat_minor": 5
}
