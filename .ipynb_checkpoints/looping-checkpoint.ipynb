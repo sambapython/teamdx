{
 "cells": [
  {
   "cell_type": "code",
   "execution_count": 1,
   "id": "82b58eeb",
   "metadata": {},
   "outputs": [
    {
     "name": "stdout",
     "output_type": "stream",
     "text": [
      "EVEN\n"
     ]
    }
   ],
   "source": [
    "number=12\n",
    "if number%2==0:\n",
    "    print(\"EVEN\")\n",
    "else:\n",
    "    print(\"ODD\")"
   ]
  },
  {
   "cell_type": "code",
   "execution_count": 2,
   "id": "dda6518c",
   "metadata": {},
   "outputs": [
    {
     "name": "stdout",
     "output_type": "stream",
     "text": [
      "EVEN\n"
     ]
    }
   ],
   "source": [
    "numbers=[10,23,35,46,38,90]\n",
    "if numbers[0]%2==0:\n",
    "    print(\"EVEN\")\n",
    "else:\n",
    "    print(\"ODD\")"
   ]
  },
  {
   "cell_type": "code",
   "execution_count": 3,
   "id": "6e21c02b",
   "metadata": {},
   "outputs": [
    {
     "name": "stdout",
     "output_type": "stream",
     "text": [
      "EVEN\n",
      "ODD\n"
     ]
    }
   ],
   "source": [
    "numbers=[10,23,35,46,38,90]\n",
    "if numbers[0]%2==0:#10%2=0, 0==0: True\n",
    "    print(\"EVEN\")\n",
    "else:\n",
    "    print(\"ODD\")\n",
    "if numbers[1]%2==0:#23%2=1, 1==0: False\n",
    "    print(\"EVEN\")\n",
    "else:\n",
    "    print(\"ODD\")"
   ]
  },
  {
   "cell_type": "code",
   "execution_count": 4,
   "id": "a0a9b37c",
   "metadata": {},
   "outputs": [
    {
     "name": "stdout",
     "output_type": "stream",
     "text": [
      "HELLO\n",
      "10\n",
      "HELLO\n",
      "23\n",
      "HELLO\n",
      "35\n",
      "HELLO\n",
      "46\n",
      "HI\n"
     ]
    }
   ],
   "source": [
    "numbers=[10,23,35,46]\n",
    "for num in numbers:#num=10, num=23, num=35, num=46, next? False\n",
    "    print(\"HELLO\")\n",
    "    print(num)\n",
    "print(\"HI\")"
   ]
  },
  {
   "cell_type": "code",
   "execution_count": 1,
   "id": "21087f65",
   "metadata": {},
   "outputs": [
    {
     "name": "stdout",
     "output_type": "stream",
     "text": [
      "1\n",
      "0\n",
      "0\n",
      "0\n"
     ]
    }
   ],
   "source": [
    "for num in \"1000\":\n",
    "    print(num)"
   ]
  },
  {
   "cell_type": "code",
   "execution_count": 2,
   "id": "9918a1fd",
   "metadata": {},
   "outputs": [
    {
     "name": "stdout",
     "output_type": "stream",
     "text": [
      "p\n",
      "hi\n",
      "o\n",
      "hi\n",
      "t\n",
      "hi\n",
      "hello\n"
     ]
    }
   ],
   "source": [
    "for num in \"pot\":#num=p, num=o,num=t, next?\n",
    "    print(num)\n",
    "    print(\"hi\")\n",
    "print(\"hello\")"
   ]
  },
  {
   "cell_type": "code",
   "execution_count": 3,
   "id": "4fce6fca",
   "metadata": {},
   "outputs": [
    {
     "ename": "TypeError",
     "evalue": "'bool' object is not iterable",
     "output_type": "error",
     "traceback": [
      "\u001b[1;31m---------------------------------------------------------------------------\u001b[0m",
      "\u001b[1;31mTypeError\u001b[0m                                 Traceback (most recent call last)",
      "Cell \u001b[1;32mIn[3], line 1\u001b[0m\n\u001b[1;32m----> 1\u001b[0m \u001b[38;5;28;01mfor\u001b[39;00m num \u001b[38;5;129;01min\u001b[39;00m \u001b[38;5;28;01mFalse\u001b[39;00m:\n\u001b[0;32m      2\u001b[0m     \u001b[38;5;28mprint\u001b[39m(num)\n",
      "\u001b[1;31mTypeError\u001b[0m: 'bool' object is not iterable"
     ]
    }
   ],
   "source": [
    "for num in False:\n",
    "    print(num)"
   ]
  },
  {
   "cell_type": "code",
   "execution_count": 4,
   "id": "6f68c947",
   "metadata": {},
   "outputs": [
    {
     "ename": "TypeError",
     "evalue": "'int' object is not iterable",
     "output_type": "error",
     "traceback": [
      "\u001b[1;31m---------------------------------------------------------------------------\u001b[0m",
      "\u001b[1;31mTypeError\u001b[0m                                 Traceback (most recent call last)",
      "Cell \u001b[1;32mIn[4], line 1\u001b[0m\n\u001b[1;32m----> 1\u001b[0m \u001b[38;5;28;01mfor\u001b[39;00m num \u001b[38;5;129;01min\u001b[39;00m \u001b[38;5;241m100\u001b[39m:\n\u001b[0;32m      2\u001b[0m     \u001b[38;5;28mprint\u001b[39m(num)\n",
      "\u001b[1;31mTypeError\u001b[0m: 'int' object is not iterable"
     ]
    }
   ],
   "source": [
    "for num in 100:\n",
    "    print(num)"
   ]
  },
  {
   "cell_type": "code",
   "execution_count": 5,
   "id": "82414aa6",
   "metadata": {},
   "outputs": [
    {
     "ename": "TypeError",
     "evalue": "'float' object is not iterable",
     "output_type": "error",
     "traceback": [
      "\u001b[1;31m---------------------------------------------------------------------------\u001b[0m",
      "\u001b[1;31mTypeError\u001b[0m                                 Traceback (most recent call last)",
      "Cell \u001b[1;32mIn[5], line 1\u001b[0m\n\u001b[1;32m----> 1\u001b[0m \u001b[38;5;28;01mfor\u001b[39;00m num \u001b[38;5;129;01min\u001b[39;00m \u001b[38;5;241m12.34\u001b[39m:\n\u001b[0;32m      2\u001b[0m     \u001b[38;5;28mprint\u001b[39m(num)\n",
      "\u001b[1;31mTypeError\u001b[0m: 'float' object is not iterable"
     ]
    }
   ],
   "source": [
    "for num in 12.34:\n",
    "    print(num)"
   ]
  },
  {
   "cell_type": "code",
   "execution_count": 6,
   "id": "ed168994",
   "metadata": {},
   "outputs": [
    {
     "ename": "TypeError",
     "evalue": "'NoneType' object is not iterable",
     "output_type": "error",
     "traceback": [
      "\u001b[1;31m---------------------------------------------------------------------------\u001b[0m",
      "\u001b[1;31mTypeError\u001b[0m                                 Traceback (most recent call last)",
      "Cell \u001b[1;32mIn[6], line 1\u001b[0m\n\u001b[1;32m----> 1\u001b[0m \u001b[38;5;28;01mfor\u001b[39;00m num \u001b[38;5;129;01min\u001b[39;00m \u001b[38;5;28;01mNone\u001b[39;00m:\n\u001b[0;32m      2\u001b[0m     \u001b[38;5;28mprint\u001b[39m(num)\n",
      "\u001b[1;31mTypeError\u001b[0m: 'NoneType' object is not iterable"
     ]
    }
   ],
   "source": [
    "for num in None:\n",
    "    print(num)"
   ]
  },
  {
   "cell_type": "code",
   "execution_count": 7,
   "id": "bbd1d871",
   "metadata": {},
   "outputs": [
    {
     "name": "stdout",
     "output_type": "stream",
     "text": [
      "name\n",
      "address\n"
     ]
    }
   ],
   "source": [
    "data = {\"name\":\"AJA\", \"address\":\"HYD\"}\n",
    "for num in data:\n",
    "    print(num)"
   ]
  },
  {
   "cell_type": "code",
   "execution_count": 8,
   "id": "151f36c9",
   "metadata": {},
   "outputs": [
    {
     "name": "stdout",
     "output_type": "stream",
     "text": [
      "HELLO\n"
     ]
    }
   ],
   "source": [
    "for i in []:\n",
    "    print(i)\n",
    "    print(\"hi\")\n",
    "print(\"HELLO\")"
   ]
  },
  {
   "cell_type": "code",
   "execution_count": 9,
   "id": "9e061c50",
   "metadata": {},
   "outputs": [
    {
     "name": "stdout",
     "output_type": "stream",
     "text": [
      "+VE\n"
     ]
    }
   ],
   "source": [
    "num=10\n",
    "if num>0:\n",
    "    print(\"+VE\")\n",
    "else:\n",
    "    print(\"-VE\")"
   ]
  },
  {
   "cell_type": "code",
   "execution_count": 10,
   "id": "b717c781",
   "metadata": {},
   "outputs": [
    {
     "name": "stdout",
     "output_type": "stream",
     "text": [
      "10\n",
      "-3\n",
      "4\n",
      "5\n",
      "6\n",
      "-20\n",
      "45\n",
      "DONE\n"
     ]
    }
   ],
   "source": [
    "numbers=[10,-3,4,5,6,-20,45]\n",
    "for num in numbers:\n",
    "    print(num)\n",
    "print(\"DONE\")"
   ]
  },
  {
   "cell_type": "code",
   "execution_count": 11,
   "id": "ed210049",
   "metadata": {},
   "outputs": [
    {
     "name": "stdout",
     "output_type": "stream",
     "text": [
      "10 +VE\n",
      "-3 -VE\n",
      "4 +VE\n",
      "5 +VE\n",
      "6 +VE\n",
      "-20 -VE\n",
      "45 +VE\n",
      "DONE\n"
     ]
    }
   ],
   "source": [
    "numbers=[10,-3,4,5,6,-20,45]\n",
    "for num in numbers:\n",
    "    if num>=0:\n",
    "        print(num,\"+VE\")\n",
    "    else:\n",
    "        print(num,\"-VE\")\n",
    "print(\"DONE\")"
   ]
  },
  {
   "cell_type": "code",
   "execution_count": null,
   "id": "78bc10b2",
   "metadata": {},
   "outputs": [],
   "source": [
    "numbers=[]\n",
    "p_n=0\n",
    "n_n=0\n",
    "for num in numbers:\n",
    "    if num>=0:\n",
    "        p_n=p_n+1\n",
    "    else:\n",
    "        n_n=n_n+1\n",
    "print(p_n)\n",
    "print(n_n)"
   ]
  },
  {
   "cell_type": "code",
   "execution_count": 12,
   "id": "c598233f",
   "metadata": {},
   "outputs": [
    {
     "name": "stdout",
     "output_type": "stream",
     "text": [
      "we need more busses.\n"
     ]
    }
   ],
   "source": [
    "total_no_of_people = 425#input(\"Enter number of people:\")\n",
    "total_no_of_busses = 8#input(\"Enter number of busses:\")\n",
    "total_no_of_seats_per_bus = 50#input(\"Enter number of seats per bus:\")\n",
    "adjust_factor = 2#input(\"Adjustment factor:\")\n",
    "\n",
    "current_busses_occupency = total_no_of_busses*total_no_of_seats_per_bus\n",
    "extra = total_no_of_busses * adjust_factor\n",
    "tatl_can_travel = current_busses_occupency + extra\n",
    "if tatl_can_travel>=total_no_of_people:\n",
    "    print(\"the busses are sufficient\")\n",
    "else:\n",
    "    print(\"we need more busses.\")"
   ]
  },
  {
   "cell_type": "code",
   "execution_count": 13,
   "id": "d89769ea",
   "metadata": {},
   "outputs": [
    {
     "name": "stdout",
     "output_type": "stream",
     "text": [
      "p\n",
      "hi\n",
      "y\n",
      "hi\n",
      "t\n",
      "hi\n",
      "h\n",
      "hi\n",
      "o\n",
      "hi\n",
      "n\n",
      "hi\n",
      "hello\n"
     ]
    }
   ],
   "source": [
    "for i in \"python\":#i=p, i=y, i=t\n",
    "    print(i)\n",
    "    print(\"hi\")\n",
    "print(\"hello\")"
   ]
  },
  {
   "cell_type": "code",
   "execution_count": 14,
   "id": "01e0ed18",
   "metadata": {},
   "outputs": [
    {
     "name": "stdout",
     "output_type": "stream",
     "text": [
      "hi\n",
      "hi\n",
      "hi\n",
      "hi\n",
      "\n"
     ]
    }
   ],
   "source": [
    "for i in \"1234\":\n",
    "    print(\"hi\")\n",
    "print(\"hello\")"
   ]
  },
  {
   "cell_type": "code",
   "execution_count": 15,
   "id": "8fa0bd85",
   "metadata": {},
   "outputs": [
    {
     "name": "stdout",
     "output_type": "stream",
     "text": [
      "hi\n",
      "hi\n",
      "hi\n",
      "hi\n",
      "hello\n"
     ]
    }
   ],
   "source": [
    "for i in \"1234\":\n",
    "    print(\"hi\")\n",
    "print(\"hello\")"
   ]
  },
  {
   "cell_type": "code",
   "execution_count": 16,
   "id": "b535ecb9",
   "metadata": {},
   "outputs": [
    {
     "name": "stdout",
     "output_type": "stream",
     "text": [
      "HI\n",
      "hello\n"
     ]
    }
   ],
   "source": [
    "for i in \"1234\":#i=1,i=2, i=3, i=4, i=?\n",
    "    if i==\"2\":#1==2: False,2==2:True, 3==2: False, 4==2: False\n",
    "        print(\"HI\")\n",
    "print(\"hello\")"
   ]
  },
  {
   "cell_type": "code",
   "execution_count": 17,
   "id": "3c8cde81",
   "metadata": {},
   "outputs": [
    {
     "name": "stdout",
     "output_type": "stream",
     "text": [
      "hello\n"
     ]
    }
   ],
   "source": [
    "for i in \"1234\":\n",
    "    break\n",
    "    if i==\"2\":\n",
    "        print(\"HI\")\n",
    "print(\"hello\")"
   ]
  },
  {
   "cell_type": "code",
   "execution_count": 18,
   "id": "b50157e8",
   "metadata": {},
   "outputs": [
    {
     "name": "stdout",
     "output_type": "stream",
     "text": [
      "HELLO\n",
      "HI\n",
      "HI\n",
      "HELLO\n",
      "GOING WITH MAIN BLOCK\n"
     ]
    }
   ],
   "source": [
    "for i in \"1234\":#i=1,i=2,i=3,i=4,i=?\n",
    "    if i in \"23\":#\"1\" in \"23\": False, \"2\" in \"23\": True, \"3\" in \"23\": True, \"4\" in \"23\": False\n",
    "        print(\"HI\")\n",
    "    else:\n",
    "        print(\"HELLO\")\n",
    "print(\"GOING WITH MAIN BLOCK\")\n",
    "#HELLO HI HI HELLO"
   ]
  },
  {
   "cell_type": "code",
   "execution_count": 19,
   "id": "34d5881d",
   "metadata": {},
   "outputs": [
    {
     "name": "stdout",
     "output_type": "stream",
     "text": [
      "HELLO\n",
      "GOING WITH MAIN BLOCK\n"
     ]
    }
   ],
   "source": [
    "for i in \"1234\":#i=1\n",
    "    if i in \"23\": # \"1\" in \"23\": False\n",
    "        print(\"HI\")\n",
    "    else:\n",
    "        print(\"HELLO\")\n",
    "        break\n",
    "print(\"GOING WITH MAIN BLOCK\")\n",
    "#HELLO "
   ]
  },
  {
   "cell_type": "code",
   "execution_count": 20,
   "id": "7e03191c",
   "metadata": {},
   "outputs": [
    {
     "name": "stdout",
     "output_type": "stream",
     "text": [
      "HELLO\n",
      "HI\n",
      "GOING WITH MAIN BLOCK\n"
     ]
    }
   ],
   "source": [
    "for i in \"1234\":#i=1, i=2\n",
    "    if i in \"23\":# 1 in 23: False, \"2\" in \"23\": True\n",
    "        print(\"HI\")\n",
    "        break\n",
    "    else:\n",
    "        print(\"HELLO\")\n",
    "        \n",
    "print(\"GOING WITH MAIN BLOCK\")\n",
    "#HELLO HI"
   ]
  },
  {
   "cell_type": "code",
   "execution_count": 21,
   "id": "d6bae155",
   "metadata": {},
   "outputs": [
    {
     "name": "stdout",
     "output_type": "stream",
     "text": [
      "HELLO\n",
      "GOING WITH MAIN BLOCK\n"
     ]
    }
   ],
   "source": [
    "for i in \"1234\":#i=1\n",
    "    if i in \"23\":# \"1\" in \"23\"\n",
    "        print(\"HI\")\n",
    "        \n",
    "    else:\n",
    "        print(\"HELLO\")\n",
    "    break\n",
    "        \n",
    "print(\"GOING WITH MAIN BLOCK\")\n",
    "#HELLO "
   ]
  },
  {
   "cell_type": "code",
   "execution_count": 22,
   "id": "eb8f1ab0",
   "metadata": {},
   "outputs": [],
   "source": [
    "l=[10,-20,-30,45,67,-56]\n",
    "# print each number +ve or -ve\n",
    "# howmany +ve numbers are there\n",
    "# does it has negative numbers"
   ]
  },
  {
   "cell_type": "code",
   "execution_count": 24,
   "id": "2d83463f",
   "metadata": {},
   "outputs": [
    {
     "name": "stdout",
     "output_type": "stream",
     "text": [
      "10\n",
      "-20\n",
      "-30\n",
      "45\n",
      "67\n",
      "-56\n"
     ]
    }
   ],
   "source": [
    "l=[10,-20,-30,45,67,-56]\n",
    "for i in l:\n",
    "    print(i)"
   ]
  },
  {
   "cell_type": "code",
   "execution_count": 25,
   "id": "d8fd9654",
   "metadata": {},
   "outputs": [
    {
     "name": "stdout",
     "output_type": "stream",
     "text": [
      "10 +ve\n",
      "-20 -ve\n",
      "-30 -ve\n",
      "45 +ve\n",
      "67 +ve\n",
      "-56 -ve\n"
     ]
    }
   ],
   "source": [
    "l=[10,-20,-30,45,67,-56]\n",
    "for i in l:\n",
    "    if i>=0:\n",
    "        print(i, \"+ve\")\n",
    "    else:\n",
    "        print(i, \"-ve\")"
   ]
  },
  {
   "cell_type": "code",
   "execution_count": 26,
   "id": "300696c9",
   "metadata": {},
   "outputs": [
    {
     "name": "stdout",
     "output_type": "stream",
     "text": [
      "2\n"
     ]
    }
   ],
   "source": [
    "l=[10,-20,-30,45]\n",
    "p_n=0\n",
    "for i in l:#i=10, i=-20, i=-30, i=45\n",
    "    if i>=0:#True, False, False, True\n",
    "        p_n = p_n + 1# 0+1=1, 1, 1,1+1=2\n",
    "print(p_n)\n",
    "    "
   ]
  },
  {
   "cell_type": "code",
   "execution_count": 27,
   "id": "b2c99667",
   "metadata": {},
   "outputs": [
    {
     "name": "stdout",
     "output_type": "stream",
     "text": [
      "0\n"
     ]
    }
   ],
   "source": [
    "l=[-20,-30]\n",
    "p_n=0\n",
    "for i in l:\n",
    "    if i>=0:\n",
    "        p_n = p_n + 1\n",
    "print(p_n)\n",
    "    "
   ]
  },
  {
   "cell_type": "code",
   "execution_count": 28,
   "id": "2ed50803",
   "metadata": {},
   "outputs": [
    {
     "name": "stdout",
     "output_type": "stream",
     "text": [
      "2\n"
     ]
    }
   ],
   "source": [
    "l=[10,-20,-30,45,56]\n",
    "count=0\n",
    "for i in l:\n",
    "    if i<0:\n",
    "        count = count + 1\n",
    "print(count)\n",
    "    "
   ]
  },
  {
   "cell_type": "code",
   "execution_count": 29,
   "id": "9d9e1381",
   "metadata": {},
   "outputs": [
    {
     "name": "stdout",
     "output_type": "stream",
     "text": [
      "0\n"
     ]
    }
   ],
   "source": [
    "l=[10,45,56]\n",
    "count=0\n",
    "for i in l:\n",
    "    if i<0:\n",
    "        count = count + 1\n",
    "print(count)\n",
    "    "
   ]
  },
  {
   "cell_type": "code",
   "execution_count": 30,
   "id": "b425cd9c",
   "metadata": {},
   "outputs": [
    {
     "name": "stdout",
     "output_type": "stream",
     "text": [
      "it does not has negative numbers\n"
     ]
    }
   ],
   "source": [
    "l=[10,45,56]\n",
    "count=0\n",
    "for i in l:\n",
    "    if i<0:\n",
    "        count = count + 1\n",
    "if count==0:\n",
    "    print(\"it does not has negative numbers\")\n",
    "else:\n",
    "    print(\"it has negative numbers\")"
   ]
  },
  {
   "cell_type": "code",
   "execution_count": 31,
   "id": "037d3387",
   "metadata": {},
   "outputs": [
    {
     "name": "stdout",
     "output_type": "stream",
     "text": [
      "it has negative numbers\n"
     ]
    }
   ],
   "source": [
    "l=[10,45,56,-23]\n",
    "count=0\n",
    "for i in l:\n",
    "    if i<0:\n",
    "        count = count + 1\n",
    "if count==0:\n",
    "    print(\"it does not has negative numbers\")\n",
    "else:\n",
    "    print(\"it has negative numbers\")"
   ]
  },
  {
   "cell_type": "code",
   "execution_count": 32,
   "id": "ffc78c15",
   "metadata": {},
   "outputs": [
    {
     "name": "stdout",
     "output_type": "stream",
     "text": [
      "it has negative numbers\n"
     ]
    }
   ],
   "source": [
    "l=[-34, 10,45,56,-23]\n",
    "count=0\n",
    "for i in l:\n",
    "    if i<0:\n",
    "        count = count + 1\n",
    "if count==0:\n",
    "    print(\"it does not has negative numbers\")\n",
    "else:\n",
    "    print(\"it has negative numbers\")"
   ]
  },
  {
   "cell_type": "code",
   "execution_count": 33,
   "id": "7989c85d",
   "metadata": {},
   "outputs": [
    {
     "name": "stdout",
     "output_type": "stream",
     "text": [
      "-34\n",
      "10\n",
      "45\n",
      "56\n",
      "-23\n",
      "it has negative numbers\n"
     ]
    }
   ],
   "source": [
    "l=[-34, 10,45,56,-23]\n",
    "count=0\n",
    "for i in l:\n",
    "    print(i)\n",
    "    if i<0:\n",
    "        count = count + 1\n",
    "if count==0:\n",
    "    print(\"it does not has negative numbers\")\n",
    "else:\n",
    "    print(\"it has negative numbers\")"
   ]
  },
  {
   "cell_type": "code",
   "execution_count": 34,
   "id": "9683f5fa",
   "metadata": {},
   "outputs": [
    {
     "name": "stdout",
     "output_type": "stream",
     "text": [
      "-34\n",
      "it does not has negative numbers\n"
     ]
    }
   ],
   "source": [
    "l=[-34, 10,45,56,-23]\n",
    "count=0\n",
    "for i in l:#i=-34\n",
    "    print(i)#-34\n",
    "    if i<0:#True\n",
    "        break\n",
    "        count = count + 1\n",
    "if count==0:#0==0: True\n",
    "    print(\"it does not has negative numbers\")\n",
    "else:\n",
    "    print(\"it has negative numbers\")"
   ]
  },
  {
   "cell_type": "code",
   "execution_count": 35,
   "id": "3c83a259",
   "metadata": {},
   "outputs": [
    {
     "name": "stdout",
     "output_type": "stream",
     "text": [
      "-34\n",
      "it has negative numbers\n"
     ]
    }
   ],
   "source": [
    "l=[-34, 10,45,56,-23]\n",
    "count=0\n",
    "for i in l:#i=-34\n",
    "    print(i)#-34\n",
    "    if i<0:#True\n",
    "        count = count + 1# 1\n",
    "        break\n",
    "if count==0:#1==0: False\n",
    "    print(\"it does not has negative numbers\")\n",
    "else:\n",
    "    print(\"it has negative numbers\")"
   ]
  },
  {
   "cell_type": "code",
   "execution_count": 36,
   "id": "d2e00374",
   "metadata": {},
   "outputs": [
    {
     "name": "stdout",
     "output_type": "stream",
     "text": [
      "10\n",
      "45\n",
      "-23\n",
      "it has negative numbers\n"
     ]
    }
   ],
   "source": [
    "l=[10,45,-23, 56,-23]\n",
    "count=0\n",
    "for i in l:#i=10, i=45, i=-23\n",
    "    print(i)#10, 45, -23\n",
    "    if i<0:#False, False, True\n",
    "        count = count + 1#0,0, 0+1=1\n",
    "        break\n",
    "if count==0:#1==0: False\n",
    "    print(\"it does not has negative numbers\")\n",
    "else:\n",
    "    print(\"it has negative numbers\")"
   ]
  },
  {
   "cell_type": "code",
   "execution_count": 37,
   "id": "0c799d87",
   "metadata": {},
   "outputs": [
    {
     "name": "stdout",
     "output_type": "stream",
     "text": [
      "10\n",
      "45\n",
      "-23\n",
      "it has negative numbers\n"
     ]
    }
   ],
   "source": [
    "l=[10,45,-23, 56,-23]\n",
    "\n",
    "for i in l:\n",
    "    print(i)\n",
    "    if i<0:\n",
    "        print(\"it has negative numbers\")\n",
    "        break\n"
   ]
  },
  {
   "cell_type": "code",
   "execution_count": 38,
   "id": "9a1e2b2c",
   "metadata": {},
   "outputs": [
    {
     "name": "stdout",
     "output_type": "stream",
     "text": [
      "10\n",
      "45\n",
      "56\n"
     ]
    }
   ],
   "source": [
    "l=[10,45,56]\n",
    "\n",
    "for i in l:\n",
    "    print(i)\n",
    "    if i<0:\n",
    "        print(\"it has negative numbers\")\n",
    "        break\n"
   ]
  },
  {
   "cell_type": "code",
   "execution_count": 39,
   "id": "95607874",
   "metadata": {},
   "outputs": [
    {
     "name": "stdout",
     "output_type": "stream",
     "text": [
      "10\n",
      "it does not has negative numbers\n",
      "45\n",
      "it does not has negative numbers\n",
      "56\n",
      "it does not has negative numbers\n"
     ]
    }
   ],
   "source": [
    "l=[10,45,56]\n",
    "\n",
    "for i in l:#i=10,45,56\n",
    "    print(i)#10, 45, 56\n",
    "    if i<0:#10<0: False, 45<0: False, 56<0: false\n",
    "        print(\"it has negative numbers\")\n",
    "        break\n",
    "    else:\n",
    "        print(\"it does not has negative numbers\")\n"
   ]
  },
  {
   "cell_type": "code",
   "execution_count": 40,
   "id": "219dda45",
   "metadata": {},
   "outputs": [
    {
     "name": "stdout",
     "output_type": "stream",
     "text": [
      "10\n",
      "it does not has negative numbers\n"
     ]
    }
   ],
   "source": [
    "l=[10,-34,45,56]\n",
    "\n",
    "for i in l:#i=10\n",
    "    print(i)#10\n",
    "    if i<0:#10<0: False\n",
    "        print(\"it has negative numbers\")\n",
    "        break\n",
    "    else:\n",
    "        print(\"it does not has negative numbers\")\n",
    "        break\n"
   ]
  },
  {
   "cell_type": "code",
   "execution_count": null,
   "id": "c52addb7",
   "metadata": {},
   "outputs": [],
   "source": [
    "l=[10,-34,45,56]\n",
    "\n",
    "for i in l:#i=10\n",
    "    print(i)#10\n",
    "    if i<0:#10<0: False\n",
    "        print(\"it has negative numbers\")\n",
    "        break\n",
    "    else:\n",
    "        print(\"it does not has negative numbers\")\n",
    "        \n"
   ]
  },
  {
   "cell_type": "code",
   "execution_count": 41,
   "id": "5d07971a",
   "metadata": {},
   "outputs": [
    {
     "name": "stdout",
     "output_type": "stream",
     "text": [
      "p\n",
      "y\n",
      "t\n",
      "ELSE BLOCK\n",
      "MAIN BLOCK\n"
     ]
    }
   ],
   "source": [
    "for i in \"pyt\":\n",
    "    print(i)\n",
    "else:\n",
    "    print(\"ELSE BLOCK\")\n",
    "print(\"MAIN BLOCK\")"
   ]
  },
  {
   "cell_type": "code",
   "execution_count": 42,
   "id": "128f843b",
   "metadata": {},
   "outputs": [
    {
     "name": "stdout",
     "output_type": "stream",
     "text": [
      "p\n",
      "MAIN BLOCK\n"
     ]
    }
   ],
   "source": [
    "for i in \"pyt\":\n",
    "    print(i)\n",
    "    break\n",
    "else:\n",
    "    print(\"ELSE BLOCK\")\n",
    "print(\"MAIN BLOCK\")"
   ]
  },
  {
   "cell_type": "code",
   "execution_count": 43,
   "id": "c2e719e7",
   "metadata": {},
   "outputs": [
    {
     "name": "stdout",
     "output_type": "stream",
     "text": [
      "p\n",
      "y\n",
      "t\n",
      "ELSE BLOCK\n",
      "MAIN BLOCK\n"
     ]
    }
   ],
   "source": [
    "for i in \"pyt\":#i=p, i=y, i=t, i=?\n",
    "    print(i)#pyt\n",
    "    if i==\"z\":#p==z: False, y==z:False, t==z: False\n",
    "        break\n",
    "else:\n",
    "    print(\"ELSE BLOCK\")\n",
    "print(\"MAIN BLOCK\")"
   ]
  },
  {
   "cell_type": "code",
   "execution_count": 44,
   "id": "0c4d1704",
   "metadata": {},
   "outputs": [
    {
     "name": "stdout",
     "output_type": "stream",
     "text": [
      "it has negative numbers\n"
     ]
    }
   ],
   "source": [
    "l=[10,-34,45,56]\n",
    "for i in l:\n",
    "    if i<0:\n",
    "        print(\"it has negative numbers\")\n",
    "        break\n",
    "else:\n",
    "    print(\"it does not has negative numbers\")\n",
    "        \n"
   ]
  },
  {
   "cell_type": "code",
   "execution_count": 45,
   "id": "1997c582",
   "metadata": {},
   "outputs": [
    {
     "name": "stdout",
     "output_type": "stream",
     "text": [
      "ELSE BLOCK\n",
      "MAIN BLOCK\n"
     ]
    }
   ],
   "source": [
    "for i in \"\":\n",
    "    print(\"HELLO\")\n",
    "else:\n",
    "    print(\"ELSE BLOCK\")\n",
    "print(\"MAIN BLOCK\")"
   ]
  },
  {
   "cell_type": "code",
   "execution_count": 46,
   "id": "30d90785",
   "metadata": {},
   "outputs": [
    {
     "data": {
      "text/plain": [
       "range(0, 10)"
      ]
     },
     "execution_count": 46,
     "metadata": {},
     "output_type": "execute_result"
    }
   ],
   "source": [
    "range(10)"
   ]
  },
  {
   "cell_type": "code",
   "execution_count": 47,
   "id": "5c8269a0",
   "metadata": {},
   "outputs": [
    {
     "data": {
      "text/plain": [
       "[0, 1, 2, 3, 4, 5, 6, 7, 8, 9]"
      ]
     },
     "execution_count": 47,
     "metadata": {},
     "output_type": "execute_result"
    }
   ],
   "source": [
    "list(range(10))"
   ]
  },
  {
   "cell_type": "code",
   "execution_count": 48,
   "id": "4ab8a195",
   "metadata": {},
   "outputs": [
    {
     "data": {
      "text/plain": [
       "[2, 3, 4, 5, 6, 7, 8, 9]"
      ]
     },
     "execution_count": 48,
     "metadata": {},
     "output_type": "execute_result"
    }
   ],
   "source": [
    "list(range(2,10))"
   ]
  },
  {
   "cell_type": "code",
   "execution_count": 49,
   "id": "be2aff74",
   "metadata": {},
   "outputs": [
    {
     "data": {
      "text/plain": [
       "[2, 5, 8]"
      ]
     },
     "execution_count": 49,
     "metadata": {},
     "output_type": "execute_result"
    }
   ],
   "source": [
    "list(range(2,10,3))#2, 2+3, 5+3, "
   ]
  },
  {
   "cell_type": "code",
   "execution_count": 50,
   "id": "5da75cfe",
   "metadata": {},
   "outputs": [
    {
     "data": {
      "text/plain": [
       "[]"
      ]
     },
     "execution_count": 50,
     "metadata": {},
     "output_type": "execute_result"
    }
   ],
   "source": [
    "list(range(10,2))#step: +1"
   ]
  },
  {
   "cell_type": "code",
   "execution_count": 51,
   "id": "eeaea42c",
   "metadata": {},
   "outputs": [
    {
     "data": {
      "text/plain": [
       "[10, 9, 8, 7, 6, 5, 4, 3]"
      ]
     },
     "execution_count": 51,
     "metadata": {},
     "output_type": "execute_result"
    }
   ],
   "source": [
    "list(range(10,2,-1))#step: -1: 10,10-1,9-1,8-1"
   ]
  },
  {
   "cell_type": "code",
   "execution_count": 52,
   "id": "8a4b2ad3",
   "metadata": {},
   "outputs": [
    {
     "data": {
      "text/plain": [
       "[-10, -9, -8, -7, -6, -5, -4, -3]"
      ]
     },
     "execution_count": 52,
     "metadata": {},
     "output_type": "execute_result"
    }
   ],
   "source": [
    "list(range(-10,-2,+1))#step: -1: -10, -10+1"
   ]
  },
  {
   "cell_type": "code",
   "execution_count": 53,
   "id": "9cff6517",
   "metadata": {},
   "outputs": [
    {
     "data": {
      "text/plain": [
       "[-10, -9, -8, -7, -6, -5, -4, -3]"
      ]
     },
     "execution_count": 53,
     "metadata": {},
     "output_type": "execute_result"
    }
   ],
   "source": [
    "list(range(-10,-2))#step: +1: -10, -10+1"
   ]
  },
  {
   "cell_type": "code",
   "execution_count": null,
   "id": "9b2eefa2",
   "metadata": {},
   "outputs": [],
   "source": []
  }
 ],
 "metadata": {
  "kernelspec": {
   "display_name": "Python 3 (ipykernel)",
   "language": "python",
   "name": "python3"
  },
  "language_info": {
   "codemirror_mode": {
    "name": "ipython",
    "version": 3
   },
   "file_extension": ".py",
   "mimetype": "text/x-python",
   "name": "python",
   "nbconvert_exporter": "python",
   "pygments_lexer": "ipython3",
   "version": "3.11.3"
  }
 },
 "nbformat": 4,
 "nbformat_minor": 5
}
