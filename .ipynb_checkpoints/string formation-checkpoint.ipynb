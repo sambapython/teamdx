{
 "cells": [
  {
   "cell_type": "code",
   "execution_count": null,
   "id": "39272700",
   "metadata": {},
   "outputs": [],
   "source": [
    "# The Anil kumar is a very good customer, bought 3045 sales orders from our portal. we got 20000 profit becuase of Anil kumar.\n",
    "customer_name=input(\"Enter Customer Name:\")\n",
    "#number_of_sales_orders = input(\"Enter sales orders:\")\n",
    "#profit = input(\"Enter profit\")\n",
    "s=\"The\""
   ]
  },
  {
   "cell_type": "code",
   "execution_count": 3,
   "id": "a66076bd",
   "metadata": {},
   "outputs": [
    {
     "name": "stdout",
     "output_type": "stream",
     "text": [
      "apple fruit\n"
     ]
    }
   ],
   "source": [
    "s=\"apple\"\n",
    "s1=\"fruit\"\n",
    "res=s+\" \"+s1\n",
    "print(res)"
   ]
  },
  {
   "cell_type": "code",
   "execution_count": 4,
   "id": "4dc204f8",
   "metadata": {},
   "outputs": [
    {
     "name": "stdout",
     "output_type": "stream",
     "text": [
      "Enter Customer Name:Sambasivarao\n",
      "The Sambasivarao\n"
     ]
    }
   ],
   "source": [
    "# The Anil kumar is a very good customer, bought 3045 sales orders from our portal. we got 20000 profit becuase of Anil kumar.\n",
    "customer_name=input(\"Enter Customer Name:\")\n",
    "#number_of_sales_orders = input(\"Enter sales orders:\")\n",
    "#profit = input(\"Enter profit\")\n",
    "s=\"The \"+customer_name\n",
    "print(s)"
   ]
  },
  {
   "cell_type": "code",
   "execution_count": 5,
   "id": "24f6cc7f",
   "metadata": {},
   "outputs": [
    {
     "name": "stdout",
     "output_type": "stream",
     "text": [
      "Enter Customer Name:Venkatesh\n",
      "The Venkatesh is a very good customer, bought \n"
     ]
    }
   ],
   "source": [
    "# The Anil kumar is a very good customer, bought 3045 sales orders from our portal. we got 20000 profit becuase of Anil kumar.\n",
    "customer_name=input(\"Enter Customer Name:\")\n",
    "#number_of_sales_orders = input(\"Enter sales orders:\")\n",
    "#profit = input(\"Enter profit\")\n",
    "s=\"The \"+customer_name+\" is a very good customer, bought \"\n",
    "print(s)"
   ]
  },
  {
   "cell_type": "code",
   "execution_count": 6,
   "id": "b016536a",
   "metadata": {},
   "outputs": [
    {
     "name": "stdout",
     "output_type": "stream",
     "text": [
      "Enter Customer Name:Chiranjeevi\n",
      "Enter sales orders:3456\n",
      "The Chiranjeevi is a very good customer, bought 3456\n"
     ]
    }
   ],
   "source": [
    "# The Anil kumar is a very good customer, bought 3045 sales orders from our portal. we got 20000 profit becuase of Anil kumar.\n",
    "customer_name=input(\"Enter Customer Name:\")\n",
    "number_of_sales_orders = input(\"Enter sales orders:\")\n",
    "#profit = input(\"Enter profit\")\n",
    "s=\"The \"+customer_name+\" is a very good customer, bought \"+number_of_sales_orders\n",
    "print(s)"
   ]
  },
  {
   "cell_type": "code",
   "execution_count": 7,
   "id": "2b60a9ec",
   "metadata": {},
   "outputs": [
    {
     "name": "stdout",
     "output_type": "stream",
     "text": [
      "Enter Customer Name:NTR\n",
      "Enter sales orders:2345\n",
      "The NTR is a very good customer, bought 2345 sales orders from our portal. we got \n"
     ]
    }
   ],
   "source": [
    "# The Anil kumar is a very good customer, bought 3045 sales orders from our portal. we got 20000 profit becuase of Anil kumar.\n",
    "customer_name=input(\"Enter Customer Name:\")\n",
    "number_of_sales_orders = input(\"Enter sales orders:\")\n",
    "#profit = input(\"Enter profit\")\n",
    "s=\"The \"+customer_name+\" is a very good customer, bought \"+number_of_sales_orders+\" sales orders from our portal. we got \"\n",
    "print(s)"
   ]
  },
  {
   "cell_type": "code",
   "execution_count": 8,
   "id": "57ffd6ab",
   "metadata": {},
   "outputs": [
    {
     "name": "stdout",
     "output_type": "stream",
     "text": [
      "Enter Customer Name:NagarjunA\n",
      "Enter sales orders:34567\n",
      "Enter profit342\n",
      "The NagarjunA is a very good customer, bought 34567 sales orders from our portal. we got 342\n"
     ]
    }
   ],
   "source": [
    "# The Anil kumar is a very good customer, bought 3045 sales orders from our portal. we got 20000 profit becuase of Anil kumar.\n",
    "customer_name=input(\"Enter Customer Name:\")\n",
    "number_of_sales_orders = input(\"Enter sales orders:\")\n",
    "profit = input(\"Enter profit:\")\n",
    "s=\"The \"+customer_name+\" is a very good customer, bought \"+number_of_sales_orders+\" sales orders from our portal. we got \"+profit\n",
    "print(s)"
   ]
  },
  {
   "cell_type": "code",
   "execution_count": 9,
   "id": "ffa160a1",
   "metadata": {},
   "outputs": [
    {
     "name": "stdout",
     "output_type": "stream",
     "text": [
      "Enter Customer Name:AlluArjun\n",
      "Enter sales orders:2345\n",
      "Enter profit:7890\n",
      "The AlluArjun is a very good customer, bought 2345 sales orders from our portal. we got 7890 profit becuase of AlluArjun\n"
     ]
    }
   ],
   "source": [
    "# The Anil kumar is a very good customer, bought 3045 sales orders from our portal. we got 20000 profit becuase of Anil kumar.\n",
    "customer_name=input(\"Enter Customer Name:\")\n",
    "number_of_sales_orders = input(\"Enter sales orders:\")\n",
    "profit = input(\"Enter profit:\")\n",
    "s=\"The \"+customer_name+\" is a very good customer, bought \"+number_of_sales_orders+\" sales orders from our portal. we got \"+profit+\" profit becuase of \"+customer_name+\".\"\n",
    "print(s)"
   ]
  },
  {
   "cell_type": "code",
   "execution_count": 1,
   "id": "da51a628",
   "metadata": {},
   "outputs": [
    {
     "name": "stdout",
     "output_type": "stream",
     "text": [
      "Enter Customer Name:qwewq\n",
      "Enter sales orders:23\n",
      "Enter profit:45\n",
      "The qwewq is a very good customer, bought 23 sales orders from our portal. we got 45 profit becuase of qwewq.\n"
     ]
    }
   ],
   "source": [
    "# The Anil kumar is a very good customer, bought 3045 sales orders from our portal. we got 20000 profit becuase of Anil kumar.\n",
    "customer_name=input(\"Enter Customer Name:\")\n",
    "number_of_sales_orders = input(\"Enter sales orders:\")\n",
    "profit = input(\"Enter profit:\")\n",
    "s=\"The \"+customer_name+\" is a very good customer, bought \"+number_of_sales_orders+\" sales orders from our portal. we got \"+profit+\" profit becuase of \"+customer_name+\".\"\n",
    "print(s)"
   ]
  },
  {
   "cell_type": "code",
   "execution_count": 4,
   "id": "94393acf",
   "metadata": {},
   "outputs": [
    {
     "name": "stdout",
     "output_type": "stream",
     "text": [
      "Enter Customer Name:3242\n",
      "Enter sales orders:432\n",
      "Enter profit:234\n",
      "The 3242 is a very good customer, bought 432 sales orders from our portal. we got 234 profit becuase of 3242.\n"
     ]
    }
   ],
   "source": [
    "# The Anil kumar is a very good customer, bought 3045 sales orders from our portal. we got 20000 profit becuase of Anil kumar.\n",
    "customer_name=input(\"Enter Customer Name:\")\n",
    "number_of_sales_orders = input(\"Enter sales orders:\")\n",
    "profit = input(\"Enter profit:\")\n",
    "s=\"The \"+customer_name+\" is a very good customer, bought \"+number_of_sales_orders+\\\n",
    "\" sales orders from our portal. we got \"+profit+\" profit becuase of \"+customer_name+\".\"\n",
    "print(s)"
   ]
  },
  {
   "cell_type": "code",
   "execution_count": 5,
   "id": "709c25cc",
   "metadata": {},
   "outputs": [
    {
     "name": "stdout",
     "output_type": "stream",
     "text": [
      "Enter Customer Name:sdfds\n",
      "The customer_name is a very good customer, bought \n"
     ]
    }
   ],
   "source": [
    "# The Anil kumar is a very good customer, bought 3045 sales orders from our portal. we got 20000 profit becuase of Anil kumar.\n",
    "customer_name=input(\"Enter Customer Name:\")\n",
    "print(\"The customer_name is a very good customer, bought \")"
   ]
  },
  {
   "cell_type": "code",
   "execution_count": 6,
   "id": "4b28a1ba",
   "metadata": {},
   "outputs": [
    {
     "name": "stdout",
     "output_type": "stream",
     "text": [
      "Enter Customer Name:qwewq\n",
      "The {customer_name} is a very good customer, bought \n"
     ]
    }
   ],
   "source": [
    "# The Anil kumar is a very good customer, bought 3045 sales orders from our portal. we got 20000 profit becuase of Anil kumar.\n",
    "customer_name=input(\"Enter Customer Name:\")\n",
    "print(\"The {customer_name} is a very good customer, bought \")"
   ]
  },
  {
   "cell_type": "code",
   "execution_count": 7,
   "id": "3b97fd0b",
   "metadata": {},
   "outputs": [
    {
     "name": "stdout",
     "output_type": "stream",
     "text": [
      "Enter Customer Name:Anil kumar\n",
      "The Anil kumar is a very good customer, bought \n"
     ]
    }
   ],
   "source": [
    "# The Anil kumar is a very good customer, bought 3045 sales orders from our portal. we got 20000 profit becuase of Anil kumar.\n",
    "customer_name=input(\"Enter Customer Name:\")\n",
    "print(f\"The {customer_name} is a very good customer, bought \")# template string: f string"
   ]
  },
  {
   "cell_type": "code",
   "execution_count": 8,
   "id": "e92f1064",
   "metadata": {},
   "outputs": [
    {
     "ename": "TypeError",
     "evalue": "can only concatenate str (not \"int\") to str",
     "output_type": "error",
     "traceback": [
      "\u001b[1;31m---------------------------------------------------------------------------\u001b[0m",
      "\u001b[1;31mTypeError\u001b[0m                                 Traceback (most recent call last)",
      "Cell \u001b[1;32mIn[8], line 2\u001b[0m\n\u001b[0;32m      1\u001b[0m a\u001b[38;5;241m=\u001b[39m\u001b[38;5;241m1000\u001b[39m\n\u001b[1;32m----> 2\u001b[0m \u001b[38;5;28mprint\u001b[39m(\u001b[38;5;124m\"\u001b[39m\u001b[38;5;124mThe product cost:\u001b[39m\u001b[38;5;124m\"\u001b[39m\u001b[38;5;241m+\u001b[39ma)\n",
      "\u001b[1;31mTypeError\u001b[0m: can only concatenate str (not \"int\") to str"
     ]
    }
   ],
   "source": [
    "a=1000\n",
    "print(\"The product cost:\"+a)"
   ]
  },
  {
   "cell_type": "code",
   "execution_count": 9,
   "id": "20c4e560",
   "metadata": {},
   "outputs": [
    {
     "name": "stdout",
     "output_type": "stream",
     "text": [
      "The product cost:1000\n"
     ]
    }
   ],
   "source": [
    "a=1000\n",
    "print(\"The product cost:\"+str(a))"
   ]
  },
  {
   "cell_type": "code",
   "execution_count": 10,
   "id": "0cb18f8d",
   "metadata": {},
   "outputs": [
    {
     "name": "stdout",
     "output_type": "stream",
     "text": [
      "The product cost:1000\n"
     ]
    }
   ],
   "source": [
    "a=1000\n",
    "print(f\"The product cost:{a}\")"
   ]
  },
  {
   "cell_type": "code",
   "execution_count": 11,
   "id": "ef8a5a66",
   "metadata": {},
   "outputs": [
    {
     "name": "stdout",
     "output_type": "stream",
     "text": [
      "The prodcut cost: 123.45678\n"
     ]
    }
   ],
   "source": [
    "cost=123.45678\n",
    "print(f\"The prodcut cost: {cost}\")"
   ]
  },
  {
   "cell_type": "code",
   "execution_count": 12,
   "id": "889dc872",
   "metadata": {},
   "outputs": [
    {
     "name": "stdout",
     "output_type": "stream",
     "text": [
      "The prodcut cost:  123.456780\n"
     ]
    }
   ],
   "source": [
    "cost=123.45678\n",
    "print(f\"The prodcut cost: {cost: f}\")"
   ]
  },
  {
   "cell_type": "code",
   "execution_count": 13,
   "id": "c98958f5",
   "metadata": {},
   "outputs": [
    {
     "ename": "ValueError",
     "evalue": "Unknown format code 'd' for object of type 'float'",
     "output_type": "error",
     "traceback": [
      "\u001b[1;31m---------------------------------------------------------------------------\u001b[0m",
      "\u001b[1;31mValueError\u001b[0m                                Traceback (most recent call last)",
      "Cell \u001b[1;32mIn[13], line 2\u001b[0m\n\u001b[0;32m      1\u001b[0m cost\u001b[38;5;241m=\u001b[39m\u001b[38;5;241m123.45678\u001b[39m\n\u001b[1;32m----> 2\u001b[0m \u001b[38;5;28mprint\u001b[39m(\u001b[38;5;124mf\u001b[39m\u001b[38;5;124m\"\u001b[39m\u001b[38;5;124mThe prodcut cost: \u001b[39m\u001b[38;5;132;01m{\u001b[39;00mcost\u001b[38;5;132;01m:\u001b[39;00m\u001b[38;5;124m d\u001b[39m\u001b[38;5;132;01m}\u001b[39;00m\u001b[38;5;124m\"\u001b[39m)\n",
      "\u001b[1;31mValueError\u001b[0m: Unknown format code 'd' for object of type 'float'"
     ]
    }
   ],
   "source": [
    "cost=123.45678\n",
    "print(f\"The prodcut cost: {cost: d}\")"
   ]
  },
  {
   "cell_type": "code",
   "execution_count": 14,
   "id": "9a7ec7ea",
   "metadata": {},
   "outputs": [
    {
     "name": "stdout",
     "output_type": "stream",
     "text": [
      "The prodcut cost: 123\n"
     ]
    }
   ],
   "source": [
    "cost=123.45678\n",
    "print(f\"The prodcut cost: {int(cost)}\")"
   ]
  },
  {
   "cell_type": "code",
   "execution_count": 15,
   "id": "989f9154",
   "metadata": {},
   "outputs": [
    {
     "name": "stdout",
     "output_type": "stream",
     "text": [
      "The prodcut cost:  123.456780\n"
     ]
    }
   ],
   "source": [
    "cost=123.45678\n",
    "print(f\"The prodcut cost: {cost: f}\")"
   ]
  },
  {
   "cell_type": "code",
   "execution_count": 16,
   "id": "ecd84e3b",
   "metadata": {},
   "outputs": [
    {
     "name": "stdout",
     "output_type": "stream",
     "text": [
      "The prodcut cost:  123.456784\n"
     ]
    }
   ],
   "source": [
    "cost=123.456783543543643\n",
    "print(f\"The prodcut cost: {cost: f}\")"
   ]
  },
  {
   "cell_type": "code",
   "execution_count": 18,
   "id": "5ed06de7",
   "metadata": {},
   "outputs": [
    {
     "name": "stdout",
     "output_type": "stream",
     "text": [
      "The prodcut cost:  123.46\n"
     ]
    }
   ],
   "source": [
    "cost=123.456783543543643\n",
    "print(f\"The prodcut cost: {cost: .2f}\")"
   ]
  },
  {
   "cell_type": "code",
   "execution_count": 19,
   "id": "8ccb06a2",
   "metadata": {},
   "outputs": [],
   "source": [
    "# format specifiers: %s, %d, %r, %f"
   ]
  },
  {
   "cell_type": "code",
   "execution_count": 20,
   "id": "e6ffa566",
   "metadata": {},
   "outputs": [
    {
     "name": "stdout",
     "output_type": "stream",
     "text": [
      "The prodcut cost: %s\n"
     ]
    }
   ],
   "source": [
    "cost=123.456783543543643\n",
    "print(\"The prodcut cost: %s\")"
   ]
  },
  {
   "cell_type": "code",
   "execution_count": 21,
   "id": "34330581",
   "metadata": {},
   "outputs": [
    {
     "name": "stdout",
     "output_type": "stream",
     "text": [
      "The prodcut cost: %s 123.45678354354364\n"
     ]
    }
   ],
   "source": [
    "cost=123.456783543543643\n",
    "print(\"The prodcut cost: %s\", cost)"
   ]
  },
  {
   "cell_type": "code",
   "execution_count": 22,
   "id": "826d8ff7",
   "metadata": {},
   "outputs": [
    {
     "name": "stdout",
     "output_type": "stream",
     "text": [
      "The prodcut cost: 123.45678354354364\n"
     ]
    }
   ],
   "source": [
    "cost=123.456783543543643\n",
    "print(\"The prodcut cost: %s\"%cost)"
   ]
  },
  {
   "cell_type": "code",
   "execution_count": 24,
   "id": "77e9f192",
   "metadata": {},
   "outputs": [
    {
     "name": "stdout",
     "output_type": "stream",
     "text": [
      "The prodcut cost: 123.456784\n"
     ]
    }
   ],
   "source": [
    "cost=123.456783543543643\n",
    "print(\"The prodcut cost: %f\"%cost)"
   ]
  },
  {
   "cell_type": "code",
   "execution_count": 25,
   "id": "dda0e91a",
   "metadata": {},
   "outputs": [
    {
     "name": "stdout",
     "output_type": "stream",
     "text": [
      "The prodcut cost: 123.456783\n"
     ]
    }
   ],
   "source": [
    "cost=123.456783443543643\n",
    "print(\"The prodcut cost: %f\"%cost)"
   ]
  },
  {
   "cell_type": "code",
   "execution_count": 26,
   "id": "37fac6be",
   "metadata": {},
   "outputs": [
    {
     "name": "stdout",
     "output_type": "stream",
     "text": [
      "The prodcut cost: 123\n"
     ]
    }
   ],
   "source": [
    "cost=123.456783443543643\n",
    "print(\"The prodcut cost: %d\"%cost)"
   ]
  },
  {
   "cell_type": "code",
   "execution_count": 27,
   "id": "ed654296",
   "metadata": {},
   "outputs": [
    {
     "name": "stdout",
     "output_type": "stream",
     "text": [
      "fsdfdsfs \n",
      " sdfdsfsd\n"
     ]
    }
   ],
   "source": [
    "# special\n",
    "print(\"fsdfdsfs \\n sdfdsfsd\")"
   ]
  },
  {
   "cell_type": "code",
   "execution_count": 28,
   "id": "08a15109",
   "metadata": {},
   "outputs": [
    {
     "name": "stdout",
     "output_type": "stream",
     "text": [
      "fsdfdsfs \n",
      " sdfdsfsd \t dsfdsfdsf\n"
     ]
    }
   ],
   "source": [
    "# special\n",
    "print(\"fsdfdsfs \\n sdfdsfsd \\t dsfdsfdsf\")"
   ]
  },
  {
   "cell_type": "code",
   "execution_count": 29,
   "id": "14670395",
   "metadata": {},
   "outputs": [
    {
     "name": "stdout",
     "output_type": "stream",
     "text": [
      "fsdfdsfs\n",
      "sdfdsfsd\tdsfdsfdsf\n"
     ]
    }
   ],
   "source": [
    "# special\n",
    "print(\"fsdfdsfs\\nsdfdsfsd\\tdsfdsfdsf\")"
   ]
  },
  {
   "cell_type": "code",
   "execution_count": 30,
   "id": "b4cba79a",
   "metadata": {},
   "outputs": [
    {
     "name": "stdout",
     "output_type": "stream",
     "text": [
      "fsdfdsfs\n",
      "sdfdsfsd\tdsfdsfdsf\n"
     ]
    }
   ],
   "source": [
    "# special: 'fsdfdsfs\\nsdfdsfsd\\tdsfdsfdsf'\n",
    "print('fsdfdsfs\\nsdfdsfsd\\tdsfdsfdsf')"
   ]
  },
  {
   "cell_type": "code",
   "execution_count": 31,
   "id": "fa1b4909",
   "metadata": {},
   "outputs": [
    {
     "name": "stdout",
     "output_type": "stream",
     "text": [
      "fsdfdsfs\"\n",
      "\"sdfdsfsd\"\t\"dsfdsfdsf\n"
     ]
    }
   ],
   "source": [
    "# special: 'fsdfdsfs\\nsdfdsfsd\\tdsfdsfdsf'\n",
    "print('fsdfdsfs\"\\n\"sdfdsfsd\"\\t\"dsfdsfdsf')"
   ]
  },
  {
   "cell_type": "code",
   "execution_count": 32,
   "id": "68115bfb",
   "metadata": {},
   "outputs": [
    {
     "name": "stdout",
     "output_type": "stream",
     "text": [
      "fsdfdsfs\\nsdfdsfsd\\tdsfdsfdsf\n"
     ]
    }
   ],
   "source": [
    "# special: 'fsdfdsfs\\nsdfdsfsd\\tdsfdsfdsf'\n",
    "print('fsdfdsfs\\\\nsdfdsfsd\\\\tdsfdsfdsf')"
   ]
  },
  {
   "cell_type": "code",
   "execution_count": 33,
   "id": "fc8e11ba",
   "metadata": {},
   "outputs": [
    {
     "name": "stdout",
     "output_type": "stream",
     "text": [
      "1\n"
     ]
    }
   ],
   "source": [
    "print(len(\"\\n\"))"
   ]
  },
  {
   "cell_type": "code",
   "execution_count": 34,
   "id": "1a92f382",
   "metadata": {},
   "outputs": [
    {
     "name": "stdout",
     "output_type": "stream",
     "text": [
      "2\n"
     ]
    }
   ],
   "source": [
    "print(len(\"\\\\n\"))"
   ]
  },
  {
   "cell_type": "code",
   "execution_count": 35,
   "id": "a42213ca",
   "metadata": {},
   "outputs": [
    {
     "name": "stdout",
     "output_type": "stream",
     "text": [
      "fsdfdsfs\\nsdfdsfsd\\tdsfdsfdsf\n"
     ]
    }
   ],
   "source": [
    "# special: 'fsdfdsfs\\nsdfdsfsd\\tdsfdsfdsf'\n",
    "print(r'fsdfdsfs\\nsdfdsfsd\\tdsfdsfdsf')"
   ]
  },
  {
   "cell_type": "code",
   "execution_count": 36,
   "id": "41a9630a",
   "metadata": {},
   "outputs": [
    {
     "name": "stdout",
     "output_type": "stream",
     "text": [
      "the product APPLE\n"
     ]
    }
   ],
   "source": [
    "cost=123.45\n",
    "discount=34\n",
    "total=345\n",
    "name=\"APPLE\"\n",
    "print(\"the product %s\"%(name))"
   ]
  },
  {
   "cell_type": "code",
   "execution_count": 37,
   "id": "d075760c",
   "metadata": {},
   "outputs": [
    {
     "name": "stdout",
     "output_type": "stream",
     "text": [
      "the product APPLE, cost:123.45, discount:34\n"
     ]
    }
   ],
   "source": [
    "cost=123.45\n",
    "discount=34\n",
    "total=345\n",
    "name=\"APPLE\"\n",
    "print(\"the product %s, cost:%s, discount:%s\"%(name, cost, discount))"
   ]
  },
  {
   "cell_type": "code",
   "execution_count": 38,
   "id": "ab34aa75",
   "metadata": {},
   "outputs": [
    {
     "ename": "TypeError",
     "evalue": "not all arguments converted during string formatting",
     "output_type": "error",
     "traceback": [
      "\u001b[1;31m---------------------------------------------------------------------------\u001b[0m",
      "\u001b[1;31mTypeError\u001b[0m                                 Traceback (most recent call last)",
      "Cell \u001b[1;32mIn[38], line 5\u001b[0m\n\u001b[0;32m      3\u001b[0m total\u001b[38;5;241m=\u001b[39m\u001b[38;5;241m345\u001b[39m\n\u001b[0;32m      4\u001b[0m name\u001b[38;5;241m=\u001b[39m\u001b[38;5;124m\"\u001b[39m\u001b[38;5;124mAPPLE\u001b[39m\u001b[38;5;124m\"\u001b[39m\n\u001b[1;32m----> 5\u001b[0m \u001b[38;5;28mprint\u001b[39m(\u001b[38;5;124m\"\u001b[39m\u001b[38;5;124mthe product \u001b[39m\u001b[38;5;132;01m%s\u001b[39;00m\u001b[38;5;124m, cost:\u001b[39m\u001b[38;5;132;01m%s\u001b[39;00m\u001b[38;5;124m, discount:\u001b[39m\u001b[38;5;132;01m%s\u001b[39;00m\u001b[38;5;124m\"\u001b[39m\u001b[38;5;241m%\u001b[39m(name, cost, discount, total))\n",
      "\u001b[1;31mTypeError\u001b[0m: not all arguments converted during string formatting"
     ]
    }
   ],
   "source": [
    "cost=123.45\n",
    "discount=34\n",
    "total=345\n",
    "name=\"APPLE\"\n",
    "print(\"the product %s, cost:%s, discount:%s\"%(name, cost, discount, total))"
   ]
  },
  {
   "cell_type": "code",
   "execution_count": 39,
   "id": "dd16567c",
   "metadata": {},
   "outputs": [
    {
     "name": "stdout",
     "output_type": "stream",
     "text": [
      "the product APPLE, cost:123.45, discount:34, total: 345\n"
     ]
    }
   ],
   "source": [
    "cost=123.45\n",
    "discount=34\n",
    "total=345\n",
    "name=\"APPLE\"\n",
    "print(\"the product %s, cost:%s, discount:%s, total: %s\"%(name, cost, discount, total))"
   ]
  },
  {
   "cell_type": "code",
   "execution_count": 40,
   "id": "b5c1f1b2",
   "metadata": {},
   "outputs": [
    {
     "name": "stdout",
     "output_type": "stream",
     "text": [
      "the product APPLE, cost:123.45, discount:34, total: 345\n"
     ]
    }
   ],
   "source": [
    "cost=123.45324324\n",
    "discount=34.32432532\n",
    "total=345\n",
    "name=\"APPLE\"\n",
    "print(\"the product %s, cost:%.2f, discount:%d, total: %s\"%(name, cost, discount, total))"
   ]
  },
  {
   "cell_type": "code",
   "execution_count": null,
   "id": "f3acb26e",
   "metadata": {},
   "outputs": [],
   "source": []
  }
 ],
 "metadata": {
  "kernelspec": {
   "display_name": "Python 3 (ipykernel)",
   "language": "python",
   "name": "python3"
  },
  "language_info": {
   "codemirror_mode": {
    "name": "ipython",
    "version": 3
   },
   "file_extension": ".py",
   "mimetype": "text/x-python",
   "name": "python",
   "nbconvert_exporter": "python",
   "pygments_lexer": "ipython3",
   "version": "3.11.3"
  }
 },
 "nbformat": 4,
 "nbformat_minor": 5
}
