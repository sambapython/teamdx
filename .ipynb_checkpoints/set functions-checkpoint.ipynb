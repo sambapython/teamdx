{
 "cells": [
  {
   "cell_type": "code",
   "execution_count": 1,
   "id": "05a619ec",
   "metadata": {},
   "outputs": [],
   "source": [
    "s={10,20,30,40}"
   ]
  },
  {
   "cell_type": "code",
   "execution_count": 2,
   "id": "d1c346dc",
   "metadata": {},
   "outputs": [],
   "source": [
    "s={10,12.34,True,None,(1,2,3,4)}"
   ]
  },
  {
   "cell_type": "code",
   "execution_count": 3,
   "id": "54b30c64",
   "metadata": {},
   "outputs": [
    {
     "ename": "TypeError",
     "evalue": "unhashable type: 'list'",
     "output_type": "error",
     "traceback": [
      "\u001b[1;31m---------------------------------------------------------------------------\u001b[0m",
      "\u001b[1;31mTypeError\u001b[0m                                 Traceback (most recent call last)",
      "Cell \u001b[1;32mIn[3], line 1\u001b[0m\n\u001b[1;32m----> 1\u001b[0m s\u001b[38;5;241m=\u001b[39m{[\u001b[38;5;241m1\u001b[39m,\u001b[38;5;241m2\u001b[39m,\u001b[38;5;241m3\u001b[39m,\u001b[38;5;241m4\u001b[39m],\u001b[38;5;241m123\u001b[39m}\n",
      "\u001b[1;31mTypeError\u001b[0m: unhashable type: 'list'"
     ]
    }
   ],
   "source": [
    "s={[1,2,3,4],123}"
   ]
  },
  {
   "cell_type": "code",
   "execution_count": 4,
   "id": "943d8b1c",
   "metadata": {},
   "outputs": [
    {
     "ename": "TypeError",
     "evalue": "unhashable type: 'dict'",
     "output_type": "error",
     "traceback": [
      "\u001b[1;31m---------------------------------------------------------------------------\u001b[0m",
      "\u001b[1;31mTypeError\u001b[0m                                 Traceback (most recent call last)",
      "Cell \u001b[1;32mIn[4], line 1\u001b[0m\n\u001b[1;32m----> 1\u001b[0m s\u001b[38;5;241m=\u001b[39m{{\u001b[38;5;241m1\u001b[39m:\u001b[38;5;241m2\u001b[39m,\u001b[38;5;241m3\u001b[39m:\u001b[38;5;241m4\u001b[39m}}\n",
      "\u001b[1;31mTypeError\u001b[0m: unhashable type: 'dict'"
     ]
    }
   ],
   "source": [
    "s={{1:2,3:4}}"
   ]
  },
  {
   "cell_type": "code",
   "execution_count": 5,
   "id": "780d9241",
   "metadata": {},
   "outputs": [
    {
     "ename": "TypeError",
     "evalue": "unhashable type: 'set'",
     "output_type": "error",
     "traceback": [
      "\u001b[1;31m---------------------------------------------------------------------------\u001b[0m",
      "\u001b[1;31mTypeError\u001b[0m                                 Traceback (most recent call last)",
      "Cell \u001b[1;32mIn[5], line 1\u001b[0m\n\u001b[1;32m----> 1\u001b[0m s\u001b[38;5;241m=\u001b[39m{{\u001b[38;5;241m1\u001b[39m,\u001b[38;5;241m2\u001b[39m,\u001b[38;5;241m3\u001b[39m},{\u001b[38;5;241m3\u001b[39m,\u001b[38;5;241m4\u001b[39m,\u001b[38;5;241m5\u001b[39m}}\n",
      "\u001b[1;31mTypeError\u001b[0m: unhashable type: 'set'"
     ]
    }
   ],
   "source": [
    "s={{1,2,3},{3,4,5}}"
   ]
  },
  {
   "cell_type": "code",
   "execution_count": 6,
   "id": "c95d3c18",
   "metadata": {},
   "outputs": [
    {
     "ename": "TypeError",
     "evalue": "'set' object is not subscriptable",
     "output_type": "error",
     "traceback": [
      "\u001b[1;31m---------------------------------------------------------------------------\u001b[0m",
      "\u001b[1;31mTypeError\u001b[0m                                 Traceback (most recent call last)",
      "Cell \u001b[1;32mIn[6], line 4\u001b[0m\n\u001b[0;32m      1\u001b[0m \u001b[38;5;66;03m# unordered collection of immutable elments.\u001b[39;00m\n\u001b[0;32m      2\u001b[0m \u001b[38;5;66;03m# set is mutable\u001b[39;00m\n\u001b[0;32m      3\u001b[0m s\u001b[38;5;241m=\u001b[39m{\u001b[38;5;241m10\u001b[39m,\u001b[38;5;241m20\u001b[39m,\u001b[38;5;241m30\u001b[39m,\u001b[38;5;241m40\u001b[39m}\n\u001b[1;32m----> 4\u001b[0m \u001b[38;5;28mprint\u001b[39m(s[\u001b[38;5;241m0\u001b[39m])\n",
      "\u001b[1;31mTypeError\u001b[0m: 'set' object is not subscriptable"
     ]
    }
   ],
   "source": [
    "# unordered collection of immutable elments.\n",
    "# set is mutable\n",
    "s={10,20,30,40}\n",
    "print(s[0])"
   ]
  },
  {
   "cell_type": "code",
   "execution_count": 7,
   "id": "8fbed8de",
   "metadata": {},
   "outputs": [
    {
     "name": "stdout",
     "output_type": "stream",
     "text": [
      "40\n",
      "10\n",
      "20\n",
      "30\n"
     ]
    }
   ],
   "source": [
    "s={10,20,30,40}\n",
    "for i in s:\n",
    "    print(i)"
   ]
  },
  {
   "cell_type": "code",
   "execution_count": 8,
   "id": "c4d331f5",
   "metadata": {},
   "outputs": [
    {
     "name": "stdout",
     "output_type": "stream",
     "text": [
      "s1= {100, 40, 10, 20, 30}\n",
      "s2= {100, 40, 10, 20, 30}\n",
      "s3= {40, 10, 20, 30}\n",
      "s4= {40, 10, 20, 30}\n"
     ]
    }
   ],
   "source": [
    "from copy import deepcopy\n",
    "s1={10,20,30,40}\n",
    "s2=s1\n",
    "s3=s1.copy()\n",
    "s4=deepcopy(s1)\n",
    "s1.add(100)\n",
    "print(\"s1=\",s1)\n",
    "print(\"s2=\",s2)\n",
    "print(\"s3=\",s3)\n",
    "print(\"s4=\",s4)\n"
   ]
  },
  {
   "cell_type": "code",
   "execution_count": 9,
   "id": "d96a3eb2",
   "metadata": {},
   "outputs": [
    {
     "name": "stdout",
     "output_type": "stream",
     "text": [
      "1000 2865678568080\n",
      "(1000, 2000, 3000) 2865679804288\n",
      "4567.89 2865678572528\n",
      "********************\n",
      "1000 2865678568080\n",
      "(1000, 2000, 3000) 2865679804288\n",
      "4567.89 2865678572528\n",
      "********************\n",
      "1000 2865678568080\n",
      "(1000, 2000, 3000) 2865679804288\n",
      "4567.89 2865678572528\n"
     ]
    }
   ],
   "source": [
    "s1={1000,(1000,2000,3000),4567.89}\n",
    "s2=s1.copy()\n",
    "s3=deepcopy(s1)\n",
    "for i in s1:\n",
    "    print(i,id(i))\n",
    "print(\"*\"*20)\n",
    "for i in s2:\n",
    "    print(i, id(i))\n",
    "print(\"*\"*20)\n",
    "for i in s3:\n",
    "    print(i, id(i))\n",
    "    "
   ]
  },
  {
   "cell_type": "code",
   "execution_count": 10,
   "id": "81e04424",
   "metadata": {},
   "outputs": [
    {
     "name": "stdout",
     "output_type": "stream",
     "text": [
      "['__and__', '__class__', '__class_getitem__', '__contains__', '__delattr__', '__dir__', '__doc__', '__eq__', '__format__', '__ge__', '__getattribute__', '__getstate__', '__gt__', '__hash__', '__iand__', '__init__', '__init_subclass__', '__ior__', '__isub__', '__iter__', '__ixor__', '__le__', '__len__', '__lt__', '__ne__', '__new__', '__or__', '__rand__', '__reduce__', '__reduce_ex__', '__repr__', '__ror__', '__rsub__', '__rxor__', '__setattr__', '__sizeof__', '__str__', '__sub__', '__subclasshook__', '__xor__', 'add', 'clear', 'copy', 'difference', 'difference_update', 'discard', 'intersection', 'intersection_update', 'isdisjoint', 'issubset', 'issuperset', 'pop', 'remove', 'symmetric_difference', 'symmetric_difference_update', 'union', 'update']\n"
     ]
    }
   ],
   "source": [
    "print(dir(s1))"
   ]
  },
  {
   "cell_type": "code",
   "execution_count": 11,
   "id": "32785a91",
   "metadata": {},
   "outputs": [
    {
     "name": "stdout",
     "output_type": "stream",
     "text": [
      "{1000, 4000, 3000, 2000} None\n"
     ]
    },
    {
     "ename": "TypeError",
     "evalue": "'int' object is not iterable",
     "output_type": "error",
     "traceback": [
      "\u001b[1;31m---------------------------------------------------------------------------\u001b[0m",
      "\u001b[1;31mTypeError\u001b[0m                                 Traceback (most recent call last)",
      "Cell \u001b[1;32mIn[11], line 10\u001b[0m\n\u001b[0;32m      8\u001b[0m \u001b[38;5;28mprint\u001b[39m(s1,s2)\n\u001b[0;32m      9\u001b[0m s3\u001b[38;5;241m=\u001b[39m{\u001b[38;5;241m1000\u001b[39m,\u001b[38;5;241m2000\u001b[39m,\u001b[38;5;241m3000\u001b[39m}\n\u001b[1;32m---> 10\u001b[0m s4\u001b[38;5;241m=\u001b[39ms3\u001b[38;5;241m.\u001b[39mupdate(\u001b[38;5;241m4000\u001b[39m)\n\u001b[0;32m     11\u001b[0m \u001b[38;5;28mprint\u001b[39m(s3,s4)\n",
      "\u001b[1;31mTypeError\u001b[0m: 'int' object is not iterable"
     ]
    }
   ],
   "source": [
    "\"\"\"\n",
    "'add', 'clear', 'copy', 'difference', 'difference_update', 'discard', 'intersection', 'intersection_update', \n",
    "'isdisjoint', 'issubset', 'issuperset', 'pop', 'remove', 'symmetric_difference', 'symmetric_difference_update', \n",
    "'union', 'update'\n",
    "\"\"\"\n",
    "s1={1000,2000,3000}\n",
    "s2=s1.add(4000)\n",
    "print(s1,s2)\n",
    "s3={1000,2000,3000}\n",
    "s4=s3.update(4000)\n",
    "print(s3,s4)"
   ]
  },
  {
   "cell_type": "code",
   "execution_count": 12,
   "id": "a94306e2",
   "metadata": {},
   "outputs": [
    {
     "name": "stdout",
     "output_type": "stream",
     "text": [
      "{1000, 4000, 3000, 2000} None\n",
      "{2000, 3000, 23, 1000, 45} None\n"
     ]
    }
   ],
   "source": [
    "\"\"\"\n",
    "'add', 'clear', 'copy', 'difference', 'difference_update', 'discard', 'intersection', 'intersection_update', \n",
    "'isdisjoint', 'issubset', 'issuperset', 'pop', 'remove', 'symmetric_difference', 'symmetric_difference_update', \n",
    "'union', 'update'\n",
    "\"\"\"\n",
    "s1={1000,2000,3000}\n",
    "s2=s1.add(4000)\n",
    "print(s1,s2)\n",
    "s3={1000,2000,3000}\n",
    "s4=s3.update({23,45})\n",
    "print(s3,s4)"
   ]
  },
  {
   "cell_type": "code",
   "execution_count": 13,
   "id": "aa0140b2",
   "metadata": {},
   "outputs": [
    {
     "name": "stdout",
     "output_type": "stream",
     "text": [
      "{1000, 'python', 3000, 2000} None\n",
      "{'n', 1000, 'p', 'o', 2000, 3000, 'h', 't', 'y'} None\n"
     ]
    }
   ],
   "source": [
    "\"\"\"\n",
    "'add', 'clear', 'copy', 'difference', 'difference_update', 'discard', 'intersection', 'intersection_update', \n",
    "'isdisjoint', 'issubset', 'issuperset', 'pop', 'remove', 'symmetric_difference', 'symmetric_difference_update', \n",
    "'union', 'update'\n",
    "\"\"\"\n",
    "s1={1000,2000,3000}\n",
    "s2=s1.add(\"python\")\n",
    "print(s1,s2)\n",
    "s3={1000,2000,3000}\n",
    "s4=s3.update(\"python\")\n",
    "print(s3,s4)"
   ]
  },
  {
   "cell_type": "code",
   "execution_count": 14,
   "id": "d8fcde6f",
   "metadata": {},
   "outputs": [
    {
     "name": "stdout",
     "output_type": "stream",
     "text": [
      "set()\n",
      "set()\n",
      "None\n"
     ]
    }
   ],
   "source": [
    "\"\"\"\n",
    "'add', 'clear', 'copy', 'difference', 'difference_update', 'discard', 'intersection', 'intersection_update', \n",
    "'isdisjoint', 'issubset', 'issuperset', 'pop', 'remove', 'symmetric_difference', 'symmetric_difference_update', \n",
    "'union', 'update'\n",
    "\"\"\"\n",
    "s1={1000,2000,3000}\n",
    "s2=s1\n",
    "s3=s1.clear()\n",
    "print(s1)\n",
    "print(s2)\n",
    "print(s3)"
   ]
  },
  {
   "cell_type": "code",
   "execution_count": 15,
   "id": "7dda250c",
   "metadata": {},
   "outputs": [
    {
     "name": "stdout",
     "output_type": "stream",
     "text": [
      "{1, 2, 3, 4}\n",
      "{3, 4, 5, 6}\n",
      "{1, 2}\n"
     ]
    }
   ],
   "source": [
    "s1={1,2,3,4}\n",
    "s2={3,4,5,6}\n",
    "s3=s1.difference(s2)\n",
    "print(s1)\n",
    "print(s2)\n",
    "print(s3)"
   ]
  },
  {
   "cell_type": "code",
   "execution_count": 16,
   "id": "e845295b",
   "metadata": {},
   "outputs": [
    {
     "name": "stdout",
     "output_type": "stream",
     "text": [
      "{1, 2, 3, 4}\n",
      "{3, 4, 5, 6}\n",
      "{5, 6}\n"
     ]
    }
   ],
   "source": [
    "s1={1,2,3,4}\n",
    "s2={3,4,5,6}\n",
    "s3=s2.difference(s1)\n",
    "print(s1)\n",
    "print(s2)\n",
    "print(s3)"
   ]
  },
  {
   "cell_type": "code",
   "execution_count": 17,
   "id": "75d0372d",
   "metadata": {},
   "outputs": [
    {
     "name": "stdout",
     "output_type": "stream",
     "text": [
      "{1, 2, 3, 4}\n",
      "{5, 6}\n",
      "None\n"
     ]
    }
   ],
   "source": [
    "s1={1,2,3,4}\n",
    "s2={3,4,5,6}\n",
    "s3=s2.difference_update(s1)\n",
    "print(s1)\n",
    "print(s2)\n",
    "print(s3)"
   ]
  },
  {
   "cell_type": "code",
   "execution_count": 18,
   "id": "7baf4fd9",
   "metadata": {},
   "outputs": [
    {
     "name": "stdout",
     "output_type": "stream",
     "text": [
      "{1, 2, 3, 4}\n",
      "{3, 4, 5, 6}\n",
      "{1, 2, 5, 6}\n"
     ]
    }
   ],
   "source": [
    "s1={1,2,3,4}\n",
    "s2={3,4,5,6}\n",
    "s3=s2.symmetric_difference(s1)\n",
    "print(s1)\n",
    "print(s2)\n",
    "print(s3)\n",
    "#s2-s1  U   s1-s2"
   ]
  },
  {
   "cell_type": "code",
   "execution_count": 19,
   "id": "401760c6",
   "metadata": {},
   "outputs": [
    {
     "name": "stdout",
     "output_type": "stream",
     "text": [
      "{1, 2, 3, 4}\n",
      "{3, 4, 5, 6}\n",
      "{1, 2, 3, 4, 5, 6}\n"
     ]
    }
   ],
   "source": [
    "s1={1,2,3,4}\n",
    "s2={3,4,5,6}\n",
    "s3=s1.union(s2)\n",
    "print(s1)\n",
    "print(s2)\n",
    "print(s3)"
   ]
  },
  {
   "cell_type": "code",
   "execution_count": 20,
   "id": "b86a5fa8",
   "metadata": {},
   "outputs": [
    {
     "name": "stdout",
     "output_type": "stream",
     "text": [
      "{1, 2, 3, 4}\n",
      "{3, 4, 5, 6}\n",
      "{3, 4}\n"
     ]
    }
   ],
   "source": [
    "s1={1,2,3,4}\n",
    "s2={3,4,5,6}\n",
    "s3=s1.intersection(s2)\n",
    "print(s1)\n",
    "print(s2)\n",
    "print(s3)"
   ]
  },
  {
   "cell_type": "code",
   "execution_count": 21,
   "id": "1cf6162e",
   "metadata": {},
   "outputs": [
    {
     "name": "stdout",
     "output_type": "stream",
     "text": [
      "{3, 4}\n",
      "{3, 4, 5, 6}\n",
      "None\n"
     ]
    }
   ],
   "source": [
    "s1={1,2,3,4}\n",
    "s2={3,4,5,6}\n",
    "s3=s1.intersection_update(s2)\n",
    "print(s1)\n",
    "print(s2)\n",
    "print(s3)"
   ]
  },
  {
   "cell_type": "code",
   "execution_count": 22,
   "id": "9dbdc02b",
   "metadata": {},
   "outputs": [
    {
     "name": "stdout",
     "output_type": "stream",
     "text": [
      "['__and__', '__class__', '__class_getitem__', '__contains__', '__delattr__', '__dir__', '__doc__', '__eq__', '__format__', '__ge__', '__getattribute__', '__getstate__', '__gt__', '__hash__', '__iand__', '__init__', '__init_subclass__', '__ior__', '__isub__', '__iter__', '__ixor__', '__le__', '__len__', '__lt__', '__ne__', '__new__', '__or__', '__rand__', '__reduce__', '__reduce_ex__', '__repr__', '__ror__', '__rsub__', '__rxor__', '__setattr__', '__sizeof__', '__str__', '__sub__', '__subclasshook__', '__xor__', 'add', 'clear', 'copy', 'difference', 'difference_update', 'discard', 'intersection', 'intersection_update', 'isdisjoint', 'issubset', 'issuperset', 'pop', 'remove', 'symmetric_difference', 'symmetric_difference_update', 'union', 'update']\n"
     ]
    }
   ],
   "source": [
    "print(dir(s1))"
   ]
  },
  {
   "cell_type": "code",
   "execution_count": 23,
   "id": "555e984d",
   "metadata": {},
   "outputs": [
    {
     "name": "stdout",
     "output_type": "stream",
     "text": [
      "{1, 2, 3, 4, 5, 6}\n",
      "{3, 4, 5, 6}\n",
      "None\n"
     ]
    }
   ],
   "source": [
    "s1={1,2,3,4}\n",
    "s2={3,4,5,6}\n",
    "s3=s1.update(s2)\n",
    "print(s1)\n",
    "print(s2)\n",
    "print(s3)"
   ]
  },
  {
   "cell_type": "code",
   "execution_count": 24,
   "id": "afed2ccf",
   "metadata": {},
   "outputs": [
    {
     "name": "stdout",
     "output_type": "stream",
     "text": [
      "{1, 2, 3, 4}\n",
      "{3, 4, 5, 6}\n",
      "{1, 2, 3, 4, 5, 6}\n"
     ]
    }
   ],
   "source": [
    "s1={1,2,3,4}\n",
    "s2={3,4,5,6}\n",
    "s3=s1.union(s2)\n",
    "print(s1)\n",
    "print(s2)\n",
    "print(s3)"
   ]
  },
  {
   "cell_type": "code",
   "execution_count": 25,
   "id": "03f6d4d3",
   "metadata": {},
   "outputs": [
    {
     "name": "stdout",
     "output_type": "stream",
     "text": [
      "{3000, 2000}\n",
      "None\n"
     ]
    }
   ],
   "source": [
    "\"\"\"\n",
    "'discard','isdisjoint', 'issubset', 'issuperset', 'pop', 'remove',  \n",
    "\"\"\"\n",
    "s1={1000,2000,3000}\n",
    "s2=s1.discard(1000)\n",
    "print(s1)\n",
    "print(s2)"
   ]
  },
  {
   "cell_type": "code",
   "execution_count": 26,
   "id": "3c20f07b",
   "metadata": {},
   "outputs": [
    {
     "name": "stdout",
     "output_type": "stream",
     "text": [
      "{3000, 2000}\n",
      "None\n"
     ]
    }
   ],
   "source": [
    "\"\"\"\n",
    "'discard','isdisjoint', 'issubset', 'issuperset', 'pop', 'remove',  \n",
    "\"\"\"\n",
    "s1={1000,2000,3000}\n",
    "s2=s1.remove(1000)\n",
    "print(s1)\n",
    "print(s2)"
   ]
  },
  {
   "cell_type": "code",
   "execution_count": 27,
   "id": "f1cb4b53",
   "metadata": {},
   "outputs": [
    {
     "ename": "KeyError",
     "evalue": "4000",
     "output_type": "error",
     "traceback": [
      "\u001b[1;31m---------------------------------------------------------------------------\u001b[0m",
      "\u001b[1;31mKeyError\u001b[0m                                  Traceback (most recent call last)",
      "Cell \u001b[1;32mIn[27], line 5\u001b[0m\n\u001b[0;32m      1\u001b[0m \u001b[38;5;124;03m\"\"\"\u001b[39;00m\n\u001b[0;32m      2\u001b[0m \u001b[38;5;124;03m'discard','isdisjoint', 'issubset', 'issuperset', 'pop', 'remove',  \u001b[39;00m\n\u001b[0;32m      3\u001b[0m \u001b[38;5;124;03m\"\"\"\u001b[39;00m\n\u001b[0;32m      4\u001b[0m s1\u001b[38;5;241m=\u001b[39m{\u001b[38;5;241m1000\u001b[39m,\u001b[38;5;241m2000\u001b[39m,\u001b[38;5;241m3000\u001b[39m}\n\u001b[1;32m----> 5\u001b[0m s2\u001b[38;5;241m=\u001b[39ms1\u001b[38;5;241m.\u001b[39mremove(\u001b[38;5;241m4000\u001b[39m)\n\u001b[0;32m      6\u001b[0m \u001b[38;5;28mprint\u001b[39m(s1)\n\u001b[0;32m      7\u001b[0m \u001b[38;5;28mprint\u001b[39m(s2)\n",
      "\u001b[1;31mKeyError\u001b[0m: 4000"
     ]
    }
   ],
   "source": [
    "\"\"\"\n",
    "'discard','isdisjoint', 'issubset', 'issuperset', 'pop', 'remove',  \n",
    "\"\"\"\n",
    "s1={1000,2000,3000}\n",
    "s2=s1.remove(4000)\n",
    "print(s1)\n",
    "print(s2)"
   ]
  },
  {
   "cell_type": "code",
   "execution_count": 28,
   "id": "024fd9bd",
   "metadata": {},
   "outputs": [
    {
     "name": "stdout",
     "output_type": "stream",
     "text": [
      "{1000, 3000, 2000}\n",
      "None\n"
     ]
    }
   ],
   "source": [
    "\"\"\"\n",
    "'discard','isdisjoint', 'issubset', 'issuperset', 'pop', 'remove',  \n",
    "\"\"\"\n",
    "s1={1000,2000,3000}\n",
    "s2=s1.discard(4000)\n",
    "print(s1)\n",
    "print(s2)"
   ]
  },
  {
   "cell_type": "code",
   "execution_count": 29,
   "id": "1eeb8ddf",
   "metadata": {},
   "outputs": [
    {
     "name": "stdout",
     "output_type": "stream",
     "text": [
      "{3000, 2000}\n",
      "1000\n"
     ]
    }
   ],
   "source": [
    "\"\"\"\n",
    "isdisjoint', 'issubset', 'issuperset', 'pop',  \n",
    "\"\"\"\n",
    "s1={1000,2000,3000}\n",
    "s2=s1.pop()\n",
    "print(s1)\n",
    "print(s2)"
   ]
  },
  {
   "cell_type": "code",
   "execution_count": 30,
   "id": "60ade032",
   "metadata": {},
   "outputs": [
    {
     "name": "stdout",
     "output_type": "stream",
     "text": [
      "{3000, 4000, 2000}\n",
      "1000\n"
     ]
    }
   ],
   "source": [
    "\"\"\"\n",
    "isdisjoint', 'issubset', 'issuperset', 'pop',  \n",
    "\"\"\"\n",
    "s1={1000,2000,3000,4000}\n",
    "s2=s1.pop()\n",
    "print(s1)\n",
    "print(s2)"
   ]
  },
  {
   "cell_type": "code",
   "execution_count": 31,
   "id": "ff593db3",
   "metadata": {},
   "outputs": [
    {
     "name": "stdout",
     "output_type": "stream",
     "text": [
      "{2000, 5000, 3000, 1000}\n",
      "4000\n"
     ]
    }
   ],
   "source": [
    "\"\"\"\n",
    "isdisjoint', 'issubset', 'issuperset', 'pop',  \n",
    "\"\"\"\n",
    "s1={5000,1000,2000,3000,4000}\n",
    "s2=s1.pop()\n",
    "print(s1)\n",
    "print(s2)"
   ]
  },
  {
   "cell_type": "code",
   "execution_count": null,
   "id": "76a85b76",
   "metadata": {},
   "outputs": [],
   "source": [
    "\"\"\"\n",
    "isdisjoint', 'issubset', 'issuperset' \n",
    "\"\"\"\n",
    "s1={1,2,3,4}\n",
    "s2={3,4,5,6}\n",
    "s3=s1.issubset(s2)\n",
    "print(s1)\n",
    "print(s2)\n",
    "print(s3)"
   ]
  }
 ],
 "metadata": {
  "kernelspec": {
   "display_name": "Python 3 (ipykernel)",
   "language": "python",
   "name": "python3"
  },
  "language_info": {
   "codemirror_mode": {
    "name": "ipython",
    "version": 3
   },
   "file_extension": ".py",
   "mimetype": "text/x-python",
   "name": "python",
   "nbconvert_exporter": "python",
   "pygments_lexer": "ipython3",
   "version": "3.11.3"
  }
 },
 "nbformat": 4,
 "nbformat_minor": 5
}
