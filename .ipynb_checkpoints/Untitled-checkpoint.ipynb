{
 "cells": [
  {
   "cell_type": "code",
   "execution_count": 2,
   "id": "a7a846b0",
   "metadata": {},
   "outputs": [
    {
     "name": "stdout",
     "output_type": "stream",
     "text": [
      "[1000, 4000, 3000]\n"
     ]
    }
   ],
   "source": [
    "x=1000\n",
    "y=2000\n",
    "z=3000\n",
    "m=[x,y,z]\n",
    "def modify_list(a):\n",
    "    a[1]=4000\n",
    "def upper(f):\n",
    "    global z\n",
    "    z=6000\n",
    "    def inner(b):\n",
    "        f(b)\n",
    "    return inner\n",
    "res=upper(modify_list)\n",
    "r1=res(m)\n",
    "print(m)"
   ]
  },
  {
   "cell_type": "code",
   "execution_count": null,
   "id": "f120c419",
   "metadata": {},
   "outputs": [],
   "source": []
  }
 ],
 "metadata": {
  "kernelspec": {
   "display_name": "Python 3 (ipykernel)",
   "language": "python",
   "name": "python3"
  },
  "language_info": {
   "codemirror_mode": {
    "name": "ipython",
    "version": 3
   },
   "file_extension": ".py",
   "mimetype": "text/x-python",
   "name": "python",
   "nbconvert_exporter": "python",
   "pygments_lexer": "ipython3",
   "version": "3.11.3"
  }
 },
 "nbformat": 4,
 "nbformat_minor": 5
}
