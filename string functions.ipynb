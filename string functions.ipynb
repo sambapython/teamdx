{
 "cells": [
  {
   "cell_type": "code",
   "execution_count": 1,
   "id": "c822e25c",
   "metadata": {},
   "outputs": [
    {
     "name": "stdout",
     "output_type": "stream",
     "text": [
      "Hyderabad is a clean city\n"
     ]
    }
   ],
   "source": [
    "s=\"hyderabad is a clean CITY\"\n",
    "print(s.capitalize())"
   ]
  },
  {
   "cell_type": "code",
   "execution_count": 2,
   "id": "2a02489a",
   "metadata": {},
   "outputs": [],
   "source": [
    "#casefold, lower, \n",
    "#maktrans, translate\n",
    "#ispritable, isidentifier\n",
    "#ljust\n",
    "#isdecimal, isdigit, isnumeric\n",
    "#encode\n",
    "#partition, split\n"
   ]
  },
  {
   "cell_type": "code",
   "execution_count": 4,
   "id": "b8371cea",
   "metadata": {},
   "outputs": [
    {
     "name": "stdout",
     "output_type": "stream",
     "text": [
      "HYDERABAD IS A CLEAN CITY\n",
      "hyderabad is a clean city\n",
      "hyderabad is a clean city\n",
      "HYDERABAD IS A CLEAN city\n",
      "hyderabad is a clean CITY\n"
     ]
    }
   ],
   "source": [
    "s=\"hyderabad is a clean CITY\"\n",
    "print(s.upper())\n",
    "print(s.lower())\n",
    "print(s.casefold())\n",
    "print(s.swapcase())\n",
    "print(s)"
   ]
  },
  {
   "cell_type": "code",
   "execution_count": 5,
   "id": "823fb04d",
   "metadata": {},
   "outputs": [
    {
     "name": "stdout",
     "output_type": "stream",
     "text": [
      "python 2026923305328\n",
      "PYTHON 2026977184240\n"
     ]
    }
   ],
   "source": [
    "s=\"python\"\n",
    "s1=s.upper()\n",
    "print(s, id(s))\n",
    "print(s1, id(s1))"
   ]
  },
  {
   "cell_type": "code",
   "execution_count": 6,
   "id": "a99b61f7",
   "metadata": {},
   "outputs": [
    {
     "name": "stdout",
     "output_type": "stream",
     "text": [
      "Enter string:python\n",
      "Enter string:java\n",
      "NOT EQUAL\n"
     ]
    }
   ],
   "source": [
    "s=input(\"Enter string:\")\n",
    "s1=input(\"Enter string:\")\n",
    "if s==s1:\n",
    "    print(\"EQUAL\")\n",
    "else:\n",
    "    print(\"NOT EQUAL\")"
   ]
  },
  {
   "cell_type": "code",
   "execution_count": 7,
   "id": "d6ef9dd1",
   "metadata": {},
   "outputs": [
    {
     "name": "stdout",
     "output_type": "stream",
     "text": [
      "Enter string:python\n",
      "Enter string:PYThon\n",
      "NOT EQUAL\n"
     ]
    }
   ],
   "source": [
    "s=input(\"Enter string:\")\n",
    "s1=input(\"Enter string:\")\n",
    "if s==s1:\n",
    "    print(\"EQUAL\")\n",
    "else:\n",
    "    print(\"NOT EQUAL\")"
   ]
  },
  {
   "cell_type": "code",
   "execution_count": 8,
   "id": "5a924e5f",
   "metadata": {},
   "outputs": [
    {
     "name": "stdout",
     "output_type": "stream",
     "text": [
      "Enter string:python\n",
      "Enter string:java\n",
      "NOT EQUAL\n"
     ]
    }
   ],
   "source": [
    "s=input(\"Enter string:\")\n",
    "s1=input(\"Enter string:\")\n",
    "if s.lower()==s1.lower():\n",
    "    print(\"EQUAL\")\n",
    "else:\n",
    "    print(\"NOT EQUAL\")"
   ]
  },
  {
   "cell_type": "code",
   "execution_count": 9,
   "id": "2f34688e",
   "metadata": {},
   "outputs": [
    {
     "name": "stdout",
     "output_type": "stream",
     "text": [
      "Enter string:PYTHOn\n",
      "Enter string:python\n",
      "EQUAL\n"
     ]
    }
   ],
   "source": [
    "s=input(\"Enter string:\")\n",
    "s1=input(\"Enter string:\")\n",
    "if s.lower()==s1.lower():\n",
    "    print(\"EQUAL\")\n",
    "else:\n",
    "    print(\"NOT EQUAL\")"
   ]
  },
  {
   "cell_type": "code",
   "execution_count": 10,
   "id": "859f56f7",
   "metadata": {},
   "outputs": [
    {
     "name": "stdout",
     "output_type": "stream",
     "text": [
      "Enter string:pyt\n",
      "Enter string:PYT\n",
      "EQUAL\n"
     ]
    }
   ],
   "source": [
    "s=input(\"Enter string:\")\n",
    "s1=input(\"Enter string:\")\n",
    "if s.upper()==s1.upper():\n",
    "    print(\"EQUAL\")\n",
    "else:\n",
    "    print(\"NOT EQUAL\")"
   ]
  },
  {
   "cell_type": "code",
   "execution_count": 11,
   "id": "0d3c91be",
   "metadata": {},
   "outputs": [
    {
     "name": "stdout",
     "output_type": "stream",
     "text": [
      "Enter string:pyt\n",
      "Enter string:PYT\n",
      "EQUAL\n"
     ]
    }
   ],
   "source": [
    "s=input(\"Enter string:\")\n",
    "s1=input(\"Enter string:\")\n",
    "if s.casefold()==s1.casefold():\n",
    "    print(\"EQUAL\")\n",
    "else:\n",
    "    print(\"NOT EQUAL\")"
   ]
  },
  {
   "cell_type": "code",
   "execution_count": 12,
   "id": "ce68f127",
   "metadata": {},
   "outputs": [
    {
     "ename": "TypeError",
     "evalue": "str.upper() takes no arguments (1 given)",
     "output_type": "error",
     "traceback": [
      "\u001b[1;31m---------------------------------------------------------------------------\u001b[0m",
      "\u001b[1;31mTypeError\u001b[0m                                 Traceback (most recent call last)",
      "Cell \u001b[1;32mIn[12], line 3\u001b[0m\n\u001b[0;32m      1\u001b[0m s\u001b[38;5;241m=\u001b[39m\u001b[38;5;124m\"\u001b[39m\u001b[38;5;124mabcdabcdefghiabcdjklabdfgh\u001b[39m\u001b[38;5;124m\"\u001b[39m\n\u001b[0;32m      2\u001b[0m \u001b[38;5;66;03m#ABCdABCdefghiABCdjklabdfgh\u001b[39;00m\n\u001b[1;32m----> 3\u001b[0m s\u001b[38;5;241m.\u001b[39mupper(\u001b[38;5;124m\"\u001b[39m\u001b[38;5;124mabc\u001b[39m\u001b[38;5;124m\"\u001b[39m)\n",
      "\u001b[1;31mTypeError\u001b[0m: str.upper() takes no arguments (1 given)"
     ]
    }
   ],
   "source": [
    "s=\"abcdabcdefghiabcdjklabdfgh\"\n",
    "#ABCdABCdefghiABCdjklabdfgh\n",
    "s.upper(\"abc\")"
   ]
  },
  {
   "cell_type": "code",
   "execution_count": 13,
   "id": "fe43a239",
   "metadata": {},
   "outputs": [
    {
     "data": {
      "text/plain": [
       "{97: 65, 98: 66, 99: 67}"
      ]
     },
     "execution_count": 13,
     "metadata": {},
     "output_type": "execute_result"
    }
   ],
   "source": [
    "s=\"abcdabcdefghiabcdjklabdfgh\"\n",
    "#ABCdABCdefghiABCdjklabdfgh\n",
    "s.maketrans(\"abc\",\"ABC\")"
   ]
  },
  {
   "cell_type": "code",
   "execution_count": 14,
   "id": "9069d413",
   "metadata": {},
   "outputs": [
    {
     "data": {
      "text/plain": [
       "'ABCdABCdefghiABCdjklabdfgh'"
      ]
     },
     "execution_count": 14,
     "metadata": {},
     "output_type": "execute_result"
    }
   ],
   "source": [
    "s=\"abcdabcdefghiabcdjklabdfgh\"\n",
    "#ABCdABCdefghiABCdjklabdfgh\n",
    "s.replace(\"abc\",\"ABC\")"
   ]
  },
  {
   "cell_type": "code",
   "execution_count": 15,
   "id": "826e08e9",
   "metadata": {},
   "outputs": [
    {
     "ename": "AttributeError",
     "evalue": "'str' object has no attribute 'remove'",
     "output_type": "error",
     "traceback": [
      "\u001b[1;31m---------------------------------------------------------------------------\u001b[0m",
      "\u001b[1;31mAttributeError\u001b[0m                            Traceback (most recent call last)",
      "Cell \u001b[1;32mIn[15], line 3\u001b[0m\n\u001b[0;32m      1\u001b[0m s\u001b[38;5;241m=\u001b[39m\u001b[38;5;124m\"\u001b[39m\u001b[38;5;124mabcdabcdefghiabcdjklabdfgh\u001b[39m\u001b[38;5;124m\"\u001b[39m\n\u001b[0;32m      2\u001b[0m \u001b[38;5;66;03m#ddefghidjklabdfgh\u001b[39;00m\n\u001b[1;32m----> 3\u001b[0m s\u001b[38;5;241m.\u001b[39mremove(\u001b[38;5;124m\"\u001b[39m\u001b[38;5;124mabc\u001b[39m\u001b[38;5;124m\"\u001b[39m)\n",
      "\u001b[1;31mAttributeError\u001b[0m: 'str' object has no attribute 'remove'"
     ]
    }
   ],
   "source": [
    "s=\"abcdabcdefghiabcdjklabdfgh\"\n",
    "#ddefghidjklabdfgh\n",
    "s.remove(\"abc\")\n"
   ]
  },
  {
   "cell_type": "code",
   "execution_count": 16,
   "id": "08c84d8d",
   "metadata": {},
   "outputs": [
    {
     "data": {
      "text/plain": [
       "'abcdabcdefghiabcdjklabdfgh'"
      ]
     },
     "execution_count": 16,
     "metadata": {},
     "output_type": "execute_result"
    }
   ],
   "source": [
    "s=\"abcdabcdefghiabcdjklabdfgh\"\n",
    "#ddefghidjklabdfgh\n",
    "s.removesuffix(\"abc\")\n"
   ]
  },
  {
   "cell_type": "code",
   "execution_count": 17,
   "id": "1ab0a969",
   "metadata": {},
   "outputs": [
    {
     "data": {
      "text/plain": [
       "'dabcdefghiabcdjklabdfgh'"
      ]
     },
     "execution_count": 17,
     "metadata": {},
     "output_type": "execute_result"
    }
   ],
   "source": [
    "s=\"abcdabcdefghiabcdjklabdfgh\"\n",
    "#ddefghidjklabdfgh\n",
    "s.removeprefix(\"abc\")\n"
   ]
  },
  {
   "cell_type": "code",
   "execution_count": 18,
   "id": "0b296652",
   "metadata": {},
   "outputs": [
    {
     "ename": "ValueError",
     "evalue": "the first two maketrans arguments must have equal length",
     "output_type": "error",
     "traceback": [
      "\u001b[1;31m---------------------------------------------------------------------------\u001b[0m",
      "\u001b[1;31mValueError\u001b[0m                                Traceback (most recent call last)",
      "Cell \u001b[1;32mIn[18], line 3\u001b[0m\n\u001b[0;32m      1\u001b[0m s\u001b[38;5;241m=\u001b[39m\u001b[38;5;124m\"\u001b[39m\u001b[38;5;124mabcdabcdefghiabcdjklabdfgh\u001b[39m\u001b[38;5;124m\"\u001b[39m\n\u001b[0;32m      2\u001b[0m \u001b[38;5;66;03m#ddefghidjklabdfgh\u001b[39;00m\n\u001b[1;32m----> 3\u001b[0m s\u001b[38;5;241m.\u001b[39mmaketrans(\u001b[38;5;124m\"\u001b[39m\u001b[38;5;124mabc\u001b[39m\u001b[38;5;124m\"\u001b[39m,\u001b[38;5;124m\"\u001b[39m\u001b[38;5;124m \u001b[39m\u001b[38;5;124m\"\u001b[39m)\n",
      "\u001b[1;31mValueError\u001b[0m: the first two maketrans arguments must have equal length"
     ]
    }
   ],
   "source": [
    "s=\"abcdabcdefghiabcdjklabdfgh\"\n",
    "#ddefghidjklabdfgh\n",
    "s.maketrans(\"abc\",\" \")\n"
   ]
  },
  {
   "cell_type": "code",
   "execution_count": 19,
   "id": "2aa52585",
   "metadata": {},
   "outputs": [
    {
     "data": {
      "text/plain": [
       "'ddefghidjklabdfgh'"
      ]
     },
     "execution_count": 19,
     "metadata": {},
     "output_type": "execute_result"
    }
   ],
   "source": [
    "s=\"abcdabcdefghiabcdjklabdfgh\"\n",
    "#ABCdABCdefghiABCdjklabdfgh\n",
    "s.replace(\"abc\",\"\")"
   ]
  },
  {
   "cell_type": "code",
   "execution_count": 20,
   "id": "191054b1",
   "metadata": {},
   "outputs": [
    {
     "ename": "TypeError",
     "evalue": "replace() argument 2 must be str, not None",
     "output_type": "error",
     "traceback": [
      "\u001b[1;31m---------------------------------------------------------------------------\u001b[0m",
      "\u001b[1;31mTypeError\u001b[0m                                 Traceback (most recent call last)",
      "Cell \u001b[1;32mIn[20], line 3\u001b[0m\n\u001b[0;32m      1\u001b[0m s\u001b[38;5;241m=\u001b[39m\u001b[38;5;124m\"\u001b[39m\u001b[38;5;124mabcdabcdefghiabcdjklabdfgh\u001b[39m\u001b[38;5;124m\"\u001b[39m\n\u001b[0;32m      2\u001b[0m \u001b[38;5;66;03m#ABCdABCdefghiABCdjklabdfgh\u001b[39;00m\n\u001b[1;32m----> 3\u001b[0m s\u001b[38;5;241m.\u001b[39mreplace(\u001b[38;5;124m\"\u001b[39m\u001b[38;5;124mabc\u001b[39m\u001b[38;5;124m\"\u001b[39m,\u001b[38;5;28;01mNone\u001b[39;00m)\n",
      "\u001b[1;31mTypeError\u001b[0m: replace() argument 2 must be str, not None"
     ]
    }
   ],
   "source": [
    "s=\"abcdabcdefghiabcdjklabdfgh\"\n",
    "#ABCdABCdefghiABCdjklabdfgh\n",
    "s.replace(\"abc\",None)"
   ]
  },
  {
   "cell_type": "code",
   "execution_count": 21,
   "id": "962f3fd3",
   "metadata": {},
   "outputs": [
    {
     "data": {
      "text/plain": [
       "'abcdabcdefghiabcdjkl#$%fgh'"
      ]
     },
     "execution_count": 21,
     "metadata": {},
     "output_type": "execute_result"
    }
   ],
   "source": [
    "s=\"abcdabcdefghiabcdjklabdfgh\"\n",
    "#a->#,b->$,d->%\n",
    "s.replace(\"abd\",\"#$%\")\n"
   ]
  },
  {
   "cell_type": "code",
   "execution_count": 22,
   "id": "27253a93",
   "metadata": {},
   "outputs": [
    {
     "name": "stdout",
     "output_type": "stream",
     "text": [
      "abcdabcdefghiabcdjklabdfgh\n"
     ]
    }
   ],
   "source": [
    "s=\"abcdabcdefghiabcdjklabdfgh\"\n",
    "#a->#,b->$,d->%\n",
    "s.replace(\"a\",\"#\")\n",
    "s.replace(\"b\", \"$\")\n",
    "s.replace(\"c\", \"%\")\n",
    "print(s)"
   ]
  },
  {
   "cell_type": "code",
   "execution_count": 24,
   "id": "5c9623a3",
   "metadata": {},
   "outputs": [
    {
     "name": "stdout",
     "output_type": "stream",
     "text": [
      "#$c%#$c%efghi#$c%jkl#$%fgh\n"
     ]
    }
   ],
   "source": [
    "s=\"abcdabcdefghiabcdjklabdfgh\"\n",
    "#a->#,b->$,d->%\n",
    "r1=s.replace(\"a\",\"#\")\n",
    "r2=r1.replace(\"b\", \"$\")\n",
    "r3=r2.replace(\"d\", \"%\")\n",
    "print(r3)"
   ]
  },
  {
   "cell_type": "code",
   "execution_count": 25,
   "id": "cbb940d4",
   "metadata": {},
   "outputs": [
    {
     "name": "stdout",
     "output_type": "stream",
     "text": [
      "a\n",
      "b\n",
      "c\n",
      "d\n",
      "a\n",
      "b\n",
      "c\n",
      "d\n",
      "e\n",
      "f\n",
      "g\n",
      "h\n",
      "i\n",
      "a\n",
      "b\n",
      "c\n",
      "d\n",
      "j\n",
      "k\n",
      "l\n",
      "a\n",
      "b\n",
      "d\n",
      "f\n",
      "g\n",
      "h\n"
     ]
    }
   ],
   "source": [
    "s=\"abcdabcdefghiabcdjklabdfgh\"\n",
    "for i in s:\n",
    "    print(i)"
   ]
  },
  {
   "cell_type": "code",
   "execution_count": 26,
   "id": "4ba1e202",
   "metadata": {},
   "outputs": [
    {
     "name": "stdout",
     "output_type": "stream",
     "text": [
      "a 0\n",
      "b 1\n",
      "c 2\n",
      "d 3\n",
      "a 4\n",
      "b 5\n",
      "c 6\n",
      "d 7\n",
      "e 8\n",
      "f 9\n",
      "g 10\n",
      "h 11\n",
      "i 12\n",
      "a 13\n",
      "b 14\n",
      "c 15\n",
      "d 16\n",
      "j 17\n",
      "k 18\n",
      "l 19\n",
      "a 20\n",
      "b 21\n",
      "d 22\n",
      "f 23\n",
      "g 24\n",
      "h 25\n"
     ]
    }
   ],
   "source": [
    "index=0\n",
    "s=\"abcdabcdefghiabcdjklabdfgh\"\n",
    "for i in s:\n",
    "    print(i, index)\n",
    "    index = index+1\n",
    "    "
   ]
  },
  {
   "cell_type": "code",
   "execution_count": 30,
   "id": "1e51ed02",
   "metadata": {},
   "outputs": [
    {
     "name": "stdout",
     "output_type": "stream",
     "text": [
      "(0, 'a')\n",
      "hello\n",
      "(1, 'b')\n",
      "hello\n",
      "(2, 'c')\n",
      "hello\n",
      "(3, 'd')\n",
      "hello\n"
     ]
    }
   ],
   "source": [
    "s=\"abcd\"\n",
    "for i in enumerate(s):#i=(0,'a'), i=(1,'b')\n",
    "    print(i)\n",
    "    print(\"hello\")\n",
    "    "
   ]
  },
  {
   "cell_type": "code",
   "execution_count": null,
   "id": "defe787f",
   "metadata": {},
   "outputs": [],
   "source": [
    "s=\"abd\"\n",
    "s1=\"#$%\"\n",
    "for i in enumerate(s):#i=(0,'a'), i=(1,'b')\n",
    "    print(i)\n",
    "    print(\"hello\")\n",
    "    "
   ]
  },
  {
   "cell_type": "code",
   "execution_count": 31,
   "id": "d050a65e",
   "metadata": {},
   "outputs": [
    {
     "name": "stdout",
     "output_type": "stream",
     "text": [
      "1 2\n"
     ]
    }
   ],
   "source": [
    "#tuple unpack\n",
    "a,b=(1,2)\n",
    "print(a,b)"
   ]
  },
  {
   "cell_type": "code",
   "execution_count": 32,
   "id": "e1a09be3",
   "metadata": {},
   "outputs": [
    {
     "ename": "ValueError",
     "evalue": "too many values to unpack (expected 2)",
     "output_type": "error",
     "traceback": [
      "\u001b[1;31m---------------------------------------------------------------------------\u001b[0m",
      "\u001b[1;31mValueError\u001b[0m                                Traceback (most recent call last)",
      "Cell \u001b[1;32mIn[32], line 2\u001b[0m\n\u001b[0;32m      1\u001b[0m \u001b[38;5;66;03m#tuple unpack\u001b[39;00m\n\u001b[1;32m----> 2\u001b[0m a,b\u001b[38;5;241m=\u001b[39m(\u001b[38;5;241m1\u001b[39m,\u001b[38;5;241m2\u001b[39m,\u001b[38;5;241m3\u001b[39m)\n\u001b[0;32m      3\u001b[0m \u001b[38;5;28mprint\u001b[39m(a,b)\n",
      "\u001b[1;31mValueError\u001b[0m: too many values to unpack (expected 2)"
     ]
    }
   ],
   "source": [
    "#tuple unpack\n",
    "a,b=(1,2,3)\n",
    "print(a,b)"
   ]
  },
  {
   "cell_type": "code",
   "execution_count": 33,
   "id": "16aaa3c9",
   "metadata": {},
   "outputs": [
    {
     "name": "stdout",
     "output_type": "stream",
     "text": [
      "1 2 3\n"
     ]
    }
   ],
   "source": [
    "#tuple unpack\n",
    "a,b,c=(1,2,3)\n",
    "print(a,b,c)"
   ]
  },
  {
   "cell_type": "code",
   "execution_count": 34,
   "id": "ef07bb29",
   "metadata": {},
   "outputs": [
    {
     "ename": "ValueError",
     "evalue": "too many values to unpack (expected 3)",
     "output_type": "error",
     "traceback": [
      "\u001b[1;31m---------------------------------------------------------------------------\u001b[0m",
      "\u001b[1;31mValueError\u001b[0m                                Traceback (most recent call last)",
      "Cell \u001b[1;32mIn[34], line 2\u001b[0m\n\u001b[0;32m      1\u001b[0m \u001b[38;5;66;03m#tuple unpack\u001b[39;00m\n\u001b[1;32m----> 2\u001b[0m a,b,c\u001b[38;5;241m=\u001b[39m(\u001b[38;5;241m1\u001b[39m,\u001b[38;5;241m2\u001b[39m,\u001b[38;5;241m3\u001b[39m,\u001b[38;5;241m4\u001b[39m,\u001b[38;5;241m5\u001b[39m,\u001b[38;5;241m6\u001b[39m,\u001b[38;5;241m7\u001b[39m,\u001b[38;5;241m8\u001b[39m)\n\u001b[0;32m      3\u001b[0m \u001b[38;5;28mprint\u001b[39m(a,b,c)\n",
      "\u001b[1;31mValueError\u001b[0m: too many values to unpack (expected 3)"
     ]
    }
   ],
   "source": [
    "#tuple unpack\n",
    "a,b,c=(1,2,3,4,5,6,7,8)\n",
    "print(a,b,c)"
   ]
  },
  {
   "cell_type": "code",
   "execution_count": 35,
   "id": "b04acc9a",
   "metadata": {},
   "outputs": [
    {
     "name": "stdout",
     "output_type": "stream",
     "text": [
      "1 2 3 [4, 5, 6, 7, 8]\n"
     ]
    }
   ],
   "source": [
    "#tuple unpack\n",
    "a,b,c,*d=(1,2,3,4,5,6,7,8)\n",
    "print(a,b,c,d)"
   ]
  },
  {
   "cell_type": "code",
   "execution_count": 36,
   "id": "d532cddf",
   "metadata": {},
   "outputs": [
    {
     "name": "stdout",
     "output_type": "stream",
     "text": [
      "0 a\n",
      "1 b\n",
      "2 d\n"
     ]
    }
   ],
   "source": [
    "s=\"abd\"\n",
    "s1=\"#$%\"\n",
    "for index,value in enumerate(s):#i=(0,'a'), i=(1,'b')\n",
    "    print(index, value)\n",
    "    "
   ]
  },
  {
   "cell_type": "code",
   "execution_count": 37,
   "id": "daa472b4",
   "metadata": {},
   "outputs": [
    {
     "name": "stdout",
     "output_type": "stream",
     "text": [
      "0 a #\n",
      "1 b $\n",
      "2 d %\n"
     ]
    }
   ],
   "source": [
    "s=\"abd\"\n",
    "s1=\"#$%\"\n",
    "for index,value in enumerate(s):#i=(0,'a'), i=(1,'b'), i=(2, 'd')\n",
    "    print(index, value, s1[index])\n",
    "    "
   ]
  },
  {
   "cell_type": "code",
   "execution_count": 38,
   "id": "4fe1ec89",
   "metadata": {},
   "outputs": [
    {
     "name": "stdout",
     "output_type": "stream",
     "text": [
      "abcdabcdefghiabcdjklabdfgh\n"
     ]
    }
   ],
   "source": [
    "actual=\"abcdabcdefghiabcdjklabdfgh\"\n",
    "s=\"abd\"\n",
    "s1=\"#$%\"\n",
    "for index,value in enumerate(s):#i=(0,'a'), i=(1,'b'), i=(2, 'd')\n",
    "   actual.replace(value,s1[index])\n",
    "print(actual)    "
   ]
  },
  {
   "cell_type": "code",
   "execution_count": 39,
   "id": "f1759f0e",
   "metadata": {},
   "outputs": [
    {
     "name": "stdout",
     "output_type": "stream",
     "text": [
      "#$c%#$c%efghi#$c%jkl#$%fgh\n"
     ]
    }
   ],
   "source": [
    "actual=\"abcdef\"\n",
    "s=\"abd\"\n",
    "s1=\"#$%\"\n",
    "for index,value in enumerate(s):#i=(0,'a'), i=(1,'b'), i=(2, 'd')\n",
    "    actual=actual.replace(value,s1[index])\n",
    "print(actual)    "
   ]
  },
  {
   "cell_type": "code",
   "execution_count": null,
   "id": "2c4d7776",
   "metadata": {},
   "outputs": [],
   "source": [
    "actual=\"abcdef\"\n",
    "s=\"abd\"\n",
    "s1=\"#$%\"\n",
    "actual.maketrans({97:35})"
   ]
  },
  {
   "cell_type": "code",
   "execution_count": 40,
   "id": "b0d6419c",
   "metadata": {},
   "outputs": [
    {
     "data": {
      "text/plain": [
       "97"
      ]
     },
     "execution_count": 40,
     "metadata": {},
     "output_type": "execute_result"
    }
   ],
   "source": [
    "ord(\"a\")"
   ]
  },
  {
   "cell_type": "code",
   "execution_count": 41,
   "id": "adfff829",
   "metadata": {},
   "outputs": [
    {
     "data": {
      "text/plain": [
       "35"
      ]
     },
     "execution_count": 41,
     "metadata": {},
     "output_type": "execute_result"
    }
   ],
   "source": [
    "ord(\"#\")"
   ]
  },
  {
   "cell_type": "code",
   "execution_count": 45,
   "id": "0062c6fa",
   "metadata": {},
   "outputs": [
    {
     "name": "stdout",
     "output_type": "stream",
     "text": [
      "#bcdef\n"
     ]
    }
   ],
   "source": [
    "actual=\"abcdef\"\n",
    "s=\"abd\"\n",
    "s1=\"#$%\"\n",
    "res=actual.translate({ord('a'):ord(\"#\")})\n",
    "print(res)\n"
   ]
  },
  {
   "cell_type": "code",
   "execution_count": 46,
   "id": "5257bf51",
   "metadata": {},
   "outputs": [
    {
     "name": "stdout",
     "output_type": "stream",
     "text": [
      "#$cdef\n"
     ]
    }
   ],
   "source": [
    "actual=\"abcdef\"\n",
    "s=\"abd\"\n",
    "s1=\"#$%\"\n",
    "res=actual.translate({ord('a'):ord(\"#\"),ord(\"b\"):ord(\"$\")})\n",
    "print(res)\n"
   ]
  },
  {
   "cell_type": "code",
   "execution_count": 47,
   "id": "76c48b92",
   "metadata": {},
   "outputs": [
    {
     "name": "stdout",
     "output_type": "stream",
     "text": [
      "#$cdef$#dfgh$dfg#\n"
     ]
    }
   ],
   "source": [
    "actual=\"abcdefbadfghbdfga\"\n",
    "s=\"abd\"\n",
    "s1=\"#$%\"\n",
    "res=actual.translate({ord('a'):ord(\"#\"),ord(\"b\"):ord(\"$\")})\n",
    "print(res)\n"
   ]
  },
  {
   "cell_type": "code",
   "execution_count": 48,
   "id": "527bb9d3",
   "metadata": {},
   "outputs": [
    {
     "name": "stdout",
     "output_type": "stream",
     "text": [
      "#$c%ef$#%fgh$%fg#\n"
     ]
    }
   ],
   "source": [
    "actual=\"abcdefbadfghbdfga\"\n",
    "s=\"abd\"\n",
    "s1=\"#$%\"\n",
    "res=actual.translate({ord('a'):ord(\"#\"),ord(\"b\"):ord(\"$\"),ord('d'):ord(\"%\")})\n",
    "print(res)\n"
   ]
  },
  {
   "cell_type": "code",
   "execution_count": 49,
   "id": "07fe73e5",
   "metadata": {},
   "outputs": [
    {
     "data": {
      "text/plain": [
       "{97: 35, 98: 36, 100: 37}"
      ]
     },
     "execution_count": 49,
     "metadata": {},
     "output_type": "execute_result"
    }
   ],
   "source": [
    "\"\".maketrans(\"abd\",\"#$%\")"
   ]
  },
  {
   "cell_type": "code",
   "execution_count": 50,
   "id": "24004e31",
   "metadata": {},
   "outputs": [
    {
     "name": "stdout",
     "output_type": "stream",
     "text": [
      "{97: 35, 98: 36, 100: 37}\n"
     ]
    }
   ],
   "source": [
    "print({ord('a'):ord(\"#\"),ord(\"b\"):ord(\"$\"),ord('d'):ord(\"%\")})"
   ]
  },
  {
   "cell_type": "code",
   "execution_count": 51,
   "id": "6fb47982",
   "metadata": {},
   "outputs": [
    {
     "name": "stdout",
     "output_type": "stream",
     "text": [
      "#$c%ef$#%fgh$%fg#\n"
     ]
    }
   ],
   "source": [
    "actual=\"abcdefbadfghbdfga\"\n",
    "s=\"abd\"\n",
    "s1=\"#$%\"\n",
    "res=actual.translate(\"\".maketrans(\"abd\",\"#$%\"))\n",
    "print(res)\n"
   ]
  },
  {
   "cell_type": "code",
   "execution_count": 52,
   "id": "a3163acc",
   "metadata": {},
   "outputs": [
    {
     "name": "stdout",
     "output_type": "stream",
     "text": [
      "['__add__', '__class__', '__contains__', '__delattr__', '__dir__', '__doc__', '__eq__', '__format__', '__ge__', '__getattribute__', '__getitem__', '__getnewargs__', '__getstate__', '__gt__', '__hash__', '__init__', '__init_subclass__', '__iter__', '__le__', '__len__', '__lt__', '__mod__', '__mul__', '__ne__', '__new__', '__reduce__', '__reduce_ex__', '__repr__', '__rmod__', '__rmul__', '__setattr__', '__sizeof__', '__str__', '__subclasshook__', 'capitalize', 'casefold', 'center', 'count', 'encode', 'endswith', 'expandtabs', 'find', 'format', 'format_map', 'index', 'isalnum', 'isalpha', 'isascii', 'isdecimal', 'isdigit', 'isidentifier', 'islower', 'isnumeric', 'isprintable', 'isspace', 'istitle', 'isupper', 'join', 'ljust', 'lower', 'lstrip', 'maketrans', 'partition', 'removeprefix', 'removesuffix', 'replace', 'rfind', 'rindex', 'rjust', 'rpartition', 'rsplit', 'rstrip', 'split', 'splitlines', 'startswith', 'strip', 'swapcase', 'title', 'translate', 'upper', 'zfill']\n"
     ]
    }
   ],
   "source": [
    "print(dir(s))"
   ]
  },
  {
   "cell_type": "code",
   "execution_count": 53,
   "id": "c1bd32e5",
   "metadata": {},
   "outputs": [
    {
     "name": "stdout",
     "output_type": "stream",
     "text": [
      "True\n"
     ]
    }
   ],
   "source": [
    "\"\"\"\n",
    "'isalnum', 'isalpha', 'isascii', 'isdecimal', 'isdigit', 'isidentifier', 'islower', 'isnumeric', 'isprintable', 'isspace', \n",
    "'istitle', 'isupper'\n",
    "\"\"\"\n",
    "s=\"abcd\"\n",
    "print(s.isalnum())#True"
   ]
  },
  {
   "cell_type": "code",
   "execution_count": 54,
   "id": "5b99e070",
   "metadata": {},
   "outputs": [
    {
     "name": "stdout",
     "output_type": "stream",
     "text": [
      "True\n"
     ]
    }
   ],
   "source": [
    "\"\"\"\n",
    "'isalnum', 'isalpha', 'isascii', 'isdecimal', 'isdigit', 'isidentifier', 'islower', 'isnumeric', 'isprintable', 'isspace', \n",
    "'istitle', 'isupper'\n",
    "\"\"\"\n",
    "s=\"abcd1234\"\n",
    "print(s.isalnum())#True"
   ]
  },
  {
   "cell_type": "code",
   "execution_count": 55,
   "id": "e3918751",
   "metadata": {},
   "outputs": [
    {
     "name": "stdout",
     "output_type": "stream",
     "text": [
      "False\n"
     ]
    }
   ],
   "source": [
    "\"\"\"\n",
    "'isalnum', 'isalpha', 'isascii', 'isdecimal', 'isdigit', 'isidentifier', 'islower', 'isnumeric', 'isprintable', 'isspace', \n",
    "'istitle', 'isupper'\n",
    "\"\"\"\n",
    "s=\"abcd1234#\"\n",
    "print(s.isalnum())"
   ]
  },
  {
   "cell_type": "code",
   "execution_count": 56,
   "id": "89bb345f",
   "metadata": {},
   "outputs": [
    {
     "name": "stdout",
     "output_type": "stream",
     "text": [
      "False\n"
     ]
    }
   ],
   "source": [
    "\"\"\"\n",
    "'isalnum', 'isalpha', 'isascii', 'isdecimal', 'isdigit', 'isidentifier', 'islower', 'isnumeric', 'isprintable', 'isspace', \n",
    "'istitle', 'isupper'\n",
    "\"\"\"\n",
    "s=\"#$%\"\n",
    "print(s.isalnum())"
   ]
  },
  {
   "cell_type": "code",
   "execution_count": 57,
   "id": "4d1e7591",
   "metadata": {},
   "outputs": [
    {
     "name": "stdout",
     "output_type": "stream",
     "text": [
      "False\n"
     ]
    }
   ],
   "source": [
    "\"\"\"\n",
    "'isalnum', 'isalpha', 'isascii', 'isdecimal', 'isdigit', 'isidentifier', 'islower', 'isnumeric', 'isprintable', 'isspace', \n",
    "'istitle', 'isupper'\n",
    "\"\"\"\n",
    "s=\"\"\n",
    "print(s.isalnum())"
   ]
  },
  {
   "cell_type": "code",
   "execution_count": 58,
   "id": "3be8702d",
   "metadata": {},
   "outputs": [],
   "source": [
    "s.isalnum?"
   ]
  },
  {
   "cell_type": "code",
   "execution_count": 59,
   "id": "f5b608e3",
   "metadata": {},
   "outputs": [
    {
     "name": "stdout",
     "output_type": "stream",
     "text": [
      "False\n",
      "False\n"
     ]
    }
   ],
   "source": [
    "s=\"abcD\"\n",
    "print(s.islower())\n",
    "print(s.isupper())"
   ]
  },
  {
   "cell_type": "code",
   "execution_count": 60,
   "id": "5cd08cfe",
   "metadata": {},
   "outputs": [
    {
     "name": "stdout",
     "output_type": "stream",
     "text": [
      "False\n",
      "False\n"
     ]
    }
   ],
   "source": [
    "s=\"\"\n",
    "print(s.islower())\n",
    "print(s.isupper())"
   ]
  },
  {
   "cell_type": "code",
   "execution_count": 61,
   "id": "4c2cf107",
   "metadata": {},
   "outputs": [
    {
     "name": "stdout",
     "output_type": "stream",
     "text": [
      "False\n",
      "True\n"
     ]
    }
   ],
   "source": [
    "s=\"ABCD\"\n",
    "print(s.islower())\n",
    "print(s.isupper())"
   ]
  },
  {
   "cell_type": "code",
   "execution_count": 62,
   "id": "e5dfcd21",
   "metadata": {},
   "outputs": [
    {
     "name": "stdout",
     "output_type": "stream",
     "text": [
      "True\n",
      "False\n"
     ]
    }
   ],
   "source": [
    "s=\"abcd\"\n",
    "print(s.islower())\n",
    "print(s.isupper())"
   ]
  },
  {
   "cell_type": "code",
   "execution_count": 63,
   "id": "e6a72e8f",
   "metadata": {},
   "outputs": [
    {
     "name": "stdout",
     "output_type": "stream",
     "text": [
      "True\n",
      "False\n"
     ]
    }
   ],
   "source": [
    "s=\"abcd#\"\n",
    "print(s.islower())\n",
    "print(s.isupper())"
   ]
  },
  {
   "cell_type": "code",
   "execution_count": 64,
   "id": "da0296da",
   "metadata": {},
   "outputs": [
    {
     "name": "stdout",
     "output_type": "stream",
     "text": [
      "False\n",
      "True\n"
     ]
    }
   ],
   "source": [
    "s=\"ABCD#\"\n",
    "print(s.islower())\n",
    "print(s.isupper())"
   ]
  },
  {
   "cell_type": "code",
   "execution_count": 65,
   "id": "0b92b471",
   "metadata": {},
   "outputs": [
    {
     "name": "stdout",
     "output_type": "stream",
     "text": [
      "False\n",
      "False\n"
     ]
    }
   ],
   "source": [
    "s=\"@#$%#\"\n",
    "print(s.islower())\n",
    "print(s.isupper())"
   ]
  },
  {
   "cell_type": "code",
   "execution_count": 66,
   "id": "d76b1204",
   "metadata": {},
   "outputs": [
    {
     "name": "stdout",
     "output_type": "stream",
     "text": [
      "True\n"
     ]
    }
   ],
   "source": [
    "s=\"abcd\"\n",
    "print(s.isalpha())"
   ]
  },
  {
   "cell_type": "code",
   "execution_count": 67,
   "id": "9ea10a97",
   "metadata": {},
   "outputs": [
    {
     "name": "stdout",
     "output_type": "stream",
     "text": [
      "True\n"
     ]
    }
   ],
   "source": [
    "s=\"abcdANVF\"\n",
    "print(s.isalpha())"
   ]
  },
  {
   "cell_type": "code",
   "execution_count": 68,
   "id": "3e8fdbbc",
   "metadata": {},
   "outputs": [
    {
     "name": "stdout",
     "output_type": "stream",
     "text": [
      "False\n"
     ]
    }
   ],
   "source": [
    "s=\"abcdANVF123\"\n",
    "print(s.isalpha())"
   ]
  },
  {
   "cell_type": "code",
   "execution_count": 69,
   "id": "6052f410",
   "metadata": {},
   "outputs": [
    {
     "name": "stdout",
     "output_type": "stream",
     "text": [
      "False\n"
     ]
    }
   ],
   "source": [
    "s=\"abcdANVF@#$\"\n",
    "print(s.isalpha())"
   ]
  },
  {
   "cell_type": "code",
   "execution_count": 70,
   "id": "f06f6062",
   "metadata": {},
   "outputs": [
    {
     "name": "stdout",
     "output_type": "stream",
     "text": [
      "False\n"
     ]
    }
   ],
   "source": [
    "s=\"\"\n",
    "print(s.isalpha())"
   ]
  },
  {
   "cell_type": "code",
   "execution_count": 71,
   "id": "bd4ff77a",
   "metadata": {},
   "outputs": [
    {
     "name": "stdout",
     "output_type": "stream",
     "text": [
      "True\n",
      "True\n",
      "True\n"
     ]
    }
   ],
   "source": [
    "s=\"1234\"\n",
    "print(s.isnumeric())\n",
    "print(s.isdigit())\n",
    "print(s.isdecimal())"
   ]
  },
  {
   "cell_type": "code",
   "execution_count": 72,
   "id": "f03250ec",
   "metadata": {},
   "outputs": [
    {
     "name": "stdout",
     "output_type": "stream",
     "text": [
      "False\n",
      "False\n",
      "False\n"
     ]
    }
   ],
   "source": [
    "s=\"1234#$\"\n",
    "print(s.isnumeric())\n",
    "print(s.isdigit())\n",
    "print(s.isdecimal())"
   ]
  },
  {
   "cell_type": "code",
   "execution_count": 73,
   "id": "55d36bd3",
   "metadata": {},
   "outputs": [
    {
     "name": "stdout",
     "output_type": "stream",
     "text": [
      "False\n",
      "False\n",
      "False\n"
     ]
    }
   ],
   "source": [
    "s=\"12.34\"\n",
    "print(s.isnumeric())\n",
    "print(s.isdigit())\n",
    "print(s.isdecimal())"
   ]
  },
  {
   "cell_type": "code",
   "execution_count": 74,
   "id": "c1fb3d87",
   "metadata": {},
   "outputs": [
    {
     "name": "stdout",
     "output_type": "stream",
     "text": [
      "False\n",
      "False\n",
      "False\n"
     ]
    }
   ],
   "source": [
    "s=\"12**4\"\n",
    "print(s.isnumeric())\n",
    "print(s.isdigit())\n",
    "print(s.isdecimal())"
   ]
  },
  {
   "cell_type": "code",
   "execution_count": 75,
   "id": "7fd81b84",
   "metadata": {},
   "outputs": [
    {
     "name": "stdout",
     "output_type": "stream",
     "text": [
      "False\n",
      "False\n",
      "False\n"
     ]
    }
   ],
   "source": [
    "s=\"12+4\"\n",
    "print(s.isnumeric())\n",
    "print(s.isdigit())\n",
    "print(s.isdecimal())"
   ]
  },
  {
   "cell_type": "code",
   "execution_count": 76,
   "id": "c5cbfcbf",
   "metadata": {},
   "outputs": [
    {
     "name": "stdout",
     "output_type": "stream",
     "text": [
      "2³\n"
     ]
    }
   ],
   "source": [
    "print(\"2\\u00b3\")"
   ]
  },
  {
   "cell_type": "code",
   "execution_count": 77,
   "id": "57a4ba89",
   "metadata": {},
   "outputs": [
    {
     "name": "stdout",
     "output_type": "stream",
     "text": [
      "True\n",
      "True\n",
      "False\n"
     ]
    }
   ],
   "source": [
    "s=\"2³\"\n",
    "print(s.isnumeric())\n",
    "print(s.isdigit())\n",
    "print(s.isdecimal())"
   ]
  },
  {
   "cell_type": "code",
   "execution_count": 78,
   "id": "331dde36",
   "metadata": {},
   "outputs": [
    {
     "name": "stdout",
     "output_type": "stream",
     "text": [
      "False\n",
      "False\n"
     ]
    }
   ],
   "source": [
    "s=\"2³asd\"\n",
    "print(s.isnumeric())\n",
    "print(s.isdigit())"
   ]
  },
  {
   "cell_type": "code",
   "execution_count": 79,
   "id": "262f0878",
   "metadata": {},
   "outputs": [
    {
     "name": "stdout",
     "output_type": "stream",
     "text": [
      "True\n",
      "True\n"
     ]
    }
   ],
   "source": [
    "s=\"2³123\"\n",
    "print(s.isnumeric())\n",
    "print(s.isdigit())"
   ]
  },
  {
   "cell_type": "code",
   "execution_count": 80,
   "id": "50ae09b9",
   "metadata": {},
   "outputs": [
    {
     "name": "stdout",
     "output_type": "stream",
     "text": [
      "True\n",
      "True\n"
     ]
    }
   ],
   "source": [
    "s=\"१\"\n",
    "print(s.isnumeric())\n",
    "print(s.isdigit())"
   ]
  },
  {
   "cell_type": "code",
   "execution_count": 81,
   "id": "edfcd5ff",
   "metadata": {},
   "outputs": [
    {
     "name": "stdout",
     "output_type": "stream",
     "text": [
      "True\n",
      "False\n"
     ]
    }
   ],
   "source": [
    "s=\"二\"\n",
    "print(s.isnumeric())\n",
    "print(s.isdigit())"
   ]
  },
  {
   "cell_type": "code",
   "execution_count": 82,
   "id": "33fa6a18",
   "metadata": {},
   "outputs": [
    {
     "name": "stdout",
     "output_type": "stream",
     "text": [
      "True\n",
      "False\n"
     ]
    }
   ],
   "source": [
    "s=\"一\"\n",
    "print(s.isnumeric())\n",
    "print(s.isdigit())"
   ]
  },
  {
   "cell_type": "code",
   "execution_count": 83,
   "id": "5668c0a8",
   "metadata": {},
   "outputs": [
    {
     "name": "stdout",
     "output_type": "stream",
     "text": [
      "19968\n"
     ]
    }
   ],
   "source": [
    "s=\"一\"\n",
    "print(ord(s))"
   ]
  },
  {
   "cell_type": "code",
   "execution_count": 84,
   "id": "8e1f3e1c",
   "metadata": {},
   "outputs": [
    {
     "name": "stdout",
     "output_type": "stream",
     "text": [
      "False\n"
     ]
    }
   ],
   "source": [
    "s=\"一\"\n",
    "print(s.isascii())"
   ]
  },
  {
   "cell_type": "code",
   "execution_count": 85,
   "id": "49e12230",
   "metadata": {},
   "outputs": [
    {
     "name": "stdout",
     "output_type": "stream",
     "text": [
      "True\n"
     ]
    }
   ],
   "source": [
    "s=\"a\"\n",
    "print(s.isascii())"
   ]
  },
  {
   "cell_type": "code",
   "execution_count": 86,
   "id": "74c13e48",
   "metadata": {},
   "outputs": [
    {
     "name": "stdout",
     "output_type": "stream",
     "text": [
      "True\n"
     ]
    }
   ],
   "source": [
    "s=\"$\"\n",
    "print(s.isascii())"
   ]
  },
  {
   "cell_type": "code",
   "execution_count": 87,
   "id": "47598818",
   "metadata": {},
   "outputs": [
    {
     "name": "stdout",
     "output_type": "stream",
     "text": [
      "True\n"
     ]
    }
   ],
   "source": [
    "s=\"2\"\n",
    "print(s.isascii())"
   ]
  },
  {
   "cell_type": "code",
   "execution_count": 89,
   "id": "3719724d",
   "metadata": {},
   "outputs": [
    {
     "name": "stdout",
     "output_type": "stream",
     "text": [
      "False\n"
     ]
    }
   ],
   "source": [
    "\"\"\"\n",
    "'isidentifier', ''isprintable', 'isspace', \n",
    "'istitle', \n",
    "\"\"\"\n",
    "s=\"20\"\n",
    "print(s.isidentifier())"
   ]
  },
  {
   "cell_type": "code",
   "execution_count": 90,
   "id": "22221b66",
   "metadata": {},
   "outputs": [
    {
     "name": "stdout",
     "output_type": "stream",
     "text": [
      "True\n"
     ]
    }
   ],
   "source": [
    "\"\"\"\n",
    "'isidentifier', ''isprintable', 'isspace', \n",
    "'istitle', \n",
    "\"\"\"\n",
    "s=\"if\"\n",
    "print(s.isidentifier())"
   ]
  },
  {
   "cell_type": "code",
   "execution_count": 91,
   "id": "f32719ea",
   "metadata": {},
   "outputs": [
    {
     "name": "stdout",
     "output_type": "stream",
     "text": [
      "True\n"
     ]
    }
   ],
   "source": [
    "\"\"\"\n",
    "'isidentifier', ''isprintable', 'isspace', \n",
    "'istitle', \n",
    "\"\"\"\n",
    "s=\"for\"\n",
    "print(s.isidentifier())"
   ]
  },
  {
   "cell_type": "code",
   "execution_count": 92,
   "id": "33b2f05a",
   "metadata": {},
   "outputs": [
    {
     "name": "stdout",
     "output_type": "stream",
     "text": [
      "True\n"
     ]
    }
   ],
   "source": [
    "\"\"\"\n",
    "'isidentifier', ''isprintable', 'isspace', \n",
    "'istitle', \n",
    "\"\"\"\n",
    "s=\"true\"\n",
    "print(s.isidentifier())"
   ]
  },
  {
   "cell_type": "code",
   "execution_count": 93,
   "id": "70b4823a",
   "metadata": {},
   "outputs": [
    {
     "name": "stdout",
     "output_type": "stream",
     "text": [
      "True\n"
     ]
    }
   ],
   "source": [
    "\"\"\"\n",
    "'isidentifier', ''isprintable', 'isspace', \n",
    "'istitle', \n",
    "\"\"\"\n",
    "s=\"True\"\n",
    "print(s.isidentifier())"
   ]
  },
  {
   "cell_type": "code",
   "execution_count": 94,
   "id": "7c3ac5bf",
   "metadata": {},
   "outputs": [
    {
     "name": "stdout",
     "output_type": "stream",
     "text": [
      "True\n"
     ]
    }
   ],
   "source": [
    "\"\"\"\n",
    "'isidentifier', ''isprintable', 'isspace', \n",
    "'istitle', \n",
    "\"\"\"\n",
    "s=\"abcd\"\n",
    "print(s.isidentifier())"
   ]
  },
  {
   "cell_type": "code",
   "execution_count": 95,
   "id": "d1386f01",
   "metadata": {},
   "outputs": [
    {
     "name": "stdout",
     "output_type": "stream",
     "text": [
      "True\n"
     ]
    }
   ],
   "source": [
    "\"\"\"\n",
    "'isidentifier', ''isprintable', 'isspace', \n",
    "'istitle', \n",
    "\"\"\"\n",
    "s=\"abcd123\"\n",
    "print(s.isidentifier())"
   ]
  },
  {
   "cell_type": "code",
   "execution_count": 96,
   "id": "cb54a9be",
   "metadata": {},
   "outputs": [
    {
     "name": "stdout",
     "output_type": "stream",
     "text": [
      "False\n"
     ]
    }
   ],
   "source": [
    "\"\"\"\n",
    "'isidentifier', ''isprintable', 'isspace', \n",
    "'istitle', \n",
    "\"\"\"\n",
    "s=\"1abcd123\"\n",
    "print(s.isidentifier())"
   ]
  },
  {
   "cell_type": "code",
   "execution_count": 97,
   "id": "d783fed3",
   "metadata": {},
   "outputs": [
    {
     "name": "stdout",
     "output_type": "stream",
     "text": [
      "True\n"
     ]
    }
   ],
   "source": [
    "\"\"\"\n",
    "'isidentifier', ''isprintable', 'isspace', \n",
    "'istitle', \n",
    "\"\"\"\n",
    "s=\"_abcd123\"\n",
    "print(s.isidentifier())"
   ]
  },
  {
   "cell_type": "code",
   "execution_count": 98,
   "id": "af2b6ecd",
   "metadata": {},
   "outputs": [
    {
     "name": "stdout",
     "output_type": "stream",
     "text": [
      "False\n"
     ]
    }
   ],
   "source": [
    "\"\"\"\n",
    " 'isspace', \n",
    "'istitle', \n",
    "\"\"\"\n",
    "s=\"_abcd123@\"\n",
    "print(s.isidentifier())"
   ]
  },
  {
   "cell_type": "code",
   "execution_count": 99,
   "id": "6a44571f",
   "metadata": {},
   "outputs": [
    {
     "name": "stdout",
     "output_type": "stream",
     "text": [
      "\n",
      "\n"
     ]
    }
   ],
   "source": [
    "print(\"\\n\")"
   ]
  },
  {
   "cell_type": "code",
   "execution_count": 101,
   "id": "75c63d1d",
   "metadata": {},
   "outputs": [
    {
     "name": "stdout",
     "output_type": "stream",
     "text": [
      "False\n"
     ]
    }
   ],
   "source": [
    "s=\"\\n\"\n",
    "print(s.isprintable())"
   ]
  },
  {
   "cell_type": "code",
   "execution_count": 102,
   "id": "d542b1f6",
   "metadata": {},
   "outputs": [
    {
     "name": "stdout",
     "output_type": "stream",
     "text": [
      "True\n"
     ]
    }
   ],
   "source": [
    "s=\"dsafdsfsd\"\n",
    "print(s.isprintable())"
   ]
  },
  {
   "cell_type": "code",
   "execution_count": 103,
   "id": "d417ab21",
   "metadata": {},
   "outputs": [
    {
     "name": "stdout",
     "output_type": "stream",
     "text": [
      "False\n"
     ]
    }
   ],
   "source": [
    "s=\"a b c d\"\n",
    "print(s.isspace())"
   ]
  },
  {
   "cell_type": "code",
   "execution_count": 104,
   "id": "eba4948c",
   "metadata": {},
   "outputs": [
    {
     "name": "stdout",
     "output_type": "stream",
     "text": [
      "True\n"
     ]
    }
   ],
   "source": [
    "s=\"        \"\n",
    "print(s.isspace())"
   ]
  },
  {
   "cell_type": "code",
   "execution_count": 105,
   "id": "6fd7b2b9",
   "metadata": {},
   "outputs": [
    {
     "name": "stdout",
     "output_type": "stream",
     "text": [
      "Abcd Efgh Ijkl\n"
     ]
    }
   ],
   "source": [
    "s=\"abcd efgh ijkl\"\n",
    "print(s.title())"
   ]
  },
  {
   "cell_type": "code",
   "execution_count": 106,
   "id": "f2ce3a60",
   "metadata": {},
   "outputs": [
    {
     "name": "stdout",
     "output_type": "stream",
     "text": [
      "1Abcd 2Efgh 3Ijkl\n"
     ]
    }
   ],
   "source": [
    "s=\"1abcd 2efgh 3ijkl\"\n",
    "print(s.title())"
   ]
  },
  {
   "cell_type": "code",
   "execution_count": 108,
   "id": "4809b882",
   "metadata": {},
   "outputs": [
    {
     "name": "stdout",
     "output_type": "stream",
     "text": [
      "1Ab%Cd 2Ef$Gh 3Ij3Kl\n"
     ]
    }
   ],
   "source": [
    "s=\"1ab%cd 2ef$gh 3ij3kl\"\n",
    "print(s.title())"
   ]
  },
  {
   "cell_type": "code",
   "execution_count": 109,
   "id": "1e822eaf",
   "metadata": {},
   "outputs": [
    {
     "name": "stdout",
     "output_type": "stream",
     "text": [
      "Ab%Cd 2Ef$Gh 3Ij3Kl\n"
     ]
    }
   ],
   "source": [
    "# the character which follows a special char or number converts to upper case.\n",
    "s=\"ab%cd 2ef$gh 3ij3kl\"\n",
    "print(s.title())"
   ]
  },
  {
   "cell_type": "code",
   "execution_count": 110,
   "id": "d2b5a453",
   "metadata": {},
   "outputs": [
    {
     "name": "stdout",
     "output_type": "stream",
     "text": [
      "Ab%Cd 2Ef$Gh 3Ij3Kl\n"
     ]
    }
   ],
   "source": [
    "# the first charater and the character which follows a special char or number converts to upper case.\n",
    "s=\"ab%cd 2ef$gh 3ij3kl\"\n",
    "print(s.title())"
   ]
  },
  {
   "cell_type": "code",
   "execution_count": 113,
   "id": "15f4b472",
   "metadata": {},
   "outputs": [],
   "source": [
    "s.title?"
   ]
  },
  {
   "cell_type": "code",
   "execution_count": 114,
   "id": "eaa95498",
   "metadata": {},
   "outputs": [],
   "source": [
    "s=\"the hyderabad is clean city\""
   ]
  },
  {
   "cell_type": "code",
   "execution_count": 115,
   "id": "36e2f0e7",
   "metadata": {},
   "outputs": [
    {
     "name": "stdout",
     "output_type": "stream",
     "text": [
      "Ab%Cd 2Ef$Gh 3Ij3Kl\n"
     ]
    }
   ],
   "source": [
    "# the first charater and the character which follows a special char or number converts to upper case.\n",
    "s=\"ab%cD 2ef$gH 3iJ3kl\"\n",
    "print(s.title())"
   ]
  },
  {
   "cell_type": "code",
   "execution_count": 116,
   "id": "43433cb7",
   "metadata": {},
   "outputs": [
    {
     "name": "stdout",
     "output_type": "stream",
     "text": [
      "False\n"
     ]
    }
   ],
   "source": [
    "s=\"the hyderabad is clean city\"\n",
    "print(s.istitle())"
   ]
  },
  {
   "cell_type": "code",
   "execution_count": 117,
   "id": "929d1140",
   "metadata": {},
   "outputs": [
    {
     "name": "stdout",
     "output_type": "stream",
     "text": [
      "False\n"
     ]
    }
   ],
   "source": [
    "s=\"The Hyderabad IS Clean City\"\n",
    "print(s.istitle())"
   ]
  },
  {
   "cell_type": "code",
   "execution_count": 118,
   "id": "f953eea5",
   "metadata": {},
   "outputs": [
    {
     "name": "stdout",
     "output_type": "stream",
     "text": [
      "True\n"
     ]
    }
   ],
   "source": [
    "s=\"The Hyderabad Is Clean City\"\n",
    "print(s.istitle())"
   ]
  },
  {
   "cell_type": "code",
   "execution_count": 119,
   "id": "6fba6e9b",
   "metadata": {},
   "outputs": [
    {
     "name": "stdout",
     "output_type": "stream",
     "text": [
      "False\n"
     ]
    }
   ],
   "source": [
    "s=\"The Hyder2abad Is Clean City\"\n",
    "print(s.istitle())"
   ]
  },
  {
   "cell_type": "code",
   "execution_count": 120,
   "id": "329e644a",
   "metadata": {},
   "outputs": [
    {
     "name": "stdout",
     "output_type": "stream",
     "text": [
      "True\n"
     ]
    }
   ],
   "source": [
    "s=\"The Hyder2Abad Is Clean City\"\n",
    "print(s.istitle())"
   ]
  },
  {
   "cell_type": "code",
   "execution_count": 122,
   "id": "d2592b79",
   "metadata": {},
   "outputs": [
    {
     "name": "stdout",
     "output_type": "stream",
     "text": [
      "['__add__', '__class__', '__contains__', '__delattr__', '__dir__', '__doc__', '__eq__', '__format__', '__ge__', '__getattribute__', '__getitem__', '__getnewargs__', '__getstate__', '__gt__', '__hash__', '__init__', '__init_subclass__', '__iter__', '__le__', '__len__', '__lt__', '__mod__', '__mul__', '__ne__', '__new__', '__reduce__', '__reduce_ex__', '__repr__', '__rmod__', '__rmul__', '__setattr__', '__sizeof__', '__str__', '__subclasshook__', 'capitalize', 'casefold', 'center', 'count', 'encode', 'endswith', 'expandtabs', 'find', 'format', 'format_map', 'index', 'isalnum', 'isalpha', 'isascii', 'isdecimal', 'isdigit', 'isidentifier', 'islower', 'isnumeric', 'isprintable', 'isspace', 'istitle', 'isupper', 'join', 'ljust', 'lower', 'lstrip', 'maketrans', 'partition', 'removeprefix', 'removesuffix', 'replace', 'rfind', 'rindex', 'rjust', 'rpartition', 'rsplit', 'rstrip', 'split', 'splitlines', 'startswith', 'strip', 'swapcase', 'title', 'translate', 'upper', 'zfill']\n"
     ]
    }
   ],
   "source": [
    "print(dir(s))"
   ]
  },
  {
   "cell_type": "code",
   "execution_count": null,
   "id": "075ab01b",
   "metadata": {},
   "outputs": [],
   "source": [
    "s=\"python\"\n",
    "print(s.ljust())\n",
    "print(s.rjust())\n",
    "print(s.center())"
   ]
  },
  {
   "cell_type": "code",
   "execution_count": 126,
   "id": "8cdd27b4",
   "metadata": {},
   "outputs": [
    {
     "name": "stdout",
     "output_type": "stream",
     "text": [
      "ssssssssssssssssssssssssssssssssssssssssssssssssssssssssssssssssssssssssssssssssssssssssssssssssssssssssssssssssssssssssssss\n",
      "124\n"
     ]
    }
   ],
   "source": [
    "s=\"ssssssssssssssssssssssssssssssssssssssssssssssssssssssssssssssssssssssssssssssssssssssssssssssssssssssssssssssssssssssssssss\"\n",
    "print(s)\n",
    "print(len(s))"
   ]
  },
  {
   "cell_type": "code",
   "execution_count": 127,
   "id": "922b6cda",
   "metadata": {},
   "outputs": [
    {
     "name": "stdout",
     "output_type": "stream",
     "text": [
      "python                                                                                                                      \n",
      "                                                                                                                      python\n",
      "                                                           python                                                           \n"
     ]
    }
   ],
   "source": [
    "s=\"python\"\n",
    "print(s.ljust(124))\n",
    "print(s.rjust(124))\n",
    "print(s.center(124))"
   ]
  },
  {
   "cell_type": "code",
   "execution_count": 128,
   "id": "a1781af5",
   "metadata": {},
   "outputs": [
    {
     "name": "stdout",
     "output_type": "stream",
     "text": [
      "python%%%%%%%%%%%%%%%%%%%%%%%%%%%%%%%%%%%%%%%%%%%%%%%%%%%%%%%%%%%%%%%%%%%%%%%%%%%%%%%%%%%%%%%%%%%%%%%%%%%%%%%%%%%%%%%%%%%%%%\n",
      "$$$$$$$$$$$$$$$$$$$$$$$$$$$$$$$$$$$$$$$$$$$$$$$$$$$$$$$$$$$$$$$$$$$$$$$$$$$$$$$$$$$$$$$$$$$$$$$$$$$$$$$$$$$$$$$$$$$$$$python\n",
      "###########################################################python###########################################################\n"
     ]
    }
   ],
   "source": [
    "s=\"python\"\n",
    "print(s.ljust(124,\"%\"))\n",
    "print(s.rjust(124,'$'))\n",
    "print(s.center(124,'#'))"
   ]
  },
  {
   "cell_type": "code",
   "execution_count": 129,
   "id": "5c2d08c9",
   "metadata": {},
   "outputs": [
    {
     "name": "stdout",
     "output_type": "stream",
     "text": [
      "python\n",
      "python\n",
      "python\n"
     ]
    }
   ],
   "source": [
    "s=\"python\"\n",
    "print(s.ljust(5,\"%\"))\n",
    "print(s.rjust(5,'$'))\n",
    "print(s.center(5,'#'))"
   ]
  },
  {
   "cell_type": "code",
   "execution_count": 130,
   "id": "c77580cb",
   "metadata": {},
   "outputs": [
    {
     "name": "stdout",
     "output_type": "stream",
     "text": [
      "4\n"
     ]
    }
   ],
   "source": [
    "s=\"abcd efghabcd ijklabcd erghabcd\"\n",
    "print(s.count(\"abcd\"))"
   ]
  },
  {
   "cell_type": "code",
   "execution_count": 131,
   "id": "9fe0e412",
   "metadata": {},
   "outputs": [
    {
     "name": "stdout",
     "output_type": "stream",
     "text": [
      "0\n"
     ]
    }
   ],
   "source": [
    "s=\"abcd efghabcd ijklabcd erghabcd\"\n",
    "print(s.count(\"ABCD\"))"
   ]
  },
  {
   "cell_type": "code",
   "execution_count": 132,
   "id": "3ad26b8d",
   "metadata": {},
   "outputs": [
    {
     "name": "stdout",
     "output_type": "stream",
     "text": [
      "0\n"
     ]
    }
   ],
   "source": [
    "s=\"abcd efghabcd ijklabcd erghabcd\"\n",
    "print(s.count(\"acd\"))"
   ]
  },
  {
   "cell_type": "code",
   "execution_count": 133,
   "id": "e0859962",
   "metadata": {},
   "outputs": [
    {
     "name": "stdout",
     "output_type": "stream",
     "text": [
      "1\n"
     ]
    }
   ],
   "source": [
    "s=\"ab cd\"\n",
    "print(s.count(\" \"))"
   ]
  },
  {
   "cell_type": "code",
   "execution_count": 134,
   "id": "60a4d7ff",
   "metadata": {},
   "outputs": [
    {
     "name": "stdout",
     "output_type": "stream",
     "text": [
      "6\n"
     ]
    }
   ],
   "source": [
    "s=\"ab cd\"\n",
    "print(s.count(\"\"))"
   ]
  },
  {
   "cell_type": "code",
   "execution_count": 135,
   "id": "28a39db1",
   "metadata": {},
   "outputs": [
    {
     "name": "stdout",
     "output_type": "stream",
     "text": [
      "6\n",
      "$a$b$ $c$d$\n"
     ]
    }
   ],
   "source": [
    "s=\"ab cd\"\n",
    "print(s.count(\"\"))\n",
    "print(s.replace(\"\",\"$\"))"
   ]
  },
  {
   "cell_type": "code",
   "execution_count": 136,
   "id": "6e5bee92",
   "metadata": {},
   "outputs": [
    {
     "name": "stdout",
     "output_type": "stream",
     "text": [
      "0\n"
     ]
    }
   ],
   "source": [
    "s=\"ab cd\"\n",
    "s1=\"\"\n",
    "if s1:\n",
    "    print(s.count(s1))\n",
    "else:\n",
    "    print(0)"
   ]
  },
  {
   "cell_type": "code",
   "execution_count": 137,
   "id": "46f9826c",
   "metadata": {},
   "outputs": [
    {
     "name": "stdout",
     "output_type": "stream",
     "text": [
      "1\n"
     ]
    }
   ],
   "source": [
    "s=\"ab cd\"\n",
    "s1=\"ab\"\n",
    "if s1:\n",
    "    print(s.count(s1))\n",
    "else:\n",
    "    print(0)"
   ]
  },
  {
   "cell_type": "code",
   "execution_count": 138,
   "id": "536d3026",
   "metadata": {},
   "outputs": [
    {
     "name": "stdout",
     "output_type": "stream",
     "text": [
      "6\n",
      "ab$cd\n"
     ]
    }
   ],
   "source": [
    "s=\"ab cd\"\n",
    "print(s.count(\"\"))\n",
    "print(s.replace(\" \",\"$\"))"
   ]
  },
  {
   "cell_type": "code",
   "execution_count": 139,
   "id": "a337b718",
   "metadata": {},
   "outputs": [
    {
     "name": "stdout",
     "output_type": "stream",
     "text": [
      "6\n",
      "$a$b$ $c$d$\n"
     ]
    }
   ],
   "source": [
    "s=\"ab cd\"\n",
    "print(s.count(\"\"))\n",
    "print(s.replace(\"\",\"$\"))"
   ]
  },
  {
   "cell_type": "code",
   "execution_count": 141,
   "id": "180b5e64",
   "metadata": {},
   "outputs": [
    {
     "name": "stdout",
     "output_type": "stream",
     "text": [
      "0\n",
      "0\n"
     ]
    }
   ],
   "source": [
    "s=\"abcdabcdabcdabcd\"\n",
    "print(s.index(\"a\"))\n",
    "print(s.find(\"a\"))"
   ]
  },
  {
   "cell_type": "code",
   "execution_count": 143,
   "id": "60300cee",
   "metadata": {},
   "outputs": [
    {
     "name": "stdout",
     "output_type": "stream",
     "text": [
      "-1\n"
     ]
    },
    {
     "ename": "ValueError",
     "evalue": "substring not found",
     "output_type": "error",
     "traceback": [
      "\u001b[1;31m---------------------------------------------------------------------------\u001b[0m",
      "\u001b[1;31mValueError\u001b[0m                                Traceback (most recent call last)",
      "Cell \u001b[1;32mIn[143], line 3\u001b[0m\n\u001b[0;32m      1\u001b[0m s\u001b[38;5;241m=\u001b[39m\u001b[38;5;124m\"\u001b[39m\u001b[38;5;124mabcdabcdabcdabcd\u001b[39m\u001b[38;5;124m\"\u001b[39m\n\u001b[0;32m      2\u001b[0m \u001b[38;5;28mprint\u001b[39m(s\u001b[38;5;241m.\u001b[39mfind(\u001b[38;5;124m\"\u001b[39m\u001b[38;5;124mA\u001b[39m\u001b[38;5;124m\"\u001b[39m))\n\u001b[1;32m----> 3\u001b[0m \u001b[38;5;28mprint\u001b[39m(s\u001b[38;5;241m.\u001b[39mindex(\u001b[38;5;124m\"\u001b[39m\u001b[38;5;124mA\u001b[39m\u001b[38;5;124m\"\u001b[39m))\n",
      "\u001b[1;31mValueError\u001b[0m: substring not found"
     ]
    }
   ],
   "source": [
    "s=\"abcdabcdabcdabcd\"\n",
    "print(s.find(\"A\"))\n",
    "print(s.index(\"A\"))"
   ]
  },
  {
   "cell_type": "code",
   "execution_count": 144,
   "id": "732c4105",
   "metadata": {},
   "outputs": [
    {
     "name": "stdout",
     "output_type": "stream",
     "text": [
      "0\n"
     ]
    }
   ],
   "source": [
    "s=\"abcd123abcd456abcd789abcd\"\n",
    "print(s.find(\"abcd\"))"
   ]
  },
  {
   "cell_type": "code",
   "execution_count": 145,
   "id": "46e1ded1",
   "metadata": {},
   "outputs": [
    {
     "name": "stdout",
     "output_type": "stream",
     "text": [
      "['__add__', '__class__', '__contains__', '__delattr__', '__dir__', '__doc__', '__eq__', '__format__', '__ge__', '__getattribute__', '__getitem__', '__getnewargs__', '__getstate__', '__gt__', '__hash__', '__init__', '__init_subclass__', '__iter__', '__le__', '__len__', '__lt__', '__mod__', '__mul__', '__ne__', '__new__', '__reduce__', '__reduce_ex__', '__repr__', '__rmod__', '__rmul__', '__setattr__', '__sizeof__', '__str__', '__subclasshook__', 'capitalize', 'casefold', 'center', 'count', 'encode', 'endswith', 'expandtabs', 'find', 'format', 'format_map', 'index', 'isalnum', 'isalpha', 'isascii', 'isdecimal', 'isdigit', 'isidentifier', 'islower', 'isnumeric', 'isprintable', 'isspace', 'istitle', 'isupper', 'join', 'ljust', 'lower', 'lstrip', 'maketrans', 'partition', 'removeprefix', 'removesuffix', 'replace', 'rfind', 'rindex', 'rjust', 'rpartition', 'rsplit', 'rstrip', 'split', 'splitlines', 'startswith', 'strip', 'swapcase', 'title', 'translate', 'upper', 'zfill']\n"
     ]
    }
   ],
   "source": [
    "print(dir(s))"
   ]
  },
  {
   "cell_type": "code",
   "execution_count": 146,
   "id": "5f2f947c",
   "metadata": {},
   "outputs": [
    {
     "name": "stdout",
     "output_type": "stream",
     "text": [
      "0\n",
      "21\n"
     ]
    }
   ],
   "source": [
    "s=\"abcd123abcd456abcd789abcd\"\n",
    "print(s.find(\"abcd\"))\n",
    "print(s.rfind(\"abcd\"))"
   ]
  },
  {
   "cell_type": "code",
   "execution_count": 147,
   "id": "5c47c564",
   "metadata": {},
   "outputs": [],
   "source": [
    "s.find?"
   ]
  },
  {
   "cell_type": "code",
   "execution_count": 148,
   "id": "efbdb0f9",
   "metadata": {},
   "outputs": [
    {
     "name": "stdout",
     "output_type": "stream",
     "text": [
      "7\n"
     ]
    }
   ],
   "source": [
    "s=\"abcd123abcd456abcd789abcd\"\n",
    "print(s.find(\"abcd\", 1))#s[1:].find(\"abcd\")\n"
   ]
  },
  {
   "cell_type": "code",
   "execution_count": 149,
   "id": "4fe4fc0c",
   "metadata": {},
   "outputs": [
    {
     "name": "stdout",
     "output_type": "stream",
     "text": [
      "2\n"
     ]
    }
   ],
   "source": [
    "s=\"abcd123abcd456abcd789abcd\"\n",
    "print(s.find(\"cd\"))\n"
   ]
  },
  {
   "cell_type": "code",
   "execution_count": 150,
   "id": "3bd26a66",
   "metadata": {},
   "outputs": [
    {
     "name": "stdout",
     "output_type": "stream",
     "text": [
      "2\n"
     ]
    }
   ],
   "source": [
    "s=\"abcd123abcd456abcd789abcd\"\n",
    "print(s.find(\"cd\", 1))\n"
   ]
  },
  {
   "cell_type": "code",
   "execution_count": 151,
   "id": "12a87e7e",
   "metadata": {},
   "outputs": [
    {
     "name": "stdout",
     "output_type": "stream",
     "text": [
      "9\n"
     ]
    }
   ],
   "source": [
    "s=\"abcd123abcd456abcd789abcd\"\n",
    "first_occurance_index=s.find(\"cd\")\n",
    "second_occurance_index=s.find(\"cd\", first_occurance_index+1)\n",
    "print(second_occurance_index)\n"
   ]
  },
  {
   "cell_type": "code",
   "execution_count": 152,
   "id": "85b852d6",
   "metadata": {},
   "outputs": [
    {
     "name": "stdout",
     "output_type": "stream",
     "text": [
      "16\n"
     ]
    }
   ],
   "source": [
    "s=\"abcd123abcd456abcd789abcd\"\n",
    "first_occurance_index=s.find(\"cd\")\n",
    "second_occurance_index=s.find(\"cd\", first_occurance_index+1)\n",
    "third_occurance_index = s.find(\"cd\", second_occurance_index+1)\n",
    "print(third_occurance_index)"
   ]
  },
  {
   "cell_type": "code",
   "execution_count": 153,
   "id": "86bcac84",
   "metadata": {},
   "outputs": [
    {
     "name": "stdout",
     "output_type": "stream",
     "text": [
      "Enter occurance:1\n",
      "2\n"
     ]
    }
   ],
   "source": [
    "s=\"abcd123abcd456abcd789abcd\"\n",
    "index=0\n",
    "for i in range(int(input(\"Enter occurance:\"))):\n",
    "    index=s.find(\"cd\", index+1)\n",
    "print(index)"
   ]
  },
  {
   "cell_type": "code",
   "execution_count": 154,
   "id": "7b556388",
   "metadata": {},
   "outputs": [
    {
     "name": "stdout",
     "output_type": "stream",
     "text": [
      "Enter occurance:2\n",
      "9\n"
     ]
    }
   ],
   "source": [
    "s=\"abcd123abcd456abcd789abcd\"\n",
    "index=0\n",
    "for i in range(int(input(\"Enter occurance:\"))):\n",
    "    index=s.find(\"cd\", index+1)\n",
    "print(index)"
   ]
  },
  {
   "cell_type": "code",
   "execution_count": 155,
   "id": "47971c8c",
   "metadata": {},
   "outputs": [
    {
     "name": "stdout",
     "output_type": "stream",
     "text": [
      "Enter occurance:3\n",
      "16\n"
     ]
    }
   ],
   "source": [
    "s=\"abcd123abcd456abcd789abcd\"\n",
    "index=0\n",
    "for i in range(int(input(\"Enter occurance:\"))):\n",
    "    index=s.find(\"cd\", index+1)\n",
    "print(index)"
   ]
  },
  {
   "cell_type": "code",
   "execution_count": 156,
   "id": "46a1b669",
   "metadata": {},
   "outputs": [
    {
     "name": "stdout",
     "output_type": "stream",
     "text": [
      "Enter occurance:4\n",
      "23\n"
     ]
    }
   ],
   "source": [
    "s=\"abcd123abcd456abcd789abcd\"\n",
    "index=0\n",
    "for i in range(int(input(\"Enter occurance:\"))):\n",
    "    index=s.find(\"cd\", index+1)\n",
    "print(index)"
   ]
  },
  {
   "cell_type": "code",
   "execution_count": 157,
   "id": "d8378c2c",
   "metadata": {},
   "outputs": [
    {
     "name": "stdout",
     "output_type": "stream",
     "text": [
      "Enter occurance:5\n",
      "-1\n"
     ]
    }
   ],
   "source": [
    "s=\"abcd123abcd456abcd789abcd\"\n",
    "index=0\n",
    "for i in range(int(input(\"Enter occurance:\"))):\n",
    "    index=s.find(\"cd\", index+1)\n",
    "print(index)"
   ]
  },
  {
   "cell_type": "code",
   "execution_count": 158,
   "id": "4f251c48",
   "metadata": {},
   "outputs": [
    {
     "name": "stdout",
     "output_type": "stream",
     "text": [
      "Enter occurance:10\n",
      "index with this occurance not possible\n"
     ]
    }
   ],
   "source": [
    "s=\"abcd123abcd456abcd789abcd\"\n",
    "index=0\n",
    "for i in range(int(input(\"Enter occurance:\"))):\n",
    "    index=s.find(\"cd\", index+1)\n",
    "    if index==-1:\n",
    "        print(\"index with this occurance not possible\")\n",
    "        break\n",
    "else:\n",
    "    print(index)\n",
    "    "
   ]
  },
  {
   "cell_type": "code",
   "execution_count": 159,
   "id": "f5891ce9",
   "metadata": {},
   "outputs": [
    {
     "name": "stdout",
     "output_type": "stream",
     "text": [
      "Enter occurance:3\n",
      "16\n"
     ]
    }
   ],
   "source": [
    "s=\"abcd123abcd456abcd789abcd\"\n",
    "index=0\n",
    "for i in range(int(input(\"Enter occurance:\"))):\n",
    "    index=s.find(\"cd\", index+1)\n",
    "    if index==-1:\n",
    "        print(\"index with this occurance not possible\")\n",
    "        break\n",
    "else:\n",
    "    print(index)\n",
    "    "
   ]
  },
  {
   "cell_type": "code",
   "execution_count": 161,
   "id": "bbde1154",
   "metadata": {},
   "outputs": [
    {
     "name": "stdout",
     "output_type": "stream",
     "text": [
      "Enter occurance:2\n",
      "9\n"
     ]
    }
   ],
   "source": [
    "s=\"abcd123abcd456abcd789abcd\"\n",
    "index=0\n",
    "occurance=int(input(\"Enter occurance:\"))\n",
    "if s.count(\"cd\")>occurance:\n",
    "    for i in range(occurance):\n",
    "        index=s.find(\"cd\", index+1)\n",
    "    print(index)\n",
    "else:\n",
    "    print(\"index with this occurance not possible\")\n",
    "    \n",
    "    "
   ]
  },
  {
   "cell_type": "code",
   "execution_count": 162,
   "id": "65c41f5b",
   "metadata": {},
   "outputs": [
    {
     "name": "stdout",
     "output_type": "stream",
     "text": [
      "Enter occurance:11\n",
      "index with this occurance not possible\n"
     ]
    }
   ],
   "source": [
    "s=\"abcd123abcd456abcd789abcd\"\n",
    "index=0\n",
    "occurance=int(input(\"Enter occurance:\"))\n",
    "if s.count(\"cd\")>occurance:\n",
    "    for i in range(occurance):\n",
    "        index=s.find(\"cd\", index+1)\n",
    "    print(index)\n",
    "else:\n",
    "    print(\"index with this occurance not possible\")\n",
    "    \n",
    "    "
   ]
  },
  {
   "cell_type": "code",
   "execution_count": 163,
   "id": "1d69d43f",
   "metadata": {},
   "outputs": [
    {
     "name": "stdout",
     "output_type": "stream",
     "text": [
      "['__add__', '__class__', '__contains__', '__delattr__', '__dir__', '__doc__', '__eq__', '__format__', '__ge__', '__getattribute__', '__getitem__', '__getnewargs__', '__getstate__', '__gt__', '__hash__', '__init__', '__init_subclass__', '__iter__', '__le__', '__len__', '__lt__', '__mod__', '__mul__', '__ne__', '__new__', '__reduce__', '__reduce_ex__', '__repr__', '__rmod__', '__rmul__', '__setattr__', '__sizeof__', '__str__', '__subclasshook__', 'capitalize', 'casefold', 'center', 'count', 'encode', 'endswith', 'expandtabs', 'find', 'format', 'format_map', 'index', 'isalnum', 'isalpha', 'isascii', 'isdecimal', 'isdigit', 'isidentifier', 'islower', 'isnumeric', 'isprintable', 'isspace', 'istitle', 'isupper', 'join', 'ljust', 'lower', 'lstrip', 'maketrans', 'partition', 'removeprefix', 'removesuffix', 'replace', 'rfind', 'rindex', 'rjust', 'rpartition', 'rsplit', 'rstrip', 'split', 'splitlines', 'startswith', 'strip', 'swapcase', 'title', 'translate', 'upper', 'zfill']\n"
     ]
    }
   ],
   "source": [
    "\"\"\"\n",
    "Reverse the string withour effecting the special symbols\n",
    "\"\"\"\n",
    "s=\"abc@#$defg%^hijk\"\n",
    "#output: kjih%^gfed@#$cba\n",
    "print(dir(s))"
   ]
  },
  {
   "cell_type": "code",
   "execution_count": 164,
   "id": "98fced45",
   "metadata": {},
   "outputs": [
    {
     "name": "stdout",
     "output_type": "stream",
     "text": [
      "kjih^%gfed$#@cba\n"
     ]
    }
   ],
   "source": [
    "s=\"abc@#$defg%^hijk\"\n",
    "print(s[::-1])"
   ]
  },
  {
   "cell_type": "code",
   "execution_count": 165,
   "id": "679cbcc0",
   "metadata": {},
   "outputs": [
    {
     "name": "stdout",
     "output_type": "stream",
     "text": [
      "abc,1,2,3defg,4ijkl,5\n"
     ]
    }
   ],
   "source": [
    "s=\"abc123defg4ijkl5\"\n",
    "#abc,123,defg,4,jkl,5\n",
    "res=\"\"\n",
    "for i in s:\n",
    "    if i.isdigit():\n",
    "        res=res+\",\"\n",
    "    res=res+i\n",
    "print(res)"
   ]
  },
  {
   "cell_type": "code",
   "execution_count": 166,
   "id": "fff6b251",
   "metadata": {},
   "outputs": [
    {
     "name": "stdout",
     "output_type": "stream",
     "text": [
      "\n"
     ]
    }
   ],
   "source": [
    "s=\"abc123defg4ijkl5\"\n",
    "#abc,123,defg,4,jkl,5\n",
    "res=\"\"\n",
    "sub=\"\"\n",
    "for i in s:\n",
    "    if sub.isdigit():\n",
    "        res=res+sub+\",\"\n",
    "        sub=\"\"\n",
    "    sub=sub+i\n",
    "print(res)"
   ]
  },
  {
   "cell_type": "code",
   "execution_count": 167,
   "id": "7a23cffa",
   "metadata": {},
   "outputs": [
    {
     "name": "stdout",
     "output_type": "stream",
     "text": [
      "abc,123,defg,4,ijkl,\n"
     ]
    }
   ],
   "source": [
    "s=\"abc123defg4ijkl5\"\n",
    "#abc,123,defg,4,jkl,5\n",
    "res=\"\"\n",
    "sub=\"\"\n",
    "for i in s:#a:b:c:1:2:3:d:e\n",
    "    if i.isdigit():\n",
    "        if sub.isdigit():#12.isdigit\n",
    "            pass\n",
    "        else:\n",
    "            res=res+sub+\",\"#res=abc,\n",
    "            sub=\"\"\n",
    "    else:\n",
    "        if sub.isdigit():\n",
    "            res=res+sub+\",\"\n",
    "            sub=\"\"\n",
    "            \n",
    "    sub=sub+i#d\n",
    "print(res)"
   ]
  },
  {
   "cell_type": "code",
   "execution_count": 168,
   "id": "700c9270",
   "metadata": {},
   "outputs": [
    {
     "name": "stdout",
     "output_type": "stream",
     "text": [
      "abc,123,defg,4,ijkl\n"
     ]
    }
   ],
   "source": [
    "s=\"abc123defg4ijkl5\"\n",
    "#abc,123,defg,4,jkl,5\n",
    "res=\"\"\n",
    "sub=\"\"\n",
    "for i in s:#a:b:c:1:2:3:d:e\n",
    "    if i.isdigit():\n",
    "        if sub.isdigit():#12.isdigit\n",
    "            pass\n",
    "        else:\n",
    "            res=res+sub+\",\"#res=abc,\n",
    "            sub=\"\"\n",
    "    else:\n",
    "        if sub.isdigit():\n",
    "            res=res+sub+\",\"\n",
    "            sub=\"\"\n",
    "            \n",
    "    sub=sub+i#d\n",
    "print(res[:-1])"
   ]
  },
  {
   "cell_type": "code",
   "execution_count": 170,
   "id": "c441d384",
   "metadata": {},
   "outputs": [
    {
     "name": "stdout",
     "output_type": "stream",
     "text": [
      "abc,123,defg,4,ijkl,\n"
     ]
    }
   ],
   "source": [
    "s=\"abc123defg4ijkl5\"\n",
    "#abc,123,defg,4,jkl,5\n",
    "res=\"\"\n",
    "sub=\"\"\n",
    "for i in s:#a:b:c:1:2:3:d:e\n",
    "    if i.isdigit():\n",
    "        if sub.isdigit():#12.isdigit\n",
    "            pass\n",
    "        else:\n",
    "            res=res+sub+\",\"#res=abc,\n",
    "            sub=\"\"\n",
    "    else:\n",
    "        if sub.isdigit():\n",
    "            res=res+sub+\",\"\n",
    "            sub=\"\"\n",
    "            \n",
    "    sub=sub+i#d\n",
    "print(res)"
   ]
  },
  {
   "cell_type": "code",
   "execution_count": 171,
   "id": "78539082",
   "metadata": {},
   "outputs": [
    {
     "name": "stdout",
     "output_type": "stream",
     "text": [
      "abc,123,defg,4,ijkl,5\n"
     ]
    }
   ],
   "source": [
    "s=\"abc123defg4ijkl5\"\n",
    "#abc,123,defg,4,jkl,5\n",
    "res=\"\"\n",
    "sub=\"\"\n",
    "for i in s:#a:b:c:1:2:3:d:e\n",
    "    if i.isdigit():\n",
    "        if sub.isdigit():#12.isdigit\n",
    "            pass\n",
    "        else:\n",
    "            res=res+sub+\",\"#res=abc,\n",
    "            sub=\"\"\n",
    "    else:\n",
    "        if sub.isdigit():\n",
    "            res=res+sub+\",\"\n",
    "            sub=\"\"\n",
    "            \n",
    "    sub=sub+i#d\n",
    "res=res+sub\n",
    "print(res)"
   ]
  },
  {
   "cell_type": "code",
   "execution_count": 172,
   "id": "f55e3484",
   "metadata": {},
   "outputs": [
    {
     "name": "stdout",
     "output_type": "stream",
     "text": [
      "[10]\n"
     ]
    }
   ],
   "source": [
    "res=[]\n",
    "res.append(10)\n",
    "print(res)"
   ]
  },
  {
   "cell_type": "code",
   "execution_count": 173,
   "id": "51047f95",
   "metadata": {},
   "outputs": [
    {
     "name": "stdout",
     "output_type": "stream",
     "text": [
      "[10, 20]\n"
     ]
    }
   ],
   "source": [
    "res=[]\n",
    "res.append(10)\n",
    "res.append(20)\n",
    "print(res)"
   ]
  },
  {
   "cell_type": "code",
   "execution_count": 174,
   "id": "f62db2e1",
   "metadata": {},
   "outputs": [
    {
     "name": "stdout",
     "output_type": "stream",
     "text": [
      "abc,123,defg,4,ijkl,5\n",
      "['abc', '123', 'defg', '4', 'ijkl', '5']\n"
     ]
    }
   ],
   "source": [
    "s=\"abc123defg4ijkl5\"\n",
    "#res=[\"abc\",\"123\",\"defg\",\"4\",\"ijkl\",5]\n",
    "s=\"abc123defg4ijkl5\"\n",
    "#abc,123,defg,4,jkl,5\n",
    "res=\"\"\n",
    "sub=\"\"\n",
    "for i in s:#a:b:c:1:2:3:d:e\n",
    "    if i.isdigit():\n",
    "        if sub.isdigit():#12.isdigit\n",
    "            pass\n",
    "        else:\n",
    "            res=res+sub+\",\"#res=abc,\n",
    "            sub=\"\"\n",
    "    else:\n",
    "        if sub.isdigit():\n",
    "            res=res+sub+\",\"\n",
    "            sub=\"\"\n",
    "            \n",
    "    sub=sub+i#d\n",
    "res=res+sub\n",
    "print(res)\n",
    "l=res.split(\",\")\n",
    "print(l)"
   ]
  },
  {
   "cell_type": "code",
   "execution_count": 175,
   "id": "676a9f01",
   "metadata": {},
   "outputs": [
    {
     "name": "stdout",
     "output_type": "stream",
     "text": [
      "kjih^%gfed$#@cba\n"
     ]
    }
   ],
   "source": [
    "s=\"abc@#$defg%^hijk\"\n",
    "#output: kjih%^gfed@#$cba\n",
    "res=\"\"\n",
    "for i in s[::-1]:\n",
    "    res=res+i\n",
    "print(res)\n",
    "    "
   ]
  },
  {
   "cell_type": "code",
   "execution_count": 180,
   "id": "c53233cb",
   "metadata": {},
   "outputs": [
    {
     "name": "stdout",
     "output_type": "stream",
     "text": [
      "kjih%^gfed@#$cba\n"
     ]
    }
   ],
   "source": [
    "s=\"abc@#$defg%^hijk\"\n",
    "res=\"\"\n",
    "su=\"\"\n",
    "for i in s[::-1]:\n",
    "    if not i.isalnum():\n",
    "        sub=sub+i\n",
    "    else:\n",
    "        if sub:\n",
    "            res=res+sub[::-1]\n",
    "            sub=''\n",
    "        res=res+i\n",
    "print(res)\n",
    "    "
   ]
  },
  {
   "cell_type": "code",
   "execution_count": null,
   "id": "140cb823",
   "metadata": {},
   "outputs": [],
   "source": []
  }
 ],
 "metadata": {
  "kernelspec": {
   "display_name": "Python 3 (ipykernel)",
   "language": "python",
   "name": "python3"
  },
  "language_info": {
   "codemirror_mode": {
    "name": "ipython",
    "version": 3
   },
   "file_extension": ".py",
   "mimetype": "text/x-python",
   "name": "python",
   "nbconvert_exporter": "python",
   "pygments_lexer": "ipython3",
   "version": "3.11.3"
  }
 },
 "nbformat": 4,
 "nbformat_minor": 5
}
